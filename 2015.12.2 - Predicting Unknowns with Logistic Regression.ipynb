{
 "cells": [
  {
   "cell_type": "markdown",
   "metadata": {},
   "source": [
    "# Predicting Unknowns with Logistic Regression"
   ]
  },
  {
   "cell_type": "code",
   "execution_count": 12,
   "metadata": {
    "collapsed": true
   },
   "outputs": [],
   "source": [
    "import os\n",
    "os.chdir('C:\\Users\\Lundi\\Documents\\Programming\\Python\\Kaggle\\Titanic - 2015')\n",
    "\n",
    "import pandas as pd\n",
    "import numpy as np\n",
    "\n",
    "%matplotlib inline\n",
    "import matplotlib.pyplot as plt\n",
    "import seaborn as sns\n",
    "from matplotlib.pylab import rcParams\n",
    "rcParams['figure.figsize'] = 12,7\n",
    "\n",
    "import sklearn.linear_model as skl_lm\n",
    "import sklearn.cross_validation as skl_cv\n",
    "import sklearn.preprocessing as skl_pre\n",
    "from sklearn.grid_search import GridSearchCV"
   ]
  },
  {
   "cell_type": "markdown",
   "metadata": {},
   "source": [
    "### Loading the data"
   ]
  },
  {
   "cell_type": "code",
   "execution_count": 21,
   "metadata": {
    "collapsed": true
   },
   "outputs": [],
   "source": [
    "titanic_data_v5 = pd.read_csv('Data/titanic_data_v5.csv')\n",
    "titanic_data_v5 = titanic_data_v5.drop(['Unnamed: 0'], axis=1)\n",
    "titanic_data_v5.head(1)\n",
    "\n",
    "test_data = pd.read_csv('Data/test.csv')"
   ]
  },
  {
   "cell_type": "markdown",
   "metadata": {},
   "source": [
    "### Preprocessing Test Data"
   ]
  },
  {
   "cell_type": "code",
   "execution_count": 64,
   "metadata": {
    "collapsed": true
   },
   "outputs": [],
   "source": [
    "X_test = test_data.drop(['PassengerId', 'Name','Ticket','Cabin'], axis=1)\n",
    "\n",
    "#Sex\n",
    "sex_dummies = pd.get_dummies(X_test['Sex'])\n",
    "X_test['Is_male'] = sex_dummies['male']\n",
    "X_test = X_test.drop(['Sex'], axis=1)\n",
    "\n",
    "#Embarked\n",
    "X_test[['Embarked Q','Embarked S']] = pd.get_dummies(X_test['Embarked']).drop(['C'],axis=1)\n",
    "X_test = X_test.drop(['Embarked'], axis=1)"
   ]
  },
  {
   "cell_type": "markdown",
   "metadata": {},
   "source": [
    "### Imputating ages with linear regression"
   ]
  },
  {
   "cell_type": "code",
   "execution_count": 65,
   "metadata": {
    "collapsed": true
   },
   "outputs": [],
   "source": [
    "def getMissingAges(data):\n",
    "    X = data.dropna()\n",
    "    y = X['Age']\n",
    "    X = X.drop(['Age'], axis=1)\n",
    "    X.head(2)\n",
    "    \n",
    "    lr_reg = skl_lm.LinearRegression()\n",
    "    \n",
    "    lr_reg.fit(X, y)\n",
    "    \n",
    "    #Get missing age data\n",
    "    X_without_age = data.ix[np.isnan(data['Age']),:].drop(['Age'], axis=1)\n",
    "    X_without_age.head(2)\n",
    "    \n",
    "    #Predict\n",
    "    age_predict = lr_reg.predict(X_without_age)\n",
    "    \n",
    "    #Replace any negative predictions with 0.5\n",
    "    age_predict[age_predict < 0] = 0.5\n",
    "    \n",
    "    data_copy = data.copy()\n",
    "    data_copy.ix[np.isnan(data_copy['Age']),'Age'] = age_predict\n",
    "    return data_copy"
   ]
  },
  {
   "cell_type": "code",
   "execution_count": 66,
   "metadata": {
    "collapsed": false
   },
   "outputs": [],
   "source": [
    "X_test_full_ages = getMissingAges(X_test)"
   ]
  },
  {
   "cell_type": "markdown",
   "metadata": {},
   "source": [
    "There's one fare entry that is missing, let's insert the average fare for people in his same class:"
   ]
  },
  {
   "cell_type": "code",
   "execution_count": 68,
   "metadata": {
    "collapsed": false
   },
   "outputs": [],
   "source": [
    "pclasses_of_missing_fares = X_test_full_ages.ix[np.isnan(X_test_full_ages['Fare']),'Pclass']\n",
    "mean_fare_for_pclass = X_test_full_ages.ix[X_test_full_ages['Pclass'] == int(pclasses_of_missing_fares.values), 'Fare'].mean()\n",
    "\n",
    "X_test_full_ages['Fare'] = X_test_full_ages['Fare'].fillna(mean_fare_for_pclass)"
   ]
  },
  {
   "cell_type": "code",
   "execution_count": 69,
   "metadata": {
    "collapsed": false
   },
   "outputs": [
    {
     "data": {
      "text/plain": [
       "Pclass        418\n",
       "Age           418\n",
       "SibSp         418\n",
       "Parch         418\n",
       "Fare          418\n",
       "Is_male       418\n",
       "Embarked Q    418\n",
       "Embarked S    418\n",
       "dtype: int64"
      ]
     },
     "execution_count": 69,
     "metadata": {},
     "output_type": "execute_result"
    }
   ],
   "source": [
    "X_test_full_ages.count()"
   ]
  },
  {
   "cell_type": "markdown",
   "metadata": {},
   "source": [
    "### Building the optimum model"
   ]
  },
  {
   "cell_type": "code",
   "execution_count": 70,
   "metadata": {
    "collapsed": false
   },
   "outputs": [],
   "source": [
    "X = titanic_data_v5.drop(['PassengerId','Survived'], axis=1)\n",
    "y = titanic_data_v5['Survived']\n",
    "\n",
    "scaler = skl_pre.StandardScaler().fit(X)\n",
    "X_scaled = scaler.transform(X)\n",
    "\n",
    "lr_clf = skl_lm.LogisticRegression()\n",
    "\n",
    "gs_params = [\n",
    "    {'penalty': ['l1'], 'C': np.logspace(-4,4, num=50)},\n",
    "    {'penalty': ['l2'], 'C': np.logspace(-4,4, num=50)}\n",
    "]\n",
    "\n",
    "gs_lr_clf = GridSearchCV(lr_clf, param_grid = gs_params, cv=10)\n",
    "gs_lr_clf.fit(X_scaled, y);\n",
    "best_lr_clf = gs_lr_clf.best_estimator_"
   ]
  },
  {
   "cell_type": "markdown",
   "metadata": {},
   "source": [
    "### Predicting Unknowns"
   ]
  },
  {
   "cell_type": "code",
   "execution_count": 72,
   "metadata": {
    "collapsed": false
   },
   "outputs": [],
   "source": [
    "y_pred = best_lr_clf.predict(X_test_full_ages)"
   ]
  },
  {
   "cell_type": "code",
   "execution_count": 84,
   "metadata": {
    "collapsed": false
   },
   "outputs": [
    {
     "data": {
      "text/html": [
       "<div>\n",
       "<table border=\"1\" class=\"dataframe\">\n",
       "  <thead>\n",
       "    <tr style=\"text-align: right;\">\n",
       "      <th></th>\n",
       "      <th>PassengerId</th>\n",
       "      <th>Survived</th>\n",
       "    </tr>\n",
       "  </thead>\n",
       "  <tbody>\n",
       "    <tr>\n",
       "      <th>0</th>\n",
       "      <td>892</td>\n",
       "      <td>0</td>\n",
       "    </tr>\n",
       "    <tr>\n",
       "      <th>1</th>\n",
       "      <td>893</td>\n",
       "      <td>0</td>\n",
       "    </tr>\n",
       "    <tr>\n",
       "      <th>2</th>\n",
       "      <td>894</td>\n",
       "      <td>0</td>\n",
       "    </tr>\n",
       "    <tr>\n",
       "      <th>3</th>\n",
       "      <td>895</td>\n",
       "      <td>0</td>\n",
       "    </tr>\n",
       "    <tr>\n",
       "      <th>4</th>\n",
       "      <td>896</td>\n",
       "      <td>0</td>\n",
       "    </tr>\n",
       "  </tbody>\n",
       "</table>\n",
       "</div>"
      ],
      "text/plain": [
       "   PassengerId  Survived\n",
       "0          892         0\n",
       "1          893         0\n",
       "2          894         0\n",
       "3          895         0\n",
       "4          896         0"
      ]
     },
     "execution_count": 84,
     "metadata": {},
     "output_type": "execute_result"
    }
   ],
   "source": [
    "test_output = pd.DataFrame([test_data['PassengerId'].values, y_pred]).T\n",
    "test_output.columns = ['PassengerId','Survived']\n",
    "test_output.head()"
   ]
  },
  {
   "cell_type": "markdown",
   "metadata": {},
   "source": [
    "### Output Predictions"
   ]
  },
  {
   "cell_type": "code",
   "execution_count": 86,
   "metadata": {
    "collapsed": true
   },
   "outputs": [],
   "source": [
    "test_output.to_csv('Data/test_output.csv', index=False)"
   ]
  },
  {
   "cell_type": "markdown",
   "metadata": {},
   "source": [
    "## Result: 0.636 (Rank: ~3600)"
   ]
  }
 ],
 "metadata": {
  "kernelspec": {
   "display_name": "Python 2",
   "language": "python",
   "name": "python2"
  },
  "language_info": {
   "codemirror_mode": {
    "name": "ipython",
    "version": 2
   },
   "file_extension": ".py",
   "mimetype": "text/x-python",
   "name": "python",
   "nbconvert_exporter": "python",
   "pygments_lexer": "ipython2",
   "version": "2.7.10"
  }
 },
 "nbformat": 4,
 "nbformat_minor": 0
}
