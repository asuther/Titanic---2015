{
 "cells": [
  {
   "cell_type": "markdown",
   "metadata": {},
   "source": [
    "# Bagging"
   ]
  },
  {
   "cell_type": "code",
   "execution_count": 18,
   "metadata": {
    "collapsed": true
   },
   "outputs": [],
   "source": [
    "import os\n",
    "os.chdir('C:\\Users\\Lundi\\Documents\\Programming\\Python\\Kaggle\\Titanic - 2015')\n",
    "#os.chdir('/Users/alexsutherland/Documents/Programming/Python/Kaggle/Titanic---2015')\n",
    "\n",
    "import TitanicPreprocessor as tp\n",
    "import TitanicPredictor as tpred\n",
    "\n",
    "import sklearn.ensemble as skl_ensemble\n",
    "import sklearn.tree as skl_tree\n",
    "import sklearn.cross_validation as skl_cv\n",
    "from sklearn.grid_search import GridSearchCV\n",
    "import numpy as np\n",
    "import pandas as pd\n",
    "\n",
    "%matplotlib inline\n",
    "import matplotlib.pyplot as plt\n",
    "import seaborn as sns\n",
    "\n",
    "X, y, X_final_test, X_test_ids = tp.getData()\n",
    "\n",
    "X_train, X_test, y_train, y_test = skl_cv.train_test_split(X, y, test_size=0.2)"
   ]
  },
  {
   "cell_type": "markdown",
   "metadata": {},
   "source": [
    "## CV scores\n",
    "\n",
    "#### DT stump"
   ]
  },
  {
   "cell_type": "code",
   "execution_count": 13,
   "metadata": {
    "collapsed": false
   },
   "outputs": [
    {
     "name": "stdout",
     "output_type": "stream",
     "text": [
      "Mean Accuracy with Bagging DT stumps:  0.786698161389\n"
     ]
    }
   ],
   "source": [
    "dt_stump_clf = skl_tree.DecisionTreeClassifier(max_depth=1, criterion='entropy')\n",
    "\n",
    "bag_dt_stump_clf = skl_ensemble.BaggingClassifier(\n",
    "    base_estimator=dt_stump_clf, \n",
    "    n_estimators=5000\n",
    ")\n",
    "\n",
    "dt_stump_mean_cv_accuracy = np.mean(skl_cv.cross_val_score(bag_dt_stump_clf, X, y, cv=10))\n",
    "print 'Mean Accuracy with Bagging DT stumps: ', dt_stump_mean_cv_accuracy"
   ]
  },
  {
   "cell_type": "markdown",
   "metadata": {},
   "source": [
    "#### Large DTs"
   ]
  },
  {
   "cell_type": "code",
   "execution_count": 17,
   "metadata": {
    "collapsed": false
   },
   "outputs": [
    {
     "name": "stdout",
     "output_type": "stream",
     "text": [
      "Mean Accuracy with Bagging DT stumps:  0.825065259335\n"
     ]
    }
   ],
   "source": [
    "dt_clf = skl_tree.DecisionTreeClassifier(criterion='entropy')\n",
    "\n",
    "bag_dt_clf = skl_ensemble.BaggingClassifier(\n",
    "    base_estimator=dt_clf, \n",
    "    n_estimators=5000\n",
    ")\n",
    "\n",
    "dt_mean_cv_accuracy = np.mean(skl_cv.cross_val_score(bag_dt_clf, X, y, cv=10))\n",
    "print 'Mean Accuracy with Bagging DT stumps: ', dt_mean_cv_accuracy"
   ]
  },
  {
   "cell_type": "markdown",
   "metadata": {},
   "source": [
    "This shows that bagging with larger DTs is quite good. Let's try this out on the test data:"
   ]
  },
  {
   "cell_type": "code",
   "execution_count": 20,
   "metadata": {
    "collapsed": false
   },
   "outputs": [
    {
     "data": {
      "text/plain": [
       "BaggingClassifier(base_estimator=DecisionTreeClassifier(class_weight=None, criterion='entropy', max_depth=None,\n",
       "            max_features=None, max_leaf_nodes=None, min_samples_leaf=1,\n",
       "            min_samples_split=2, min_weight_fraction_leaf=0.0,\n",
       "            presort=False, random_state=None, splitter='best'),\n",
       "         bootstrap=True, bootstrap_features=False, max_features=1.0,\n",
       "         max_samples=1.0, n_estimators=5000, n_jobs=1, oob_score=False,\n",
       "         random_state=None, verbose=0, warm_start=False)"
      ]
     },
     "execution_count": 20,
     "metadata": {},
     "output_type": "execute_result"
    }
   ],
   "source": [
    "bag_dt_clf.fit(X, y)\n",
    "\n",
    "tpred.predictAndExport(bag_dt_clf, X_final_test, X_test_ids)"
   ]
  },
  {
   "cell_type": "markdown",
   "metadata": {},
   "source": [
    "Test Accuracy: 0.74163"
   ]
  }
 ],
 "metadata": {
  "kernelspec": {
   "display_name": "Python 2",
   "language": "python",
   "name": "python2"
  },
  "language_info": {
   "codemirror_mode": {
    "name": "ipython",
    "version": 2
   },
   "file_extension": ".py",
   "mimetype": "text/x-python",
   "name": "python",
   "nbconvert_exporter": "python",
   "pygments_lexer": "ipython2",
   "version": "2.7.10"
  }
 },
 "nbformat": 4,
 "nbformat_minor": 0
}
