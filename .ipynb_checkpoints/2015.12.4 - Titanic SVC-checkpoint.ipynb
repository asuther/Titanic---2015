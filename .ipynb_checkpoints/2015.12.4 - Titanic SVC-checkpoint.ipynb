{
 "cells": [
  {
   "cell_type": "markdown",
   "metadata": {},
   "source": [
    "# Titanic SVC"
   ]
  },
  {
   "cell_type": "code",
   "execution_count": 2,
   "metadata": {
    "collapsed": false
   },
   "outputs": [],
   "source": [
    "import os\n",
    "os.chdir('C:\\Users\\Lundi\\Documents\\Programming\\Python\\Kaggle\\Titanic - 2015')\n",
    "#os.chdir('/Users/alexsutherland/Documents/Programming/Python/Kaggle/Titanic---2015')\n",
    "\n",
    "import TitanicPreprocessor as tp\n",
    "import TitanicPredictor as tpred\n",
    "import sklearn.svm as skl_svm\n",
    "from sklearn.grid_search import GridSearchCV\n",
    "import numpy as np\n",
    "import pandas as pd\n",
    "\n",
    "%matplotlib inline\n",
    "import matplotlib.pyplot as plt\n",
    "import seaborn as sns\n",
    "\n",
    "X_train, y_train, X_test, X_test_ids = tp.getData()"
   ]
  },
  {
   "cell_type": "code",
   "execution_count": 5,
   "metadata": {
    "collapsed": true
   },
   "outputs": [],
   "source": [
    "skl_svc = skl_svm.SVC()\n",
    "\n",
    "gs_svm_params = [\n",
    "    {'C': np.logspace(-10,10,num=5), 'kernel': ['poly'], 'degree': [2,3,4]}\n",
    "]"
   ]
  },
  {
   "cell_type": "code",
   "execution_count": null,
   "metadata": {
    "collapsed": false
   },
   "outputs": [],
   "source": [
    "gs_svc_clf = GridSearchCV(skl_svc, param_grid=gs_svm_params, cv=10)\n",
    "gs_svc_clf.fit(X_train, y_train)"
   ]
  },
  {
   "cell_type": "code",
   "execution_count": null,
   "metadata": {
    "collapsed": false
   },
   "outputs": [],
   "source": [
    "gs_svc_clf_results = []\n",
    "for params, mean_score, scores in gs_svc_clf.grid_scores_:\n",
    "    print('Score: %0.3f+/-%0.2f %r' % (mean_score, np.std(scores), params))\n",
    "    gs_svc_clf_results.append(params['C'], params['degree'], mean_score, np.std(scores))\n",
    "gs_svm_clf_results_df = pd.DataFrame(gs_svc_clf_results)\n",
    "gs_svm_clf_results_df.head()"
   ]
  },
  {
   "cell_type": "code",
   "execution_count": null,
   "metadata": {
    "collapsed": true
   },
   "outputs": [],
   "source": []
  }
 ],
 "metadata": {
  "kernelspec": {
   "display_name": "Python 2",
   "language": "python",
   "name": "python2"
  },
  "language_info": {
   "codemirror_mode": {
    "name": "ipython",
    "version": 2
   },
   "file_extension": ".py",
   "mimetype": "text/x-python",
   "name": "python",
   "nbconvert_exporter": "python",
   "pygments_lexer": "ipython2",
   "version": "2.7.10"
  }
 },
 "nbformat": 4,
 "nbformat_minor": 0
}
