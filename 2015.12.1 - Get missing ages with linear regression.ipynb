{
 "cells": [
  {
   "cell_type": "markdown",
   "metadata": {},
   "source": [
    "# Get missing ages with linear regression"
   ]
  },
  {
   "cell_type": "code",
   "execution_count": 39,
   "metadata": {
    "collapsed": false
   },
   "outputs": [
    {
     "data": {
      "text/html": [
       "<div>\n",
       "<table border=\"1\" class=\"dataframe\">\n",
       "  <thead>\n",
       "    <tr style=\"text-align: right;\">\n",
       "      <th></th>\n",
       "      <th>PassengerId</th>\n",
       "      <th>Survived</th>\n",
       "      <th>Pclass</th>\n",
       "      <th>Age</th>\n",
       "      <th>SibSp</th>\n",
       "      <th>Parch</th>\n",
       "      <th>Fare</th>\n",
       "      <th>Is_male</th>\n",
       "      <th>Embarked Q</th>\n",
       "      <th>Embarked S</th>\n",
       "    </tr>\n",
       "  </thead>\n",
       "  <tbody>\n",
       "    <tr>\n",
       "      <th>0</th>\n",
       "      <td>1</td>\n",
       "      <td>0</td>\n",
       "      <td>3</td>\n",
       "      <td>22</td>\n",
       "      <td>1</td>\n",
       "      <td>0</td>\n",
       "      <td>7.25</td>\n",
       "      <td>1</td>\n",
       "      <td>0</td>\n",
       "      <td>1</td>\n",
       "    </tr>\n",
       "  </tbody>\n",
       "</table>\n",
       "</div>"
      ],
      "text/plain": [
       "   PassengerId  Survived  Pclass  Age  SibSp  Parch  Fare  Is_male  \\\n",
       "0            1         0       3   22      1      0  7.25        1   \n",
       "\n",
       "   Embarked Q  Embarked S  \n",
       "0           0           1  "
      ]
     },
     "execution_count": 39,
     "metadata": {},
     "output_type": "execute_result"
    }
   ],
   "source": [
    "import os\n",
    "os.chdir('C:\\Users\\Lundi\\Documents\\Programming\\Python\\Kaggle\\Titanic - 2015')\n",
    "\n",
    "%matplotlib inline\n",
    "import pandas as pd\n",
    "import numpy as np\n",
    "import matplotlib.pyplot as plt\n",
    "import seaborn as sns\n",
    "\n",
    "titanic_data_v4 = pd.read_csv('Data/titanic_data_v4.csv')\n",
    "titanic_data_v4 = titanic_data_v4.drop(['Unnamed: 0'], axis=1)\n",
    "titanic_data_v4.head(1)"
   ]
  },
  {
   "cell_type": "markdown",
   "metadata": {},
   "source": [
    "## Preparing data"
   ]
  },
  {
   "cell_type": "code",
   "execution_count": 27,
   "metadata": {
    "collapsed": false
   },
   "outputs": [
    {
     "data": {
      "text/plain": [
       "PassengerId    891\n",
       "Survived       891\n",
       "Pclass         891\n",
       "Age            714\n",
       "SibSp          891\n",
       "Parch          891\n",
       "Fare           891\n",
       "Is_male        891\n",
       "Embarked Q     891\n",
       "Embarked S     891\n",
       "dtype: int64"
      ]
     },
     "execution_count": 27,
     "metadata": {},
     "output_type": "execute_result"
    }
   ],
   "source": [
    "titanic_data_v4.count()"
   ]
  },
  {
   "cell_type": "markdown",
   "metadata": {},
   "source": [
    "I want a design matrix with only passengers that had ages. This will be used to train a linear regression model that will then predict the ages of passengers with missing ages.\n",
    "\n",
    "First, let's make that design matrix:"
   ]
  },
  {
   "cell_type": "code",
   "execution_count": 28,
   "metadata": {
    "collapsed": false
   },
   "outputs": [
    {
     "data": {
      "text/html": [
       "<div>\n",
       "<table border=\"1\" class=\"dataframe\">\n",
       "  <thead>\n",
       "    <tr style=\"text-align: right;\">\n",
       "      <th></th>\n",
       "      <th>Pclass</th>\n",
       "      <th>SibSp</th>\n",
       "      <th>Parch</th>\n",
       "      <th>Fare</th>\n",
       "      <th>Is_male</th>\n",
       "      <th>Embarked Q</th>\n",
       "      <th>Embarked S</th>\n",
       "    </tr>\n",
       "  </thead>\n",
       "  <tbody>\n",
       "    <tr>\n",
       "      <th>0</th>\n",
       "      <td>3</td>\n",
       "      <td>1</td>\n",
       "      <td>0</td>\n",
       "      <td>7.2500</td>\n",
       "      <td>1</td>\n",
       "      <td>0</td>\n",
       "      <td>1</td>\n",
       "    </tr>\n",
       "    <tr>\n",
       "      <th>1</th>\n",
       "      <td>1</td>\n",
       "      <td>1</td>\n",
       "      <td>0</td>\n",
       "      <td>71.2833</td>\n",
       "      <td>0</td>\n",
       "      <td>0</td>\n",
       "      <td>0</td>\n",
       "    </tr>\n",
       "  </tbody>\n",
       "</table>\n",
       "</div>"
      ],
      "text/plain": [
       "   Pclass  SibSp  Parch     Fare  Is_male  Embarked Q  Embarked S\n",
       "0       3      1      0   7.2500        1           0           1\n",
       "1       1      1      0  71.2833        0           0           0"
      ]
     },
     "execution_count": 28,
     "metadata": {},
     "output_type": "execute_result"
    }
   ],
   "source": [
    "X = titanic_data_v4.dropna().drop(['PassengerId','Survived'], axis=1)\n",
    "y = X['Age']\n",
    "X = X.drop(['Age'], axis=1)\n",
    "X.head(2)"
   ]
  },
  {
   "cell_type": "code",
   "execution_count": 29,
   "metadata": {
    "collapsed": false
   },
   "outputs": [
    {
     "data": {
      "text/plain": [
       "0    22\n",
       "1    38\n",
       "2    26\n",
       "3    35\n",
       "4    35\n",
       "Name: Age, dtype: float64"
      ]
     },
     "execution_count": 29,
     "metadata": {},
     "output_type": "execute_result"
    }
   ],
   "source": [
    "y.head()"
   ]
  },
  {
   "cell_type": "markdown",
   "metadata": {},
   "source": [
    "#### X Data with missing ages (to predict)"
   ]
  },
  {
   "cell_type": "code",
   "execution_count": 30,
   "metadata": {
    "collapsed": false
   },
   "outputs": [
    {
     "data": {
      "text/html": [
       "<div>\n",
       "<table border=\"1\" class=\"dataframe\">\n",
       "  <thead>\n",
       "    <tr style=\"text-align: right;\">\n",
       "      <th></th>\n",
       "      <th>Pclass</th>\n",
       "      <th>SibSp</th>\n",
       "      <th>Parch</th>\n",
       "      <th>Fare</th>\n",
       "      <th>Is_male</th>\n",
       "      <th>Embarked Q</th>\n",
       "      <th>Embarked S</th>\n",
       "    </tr>\n",
       "  </thead>\n",
       "  <tbody>\n",
       "    <tr>\n",
       "      <th>5</th>\n",
       "      <td>3</td>\n",
       "      <td>0</td>\n",
       "      <td>0</td>\n",
       "      <td>8.4583</td>\n",
       "      <td>1</td>\n",
       "      <td>1</td>\n",
       "      <td>0</td>\n",
       "    </tr>\n",
       "    <tr>\n",
       "      <th>17</th>\n",
       "      <td>2</td>\n",
       "      <td>0</td>\n",
       "      <td>0</td>\n",
       "      <td>13.0000</td>\n",
       "      <td>1</td>\n",
       "      <td>0</td>\n",
       "      <td>1</td>\n",
       "    </tr>\n",
       "  </tbody>\n",
       "</table>\n",
       "</div>"
      ],
      "text/plain": [
       "    Pclass  SibSp  Parch     Fare  Is_male  Embarked Q  Embarked S\n",
       "5        3      0      0   8.4583        1           1           0\n",
       "17       2      0      0  13.0000        1           0           1"
      ]
     },
     "execution_count": 30,
     "metadata": {},
     "output_type": "execute_result"
    }
   ],
   "source": [
    "X_without_age = titanic_data_v4.ix[np.isnan(titanic_data_v4['Age']),:].drop(['PassengerId','Survived','Age'], axis=1)\n",
    "X_without_age.head(2)"
   ]
  },
  {
   "cell_type": "markdown",
   "metadata": {},
   "source": [
    "## Using linear regression to get missing ages"
   ]
  },
  {
   "cell_type": "code",
   "execution_count": 31,
   "metadata": {
    "collapsed": true
   },
   "outputs": [],
   "source": [
    "import sklearn.linear_model as skl_lm\n",
    "import sklearn.cross_validation as skl_cv\n",
    "lr_reg = skl_lm.LinearRegression()\n",
    "\n",
    "lr_reg.fit(X, y)\n",
    "\n",
    "age_predict = lr_reg.predict(X_without_age)"
   ]
  },
  {
   "cell_type": "code",
   "execution_count": 32,
   "metadata": {
    "collapsed": false
   },
   "outputs": [
    {
     "data": {
      "text/plain": [
       "array([ 31.27574649,  35.48942462,  23.10097007,  26.30288574,\n",
       "        28.08226328,  28.32100301,  31.67130061,  28.0841446 ,\n",
       "        26.30282458,  26.29311801,  28.31875766,  27.28637915,\n",
       "        28.0841446 ,  18.31875173,  42.40454057,  40.48993092,\n",
       "        21.51451006,  28.32100301,  28.31875766,  28.08359855,\n",
       "        28.31875766,  28.31875766,  28.32100301,  28.32276202,\n",
       "        23.95850815,  28.31875766,  31.28606026,  18.20902708,\n",
       "        21.414674  ,  28.32949663,  28.30983886,  -5.24091331,\n",
       "        38.13392799,  42.54396512,  15.61990345,  -8.44282898,\n",
       "        33.43168893,  42.19340157,  24.08446348,  31.28606026,\n",
       "        28.0841446 ,  -5.24091331,  27.39922931,  28.32100301,\n",
       "        12.41798778,  25.12412265,  19.10887249,  24.08446348,\n",
       "        28.33040671,  36.53841064,  31.28606026,  28.0841446 ,\n",
       "        42.47006647,  28.0841446 ,  35.67872165,  42.54287302,\n",
       "        40.48993092,  42.47734712,  28.0841446 ,  23.28669804,\n",
       "        35.25990801,  28.31875766,  36.07706027,  -5.24091331,\n",
       "        20.08478237,  33.88660133,  28.32100301,  21.11279248,\n",
       "        42.41182123,  26.30288574,  28.08226328,  28.08226328,\n",
       "        27.28637915,  23.10090891,  28.0841446 ,  32.60832094,\n",
       "        28.32100301,  31.28636314,  12.41798778,  28.32100301,\n",
       "        31.29904459,  35.67872165,  25.11684199,  26.29311801,\n",
       "        28.33040671,  31.28606026,  21.11279248,  28.31784758,\n",
       "        24.25840393,  28.31875766,  35.0775345 ,  31.28606026,\n",
       "        28.31875766,  35.67872165,  31.2864243 ,  28.33040671,\n",
       "        42.16427895,  35.67872165,  12.41798778,  24.25840393,\n",
       "        26.19755941,  28.21610042,  28.0859036 ,  42.5348643 ,\n",
       "        28.31875766,  31.04725477,  26.30288574,  26.30282458,\n",
       "        39.69207131,  26.30282458,  21.31110668,  28.22483721,\n",
       "        33.44898048,  31.28490701,  37.58051993,  31.28606026,\n",
       "        28.31875766,  25.11684199,  26.30282458,  28.0841446 ,\n",
       "        19.10881279,  26.28122579,  28.31875766,  26.51464188,\n",
       "        31.99628274,  26.30288574,  28.32100301,  42.30406753,\n",
       "        28.33331897,  24.08446348,  31.28606026,  31.28630344,\n",
       "        42.92146709,  24.31470815,  27.61332333,  28.32603831,\n",
       "        28.32100301,  28.08299134,  28.32100301,  28.32276202,\n",
       "        35.07553232,  35.67872165,  28.07850209,  27.61332333,\n",
       "        28.08438777,  21.51451006,  42.5348643 ,  31.17321011,\n",
       "        28.08432661,  35.67872165,  28.32100301,  28.32100301,\n",
       "        42.48462778,  28.22483721,  40.3169542 ,  27.16042382,\n",
       "        26.30288574,  31.28606026,  31.28624228,  22.63817981,\n",
       "        31.28606026,  -8.44282898,  40.44661102,  42.92146709,\n",
       "        31.29770931,  27.61332333,  31.28606026,  26.30282458,\n",
       "        28.31875766,  40.46111117,  -5.24091331,  32.50736155,\n",
       "        26.30282458,  -8.44282898,  28.29764376,  28.32100301,  19.43626414])"
      ]
     },
     "execution_count": 32,
     "metadata": {},
     "output_type": "execute_result"
    }
   ],
   "source": [
    "age_predict"
   ]
  },
  {
   "cell_type": "markdown",
   "metadata": {},
   "source": [
    "Many of the ages are less than zero. Let's assign these values of 0.5, assuming theey are all todlers:"
   ]
  },
  {
   "cell_type": "code",
   "execution_count": 33,
   "metadata": {
    "collapsed": false
   },
   "outputs": [
    {
     "data": {
      "text/plain": [
       "array([ 31.27574649,  35.48942462,  23.10097007,  26.30288574,\n",
       "        28.08226328,  28.32100301,  31.67130061,  28.0841446 ,\n",
       "        26.30282458,  26.29311801,  28.31875766,  27.28637915,\n",
       "        28.0841446 ,  18.31875173,  42.40454057,  40.48993092,\n",
       "        21.51451006,  28.32100301,  28.31875766,  28.08359855,\n",
       "        28.31875766,  28.31875766,  28.32100301,  28.32276202,\n",
       "        23.95850815,  28.31875766,  31.28606026,  18.20902708,\n",
       "        21.414674  ,  28.32949663,  28.30983886,   0.5       ,\n",
       "        38.13392799,  42.54396512,  15.61990345,   0.5       ,\n",
       "        33.43168893,  42.19340157,  24.08446348,  31.28606026,\n",
       "        28.0841446 ,   0.5       ,  27.39922931,  28.32100301,\n",
       "        12.41798778,  25.12412265,  19.10887249,  24.08446348,\n",
       "        28.33040671,  36.53841064,  31.28606026,  28.0841446 ,\n",
       "        42.47006647,  28.0841446 ,  35.67872165,  42.54287302,\n",
       "        40.48993092,  42.47734712,  28.0841446 ,  23.28669804,\n",
       "        35.25990801,  28.31875766,  36.07706027,   0.5       ,\n",
       "        20.08478237,  33.88660133,  28.32100301,  21.11279248,\n",
       "        42.41182123,  26.30288574,  28.08226328,  28.08226328,\n",
       "        27.28637915,  23.10090891,  28.0841446 ,  32.60832094,\n",
       "        28.32100301,  31.28636314,  12.41798778,  28.32100301,\n",
       "        31.29904459,  35.67872165,  25.11684199,  26.29311801,\n",
       "        28.33040671,  31.28606026,  21.11279248,  28.31784758,\n",
       "        24.25840393,  28.31875766,  35.0775345 ,  31.28606026,\n",
       "        28.31875766,  35.67872165,  31.2864243 ,  28.33040671,\n",
       "        42.16427895,  35.67872165,  12.41798778,  24.25840393,\n",
       "        26.19755941,  28.21610042,  28.0859036 ,  42.5348643 ,\n",
       "        28.31875766,  31.04725477,  26.30288574,  26.30282458,\n",
       "        39.69207131,  26.30282458,  21.31110668,  28.22483721,\n",
       "        33.44898048,  31.28490701,  37.58051993,  31.28606026,\n",
       "        28.31875766,  25.11684199,  26.30282458,  28.0841446 ,\n",
       "        19.10881279,  26.28122579,  28.31875766,  26.51464188,\n",
       "        31.99628274,  26.30288574,  28.32100301,  42.30406753,\n",
       "        28.33331897,  24.08446348,  31.28606026,  31.28630344,\n",
       "        42.92146709,  24.31470815,  27.61332333,  28.32603831,\n",
       "        28.32100301,  28.08299134,  28.32100301,  28.32276202,\n",
       "        35.07553232,  35.67872165,  28.07850209,  27.61332333,\n",
       "        28.08438777,  21.51451006,  42.5348643 ,  31.17321011,\n",
       "        28.08432661,  35.67872165,  28.32100301,  28.32100301,\n",
       "        42.48462778,  28.22483721,  40.3169542 ,  27.16042382,\n",
       "        26.30288574,  31.28606026,  31.28624228,  22.63817981,\n",
       "        31.28606026,   0.5       ,  40.44661102,  42.92146709,\n",
       "        31.29770931,  27.61332333,  31.28606026,  26.30282458,\n",
       "        28.31875766,  40.46111117,   0.5       ,  32.50736155,\n",
       "        26.30282458,   0.5       ,  28.29764376,  28.32100301,  19.43626414])"
      ]
     },
     "execution_count": 33,
     "metadata": {},
     "output_type": "execute_result"
    }
   ],
   "source": [
    "age_predict[age_predict < 0] = 0.5\n",
    "age_predict"
   ]
  },
  {
   "cell_type": "markdown",
   "metadata": {},
   "source": [
    "Let's insert these ages into the original titanic data:"
   ]
  },
  {
   "cell_type": "code",
   "execution_count": 34,
   "metadata": {
    "collapsed": false
   },
   "outputs": [
    {
     "data": {
      "text/html": [
       "<div>\n",
       "<table border=\"1\" class=\"dataframe\">\n",
       "  <thead>\n",
       "    <tr style=\"text-align: right;\">\n",
       "      <th></th>\n",
       "      <th>PassengerId</th>\n",
       "      <th>Survived</th>\n",
       "      <th>Pclass</th>\n",
       "      <th>Age</th>\n",
       "      <th>SibSp</th>\n",
       "      <th>Parch</th>\n",
       "      <th>Fare</th>\n",
       "      <th>Is_male</th>\n",
       "      <th>Embarked Q</th>\n",
       "      <th>Embarked S</th>\n",
       "    </tr>\n",
       "  </thead>\n",
       "  <tbody>\n",
       "    <tr>\n",
       "      <th>0</th>\n",
       "      <td>1</td>\n",
       "      <td>0</td>\n",
       "      <td>3</td>\n",
       "      <td>22.000000</td>\n",
       "      <td>1</td>\n",
       "      <td>0</td>\n",
       "      <td>7.2500</td>\n",
       "      <td>1</td>\n",
       "      <td>0</td>\n",
       "      <td>1</td>\n",
       "    </tr>\n",
       "    <tr>\n",
       "      <th>1</th>\n",
       "      <td>2</td>\n",
       "      <td>1</td>\n",
       "      <td>1</td>\n",
       "      <td>38.000000</td>\n",
       "      <td>1</td>\n",
       "      <td>0</td>\n",
       "      <td>71.2833</td>\n",
       "      <td>0</td>\n",
       "      <td>0</td>\n",
       "      <td>0</td>\n",
       "    </tr>\n",
       "    <tr>\n",
       "      <th>2</th>\n",
       "      <td>3</td>\n",
       "      <td>1</td>\n",
       "      <td>3</td>\n",
       "      <td>26.000000</td>\n",
       "      <td>0</td>\n",
       "      <td>0</td>\n",
       "      <td>7.9250</td>\n",
       "      <td>0</td>\n",
       "      <td>0</td>\n",
       "      <td>1</td>\n",
       "    </tr>\n",
       "    <tr>\n",
       "      <th>3</th>\n",
       "      <td>4</td>\n",
       "      <td>1</td>\n",
       "      <td>1</td>\n",
       "      <td>35.000000</td>\n",
       "      <td>1</td>\n",
       "      <td>0</td>\n",
       "      <td>53.1000</td>\n",
       "      <td>0</td>\n",
       "      <td>0</td>\n",
       "      <td>1</td>\n",
       "    </tr>\n",
       "    <tr>\n",
       "      <th>4</th>\n",
       "      <td>5</td>\n",
       "      <td>0</td>\n",
       "      <td>3</td>\n",
       "      <td>35.000000</td>\n",
       "      <td>0</td>\n",
       "      <td>0</td>\n",
       "      <td>8.0500</td>\n",
       "      <td>1</td>\n",
       "      <td>0</td>\n",
       "      <td>1</td>\n",
       "    </tr>\n",
       "    <tr>\n",
       "      <th>5</th>\n",
       "      <td>6</td>\n",
       "      <td>0</td>\n",
       "      <td>3</td>\n",
       "      <td>31.275746</td>\n",
       "      <td>0</td>\n",
       "      <td>0</td>\n",
       "      <td>8.4583</td>\n",
       "      <td>1</td>\n",
       "      <td>1</td>\n",
       "      <td>0</td>\n",
       "    </tr>\n",
       "    <tr>\n",
       "      <th>6</th>\n",
       "      <td>7</td>\n",
       "      <td>0</td>\n",
       "      <td>1</td>\n",
       "      <td>54.000000</td>\n",
       "      <td>0</td>\n",
       "      <td>0</td>\n",
       "      <td>51.8625</td>\n",
       "      <td>1</td>\n",
       "      <td>0</td>\n",
       "      <td>1</td>\n",
       "    </tr>\n",
       "    <tr>\n",
       "      <th>7</th>\n",
       "      <td>8</td>\n",
       "      <td>0</td>\n",
       "      <td>3</td>\n",
       "      <td>2.000000</td>\n",
       "      <td>3</td>\n",
       "      <td>1</td>\n",
       "      <td>21.0750</td>\n",
       "      <td>1</td>\n",
       "      <td>0</td>\n",
       "      <td>1</td>\n",
       "    </tr>\n",
       "    <tr>\n",
       "      <th>8</th>\n",
       "      <td>9</td>\n",
       "      <td>1</td>\n",
       "      <td>3</td>\n",
       "      <td>27.000000</td>\n",
       "      <td>0</td>\n",
       "      <td>2</td>\n",
       "      <td>11.1333</td>\n",
       "      <td>0</td>\n",
       "      <td>0</td>\n",
       "      <td>1</td>\n",
       "    </tr>\n",
       "    <tr>\n",
       "      <th>9</th>\n",
       "      <td>10</td>\n",
       "      <td>1</td>\n",
       "      <td>2</td>\n",
       "      <td>14.000000</td>\n",
       "      <td>1</td>\n",
       "      <td>0</td>\n",
       "      <td>30.0708</td>\n",
       "      <td>0</td>\n",
       "      <td>0</td>\n",
       "      <td>0</td>\n",
       "    </tr>\n",
       "  </tbody>\n",
       "</table>\n",
       "</div>"
      ],
      "text/plain": [
       "   PassengerId  Survived  Pclass        Age  SibSp  Parch     Fare  Is_male  \\\n",
       "0            1         0       3  22.000000      1      0   7.2500        1   \n",
       "1            2         1       1  38.000000      1      0  71.2833        0   \n",
       "2            3         1       3  26.000000      0      0   7.9250        0   \n",
       "3            4         1       1  35.000000      1      0  53.1000        0   \n",
       "4            5         0       3  35.000000      0      0   8.0500        1   \n",
       "5            6         0       3  31.275746      0      0   8.4583        1   \n",
       "6            7         0       1  54.000000      0      0  51.8625        1   \n",
       "7            8         0       3   2.000000      3      1  21.0750        1   \n",
       "8            9         1       3  27.000000      0      2  11.1333        0   \n",
       "9           10         1       2  14.000000      1      0  30.0708        0   \n",
       "\n",
       "   Embarked Q  Embarked S  \n",
       "0           0           1  \n",
       "1           0           0  \n",
       "2           0           1  \n",
       "3           0           1  \n",
       "4           0           1  \n",
       "5           1           0  \n",
       "6           0           1  \n",
       "7           0           1  \n",
       "8           0           1  \n",
       "9           0           0  "
      ]
     },
     "execution_count": 34,
     "metadata": {},
     "output_type": "execute_result"
    }
   ],
   "source": [
    "titanic_data_v5 = titanic_data_v4.copy()\n",
    "titanic_data_v5.ix[np.isnan(titanic_data_v5['Age']),'Age'] = age_predict\n",
    "titanic_data_v5.head(10)"
   ]
  },
  {
   "cell_type": "markdown",
   "metadata": {},
   "source": [
    "Comparing this to the original table..."
   ]
  },
  {
   "cell_type": "code",
   "execution_count": 35,
   "metadata": {
    "collapsed": false
   },
   "outputs": [
    {
     "data": {
      "text/html": [
       "<div>\n",
       "<table border=\"1\" class=\"dataframe\">\n",
       "  <thead>\n",
       "    <tr style=\"text-align: right;\">\n",
       "      <th></th>\n",
       "      <th>PassengerId</th>\n",
       "      <th>Survived</th>\n",
       "      <th>Pclass</th>\n",
       "      <th>Age</th>\n",
       "      <th>SibSp</th>\n",
       "      <th>Parch</th>\n",
       "      <th>Fare</th>\n",
       "      <th>Is_male</th>\n",
       "      <th>Embarked Q</th>\n",
       "      <th>Embarked S</th>\n",
       "    </tr>\n",
       "  </thead>\n",
       "  <tbody>\n",
       "    <tr>\n",
       "      <th>0</th>\n",
       "      <td>1</td>\n",
       "      <td>0</td>\n",
       "      <td>3</td>\n",
       "      <td>22</td>\n",
       "      <td>1</td>\n",
       "      <td>0</td>\n",
       "      <td>7.2500</td>\n",
       "      <td>1</td>\n",
       "      <td>0</td>\n",
       "      <td>1</td>\n",
       "    </tr>\n",
       "    <tr>\n",
       "      <th>1</th>\n",
       "      <td>2</td>\n",
       "      <td>1</td>\n",
       "      <td>1</td>\n",
       "      <td>38</td>\n",
       "      <td>1</td>\n",
       "      <td>0</td>\n",
       "      <td>71.2833</td>\n",
       "      <td>0</td>\n",
       "      <td>0</td>\n",
       "      <td>0</td>\n",
       "    </tr>\n",
       "    <tr>\n",
       "      <th>2</th>\n",
       "      <td>3</td>\n",
       "      <td>1</td>\n",
       "      <td>3</td>\n",
       "      <td>26</td>\n",
       "      <td>0</td>\n",
       "      <td>0</td>\n",
       "      <td>7.9250</td>\n",
       "      <td>0</td>\n",
       "      <td>0</td>\n",
       "      <td>1</td>\n",
       "    </tr>\n",
       "    <tr>\n",
       "      <th>3</th>\n",
       "      <td>4</td>\n",
       "      <td>1</td>\n",
       "      <td>1</td>\n",
       "      <td>35</td>\n",
       "      <td>1</td>\n",
       "      <td>0</td>\n",
       "      <td>53.1000</td>\n",
       "      <td>0</td>\n",
       "      <td>0</td>\n",
       "      <td>1</td>\n",
       "    </tr>\n",
       "    <tr>\n",
       "      <th>4</th>\n",
       "      <td>5</td>\n",
       "      <td>0</td>\n",
       "      <td>3</td>\n",
       "      <td>35</td>\n",
       "      <td>0</td>\n",
       "      <td>0</td>\n",
       "      <td>8.0500</td>\n",
       "      <td>1</td>\n",
       "      <td>0</td>\n",
       "      <td>1</td>\n",
       "    </tr>\n",
       "    <tr>\n",
       "      <th>5</th>\n",
       "      <td>6</td>\n",
       "      <td>0</td>\n",
       "      <td>3</td>\n",
       "      <td>NaN</td>\n",
       "      <td>0</td>\n",
       "      <td>0</td>\n",
       "      <td>8.4583</td>\n",
       "      <td>1</td>\n",
       "      <td>1</td>\n",
       "      <td>0</td>\n",
       "    </tr>\n",
       "    <tr>\n",
       "      <th>6</th>\n",
       "      <td>7</td>\n",
       "      <td>0</td>\n",
       "      <td>1</td>\n",
       "      <td>54</td>\n",
       "      <td>0</td>\n",
       "      <td>0</td>\n",
       "      <td>51.8625</td>\n",
       "      <td>1</td>\n",
       "      <td>0</td>\n",
       "      <td>1</td>\n",
       "    </tr>\n",
       "    <tr>\n",
       "      <th>7</th>\n",
       "      <td>8</td>\n",
       "      <td>0</td>\n",
       "      <td>3</td>\n",
       "      <td>2</td>\n",
       "      <td>3</td>\n",
       "      <td>1</td>\n",
       "      <td>21.0750</td>\n",
       "      <td>1</td>\n",
       "      <td>0</td>\n",
       "      <td>1</td>\n",
       "    </tr>\n",
       "    <tr>\n",
       "      <th>8</th>\n",
       "      <td>9</td>\n",
       "      <td>1</td>\n",
       "      <td>3</td>\n",
       "      <td>27</td>\n",
       "      <td>0</td>\n",
       "      <td>2</td>\n",
       "      <td>11.1333</td>\n",
       "      <td>0</td>\n",
       "      <td>0</td>\n",
       "      <td>1</td>\n",
       "    </tr>\n",
       "    <tr>\n",
       "      <th>9</th>\n",
       "      <td>10</td>\n",
       "      <td>1</td>\n",
       "      <td>2</td>\n",
       "      <td>14</td>\n",
       "      <td>1</td>\n",
       "      <td>0</td>\n",
       "      <td>30.0708</td>\n",
       "      <td>0</td>\n",
       "      <td>0</td>\n",
       "      <td>0</td>\n",
       "    </tr>\n",
       "  </tbody>\n",
       "</table>\n",
       "</div>"
      ],
      "text/plain": [
       "   PassengerId  Survived  Pclass  Age  SibSp  Parch     Fare  Is_male  \\\n",
       "0            1         0       3   22      1      0   7.2500        1   \n",
       "1            2         1       1   38      1      0  71.2833        0   \n",
       "2            3         1       3   26      0      0   7.9250        0   \n",
       "3            4         1       1   35      1      0  53.1000        0   \n",
       "4            5         0       3   35      0      0   8.0500        1   \n",
       "5            6         0       3  NaN      0      0   8.4583        1   \n",
       "6            7         0       1   54      0      0  51.8625        1   \n",
       "7            8         0       3    2      3      1  21.0750        1   \n",
       "8            9         1       3   27      0      2  11.1333        0   \n",
       "9           10         1       2   14      1      0  30.0708        0   \n",
       "\n",
       "   Embarked Q  Embarked S  \n",
       "0           0           1  \n",
       "1           0           0  \n",
       "2           0           1  \n",
       "3           0           1  \n",
       "4           0           1  \n",
       "5           1           0  \n",
       "6           0           1  \n",
       "7           0           1  \n",
       "8           0           1  \n",
       "9           0           0  "
      ]
     },
     "execution_count": 35,
     "metadata": {},
     "output_type": "execute_result"
    }
   ],
   "source": [
    "titanic_data_v4.head(10)"
   ]
  },
  {
   "cell_type": "markdown",
   "metadata": {},
   "source": [
    "...I can see that the predicted ages have been inserted:"
   ]
  },
  {
   "cell_type": "code",
   "execution_count": 36,
   "metadata": {
    "collapsed": false
   },
   "outputs": [
    {
     "data": {
      "text/plain": [
       "PassengerId    891\n",
       "Survived       891\n",
       "Pclass         891\n",
       "Age            891\n",
       "SibSp          891\n",
       "Parch          891\n",
       "Fare           891\n",
       "Is_male        891\n",
       "Embarked Q     891\n",
       "Embarked S     891\n",
       "dtype: int64"
      ]
     },
     "execution_count": 36,
     "metadata": {},
     "output_type": "execute_result"
    }
   ],
   "source": [
    "titanic_data_v5.count()"
   ]
  },
  {
   "cell_type": "markdown",
   "metadata": {},
   "source": [
    "#### Writing to file"
   ]
  },
  {
   "cell_type": "code",
   "execution_count": 38,
   "metadata": {
    "collapsed": true
   },
   "outputs": [],
   "source": [
    "titanic_data_v5.to_csv('Data/titanic_data_v5.csv')"
   ]
  }
 ],
 "metadata": {
  "kernelspec": {
   "display_name": "Python 2",
   "language": "python",
   "name": "python2"
  },
  "language_info": {
   "codemirror_mode": {
    "name": "ipython",
    "version": 2
   },
   "file_extension": ".py",
   "mimetype": "text/x-python",
   "name": "python",
   "nbconvert_exporter": "python",
   "pygments_lexer": "ipython2",
   "version": "2.7.10"
  }
 },
 "nbformat": 4,
 "nbformat_minor": 0
}
