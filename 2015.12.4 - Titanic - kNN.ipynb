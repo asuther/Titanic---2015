{
 "cells": [
  {
   "cell_type": "markdown",
   "metadata": {},
   "source": [
    "# Titanic - kNN"
   ]
  },
  {
   "cell_type": "code",
   "execution_count": 4,
   "metadata": {
    "collapsed": false
   },
   "outputs": [],
   "source": [
    "import os\n",
    "os.chdir('/Users/alexsutherland/Documents/Programming/Python/Kaggle/Titanic---2015')\n",
    "\n",
    "import TitanicPreprocessor as tp\n",
    "import TitanicPredictor as tpred\n",
    "import sklearn.neighbors as skl_neighbors\n",
    "from sklearn.grid_search import GridSearchCV\n",
    "import numpy as np\n",
    "import pandas as pd\n",
    "\n",
    "%matplotlib inline\n",
    "import matplotlib.pyplot as plt\n",
    "import seaborn as sns\n",
    "\n",
    "X_train, y_train, X_test, X_test_ids = tp.getData()"
   ]
  },
  {
   "cell_type": "code",
   "execution_count": 9,
   "metadata": {
    "collapsed": false
   },
   "outputs": [
    {
     "data": {
      "text/plain": [
       "GridSearchCV(cv=10, error_score='raise',\n",
       "       estimator=KNeighborsClassifier(algorithm='auto', leaf_size=30, metric='minkowski',\n",
       "           metric_params=None, n_jobs=1, n_neighbors=5, p=2,\n",
       "           weights='uniform'),\n",
       "       fit_params={}, iid=True, n_jobs=1,\n",
       "       param_grid=[{'n_neighbors': [2, 4, 6, 10, 15, 25], 'weights': ['uniform', 'distance'], 'leaf_size': [5, 10, 20, 30], 'algorithm': ['auto', 'kd_tree', 'brute'], 'p': [1, 2, 3, 4]}],\n",
       "       pre_dispatch='2*n_jobs', refit=True, scoring=None, verbose=0)"
      ]
     },
     "execution_count": 9,
     "metadata": {},
     "output_type": "execute_result"
    }
   ],
   "source": [
    "knn_clf = skl_neighbors.KNeighborsClassifier()\n",
    "\n",
    "knn_gs_params = [\n",
    "    {'n_neighbors': [2,4,6,10,15,25], \n",
    "     'weights': ['uniform','distance'], \n",
    "     'algorithm': ['auto','kd_tree','brute'], \n",
    "     'leaf_size': [5,10,20,30], \n",
    "     'p': [1,2,3,4]}\n",
    "]\n",
    "\n",
    "gs_knn_clf = GridSearchCV(knn_clf, param_grid = knn_gs_params, cv=10)\n",
    "gs_knn_clf.fit(X_train, y_train)"
   ]
  },
  {
   "cell_type": "code",
   "execution_count": 10,
   "metadata": {
    "collapsed": false,
    "scrolled": true
   },
   "outputs": [
    {
     "name": "stdout",
     "output_type": "stream",
     "text": [
      "Score: 0.717+/-0.04 {'n_neighbors': 2, 'weights': 'uniform', 'leaf_size': 5, 'algorithm': 'auto', 'p': 1}\n",
      "Score: 0.718+/-0.04 {'n_neighbors': 2, 'weights': 'distance', 'leaf_size': 5, 'algorithm': 'auto', 'p': 1}\n",
      "Score: 0.700+/-0.04 {'n_neighbors': 2, 'weights': 'uniform', 'leaf_size': 5, 'algorithm': 'auto', 'p': 2}\n",
      "Score: 0.703+/-0.04 {'n_neighbors': 2, 'weights': 'distance', 'leaf_size': 5, 'algorithm': 'auto', 'p': 2}\n",
      "Score: 0.686+/-0.04 {'n_neighbors': 2, 'weights': 'uniform', 'leaf_size': 5, 'algorithm': 'auto', 'p': 3}\n",
      "Score: 0.697+/-0.04 {'n_neighbors': 2, 'weights': 'distance', 'leaf_size': 5, 'algorithm': 'auto', 'p': 3}\n",
      "Score: 0.686+/-0.04 {'n_neighbors': 2, 'weights': 'uniform', 'leaf_size': 5, 'algorithm': 'auto', 'p': 4}\n",
      "Score: 0.694+/-0.04 {'n_neighbors': 2, 'weights': 'distance', 'leaf_size': 5, 'algorithm': 'auto', 'p': 4}\n",
      "Score: 0.737+/-0.02 {'n_neighbors': 4, 'weights': 'uniform', 'leaf_size': 5, 'algorithm': 'auto', 'p': 1}\n",
      "Score: 0.731+/-0.03 {'n_neighbors': 4, 'weights': 'distance', 'leaf_size': 5, 'algorithm': 'auto', 'p': 1}\n",
      "Score: 0.703+/-0.03 {'n_neighbors': 4, 'weights': 'uniform', 'leaf_size': 5, 'algorithm': 'auto', 'p': 2}\n",
      "Score: 0.703+/-0.04 {'n_neighbors': 4, 'weights': 'distance', 'leaf_size': 5, 'algorithm': 'auto', 'p': 2}\n",
      "Score: 0.697+/-0.03 {'n_neighbors': 4, 'weights': 'uniform', 'leaf_size': 5, 'algorithm': 'auto', 'p': 3}\n",
      "Score: 0.706+/-0.04 {'n_neighbors': 4, 'weights': 'distance', 'leaf_size': 5, 'algorithm': 'auto', 'p': 3}\n",
      "Score: 0.698+/-0.03 {'n_neighbors': 4, 'weights': 'uniform', 'leaf_size': 5, 'algorithm': 'auto', 'p': 4}\n",
      "Score: 0.703+/-0.03 {'n_neighbors': 4, 'weights': 'distance', 'leaf_size': 5, 'algorithm': 'auto', 'p': 4}\n",
      "Score: 0.733+/-0.04 {'n_neighbors': 6, 'weights': 'uniform', 'leaf_size': 5, 'algorithm': 'auto', 'p': 1}\n",
      "Score: 0.743+/-0.04 {'n_neighbors': 6, 'weights': 'distance', 'leaf_size': 5, 'algorithm': 'auto', 'p': 1}\n",
      "Score: 0.705+/-0.02 {'n_neighbors': 6, 'weights': 'uniform', 'leaf_size': 5, 'algorithm': 'auto', 'p': 2}\n",
      "Score: 0.712+/-0.03 {'n_neighbors': 6, 'weights': 'distance', 'leaf_size': 5, 'algorithm': 'auto', 'p': 2}\n",
      "Score: 0.701+/-0.01 {'n_neighbors': 6, 'weights': 'uniform', 'leaf_size': 5, 'algorithm': 'auto', 'p': 3}\n",
      "Score: 0.707+/-0.03 {'n_neighbors': 6, 'weights': 'distance', 'leaf_size': 5, 'algorithm': 'auto', 'p': 3}\n",
      "Score: 0.699+/-0.02 {'n_neighbors': 6, 'weights': 'uniform', 'leaf_size': 5, 'algorithm': 'auto', 'p': 4}\n",
      "Score: 0.708+/-0.03 {'n_neighbors': 6, 'weights': 'distance', 'leaf_size': 5, 'algorithm': 'auto', 'p': 4}\n",
      "Score: 0.722+/-0.04 {'n_neighbors': 10, 'weights': 'uniform', 'leaf_size': 5, 'algorithm': 'auto', 'p': 1}\n",
      "Score: 0.746+/-0.05 {'n_neighbors': 10, 'weights': 'distance', 'leaf_size': 5, 'algorithm': 'auto', 'p': 1}\n",
      "Score: 0.701+/-0.04 {'n_neighbors': 10, 'weights': 'uniform', 'leaf_size': 5, 'algorithm': 'auto', 'p': 2}\n",
      "Score: 0.730+/-0.04 {'n_neighbors': 10, 'weights': 'distance', 'leaf_size': 5, 'algorithm': 'auto', 'p': 2}\n",
      "Score: 0.692+/-0.04 {'n_neighbors': 10, 'weights': 'uniform', 'leaf_size': 5, 'algorithm': 'auto', 'p': 3}\n",
      "Score: 0.715+/-0.04 {'n_neighbors': 10, 'weights': 'distance', 'leaf_size': 5, 'algorithm': 'auto', 'p': 3}\n",
      "Score: 0.696+/-0.04 {'n_neighbors': 10, 'weights': 'uniform', 'leaf_size': 5, 'algorithm': 'auto', 'p': 4}\n",
      "Score: 0.713+/-0.04 {'n_neighbors': 10, 'weights': 'distance', 'leaf_size': 5, 'algorithm': 'auto', 'p': 4}\n",
      "Score: 0.737+/-0.04 {'n_neighbors': 15, 'weights': 'uniform', 'leaf_size': 5, 'algorithm': 'auto', 'p': 1}\n",
      "Score: 0.749+/-0.03 {'n_neighbors': 15, 'weights': 'distance', 'leaf_size': 5, 'algorithm': 'auto', 'p': 1}\n",
      "Score: 0.717+/-0.06 {'n_neighbors': 15, 'weights': 'uniform', 'leaf_size': 5, 'algorithm': 'auto', 'p': 2}\n",
      "Score: 0.728+/-0.04 {'n_neighbors': 15, 'weights': 'distance', 'leaf_size': 5, 'algorithm': 'auto', 'p': 2}\n",
      "Score: 0.712+/-0.06 {'n_neighbors': 15, 'weights': 'uniform', 'leaf_size': 5, 'algorithm': 'auto', 'p': 3}\n",
      "Score: 0.723+/-0.04 {'n_neighbors': 15, 'weights': 'distance', 'leaf_size': 5, 'algorithm': 'auto', 'p': 3}\n",
      "Score: 0.699+/-0.06 {'n_neighbors': 15, 'weights': 'uniform', 'leaf_size': 5, 'algorithm': 'auto', 'p': 4}\n",
      "Score: 0.716+/-0.05 {'n_neighbors': 15, 'weights': 'distance', 'leaf_size': 5, 'algorithm': 'auto', 'p': 4}\n",
      "Score: 0.732+/-0.06 {'n_neighbors': 25, 'weights': 'uniform', 'leaf_size': 5, 'algorithm': 'auto', 'p': 1}\n",
      "Score: 0.747+/-0.05 {'n_neighbors': 25, 'weights': 'distance', 'leaf_size': 5, 'algorithm': 'auto', 'p': 1}\n",
      "Score: 0.718+/-0.06 {'n_neighbors': 25, 'weights': 'uniform', 'leaf_size': 5, 'algorithm': 'auto', 'p': 2}\n",
      "Score: 0.723+/-0.06 {'n_neighbors': 25, 'weights': 'distance', 'leaf_size': 5, 'algorithm': 'auto', 'p': 2}\n",
      "Score: 0.715+/-0.06 {'n_neighbors': 25, 'weights': 'uniform', 'leaf_size': 5, 'algorithm': 'auto', 'p': 3}\n",
      "Score: 0.713+/-0.05 {'n_neighbors': 25, 'weights': 'distance', 'leaf_size': 5, 'algorithm': 'auto', 'p': 3}\n",
      "Score: 0.714+/-0.06 {'n_neighbors': 25, 'weights': 'uniform', 'leaf_size': 5, 'algorithm': 'auto', 'p': 4}\n",
      "Score: 0.712+/-0.05 {'n_neighbors': 25, 'weights': 'distance', 'leaf_size': 5, 'algorithm': 'auto', 'p': 4}\n",
      "Score: 0.718+/-0.04 {'n_neighbors': 2, 'weights': 'uniform', 'leaf_size': 10, 'algorithm': 'auto', 'p': 1}\n",
      "Score: 0.717+/-0.04 {'n_neighbors': 2, 'weights': 'distance', 'leaf_size': 10, 'algorithm': 'auto', 'p': 1}\n",
      "Score: 0.699+/-0.04 {'n_neighbors': 2, 'weights': 'uniform', 'leaf_size': 10, 'algorithm': 'auto', 'p': 2}\n",
      "Score: 0.703+/-0.04 {'n_neighbors': 2, 'weights': 'distance', 'leaf_size': 10, 'algorithm': 'auto', 'p': 2}\n",
      "Score: 0.682+/-0.04 {'n_neighbors': 2, 'weights': 'uniform', 'leaf_size': 10, 'algorithm': 'auto', 'p': 3}\n",
      "Score: 0.696+/-0.04 {'n_neighbors': 2, 'weights': 'distance', 'leaf_size': 10, 'algorithm': 'auto', 'p': 3}\n",
      "Score: 0.682+/-0.04 {'n_neighbors': 2, 'weights': 'uniform', 'leaf_size': 10, 'algorithm': 'auto', 'p': 4}\n",
      "Score: 0.692+/-0.04 {'n_neighbors': 2, 'weights': 'distance', 'leaf_size': 10, 'algorithm': 'auto', 'p': 4}\n",
      "Score: 0.735+/-0.02 {'n_neighbors': 4, 'weights': 'uniform', 'leaf_size': 10, 'algorithm': 'auto', 'p': 1}\n",
      "Score: 0.728+/-0.04 {'n_neighbors': 4, 'weights': 'distance', 'leaf_size': 10, 'algorithm': 'auto', 'p': 1}\n",
      "Score: 0.701+/-0.03 {'n_neighbors': 4, 'weights': 'uniform', 'leaf_size': 10, 'algorithm': 'auto', 'p': 2}\n",
      "Score: 0.703+/-0.04 {'n_neighbors': 4, 'weights': 'distance', 'leaf_size': 10, 'algorithm': 'auto', 'p': 2}\n",
      "Score: 0.696+/-0.03 {'n_neighbors': 4, 'weights': 'uniform', 'leaf_size': 10, 'algorithm': 'auto', 'p': 3}\n",
      "Score: 0.706+/-0.04 {'n_neighbors': 4, 'weights': 'distance', 'leaf_size': 10, 'algorithm': 'auto', 'p': 3}\n",
      "Score: 0.696+/-0.03 {'n_neighbors': 4, 'weights': 'uniform', 'leaf_size': 10, 'algorithm': 'auto', 'p': 4}\n",
      "Score: 0.703+/-0.03 {'n_neighbors': 4, 'weights': 'distance', 'leaf_size': 10, 'algorithm': 'auto', 'p': 4}\n",
      "Score: 0.733+/-0.04 {'n_neighbors': 6, 'weights': 'uniform', 'leaf_size': 10, 'algorithm': 'auto', 'p': 1}\n",
      "Score: 0.743+/-0.04 {'n_neighbors': 6, 'weights': 'distance', 'leaf_size': 10, 'algorithm': 'auto', 'p': 1}\n",
      "Score: 0.704+/-0.02 {'n_neighbors': 6, 'weights': 'uniform', 'leaf_size': 10, 'algorithm': 'auto', 'p': 2}\n",
      "Score: 0.712+/-0.03 {'n_neighbors': 6, 'weights': 'distance', 'leaf_size': 10, 'algorithm': 'auto', 'p': 2}\n",
      "Score: 0.701+/-0.01 {'n_neighbors': 6, 'weights': 'uniform', 'leaf_size': 10, 'algorithm': 'auto', 'p': 3}\n",
      "Score: 0.707+/-0.03 {'n_neighbors': 6, 'weights': 'distance', 'leaf_size': 10, 'algorithm': 'auto', 'p': 3}\n",
      "Score: 0.699+/-0.02 {'n_neighbors': 6, 'weights': 'uniform', 'leaf_size': 10, 'algorithm': 'auto', 'p': 4}\n",
      "Score: 0.708+/-0.03 {'n_neighbors': 6, 'weights': 'distance', 'leaf_size': 10, 'algorithm': 'auto', 'p': 4}\n",
      "Score: 0.723+/-0.04 {'n_neighbors': 10, 'weights': 'uniform', 'leaf_size': 10, 'algorithm': 'auto', 'p': 1}\n",
      "Score: 0.747+/-0.04 {'n_neighbors': 10, 'weights': 'distance', 'leaf_size': 10, 'algorithm': 'auto', 'p': 1}\n",
      "Score: 0.701+/-0.04 {'n_neighbors': 10, 'weights': 'uniform', 'leaf_size': 10, 'algorithm': 'auto', 'p': 2}\n",
      "Score: 0.731+/-0.04 {'n_neighbors': 10, 'weights': 'distance', 'leaf_size': 10, 'algorithm': 'auto', 'p': 2}\n",
      "Score: 0.694+/-0.04 {'n_neighbors': 10, 'weights': 'uniform', 'leaf_size': 10, 'algorithm': 'auto', 'p': 3}\n",
      "Score: 0.716+/-0.03 {'n_neighbors': 10, 'weights': 'distance', 'leaf_size': 10, 'algorithm': 'auto', 'p': 3}\n",
      "Score: 0.696+/-0.04 {'n_neighbors': 10, 'weights': 'uniform', 'leaf_size': 10, 'algorithm': 'auto', 'p': 4}\n",
      "Score: 0.714+/-0.03 {'n_neighbors': 10, 'weights': 'distance', 'leaf_size': 10, 'algorithm': 'auto', 'p': 4}\n",
      "Score: 0.735+/-0.04 {'n_neighbors': 15, 'weights': 'uniform', 'leaf_size': 10, 'algorithm': 'auto', 'p': 1}\n",
      "Score: 0.751+/-0.03 {'n_neighbors': 15, 'weights': 'distance', 'leaf_size': 10, 'algorithm': 'auto', 'p': 1}\n",
      "Score: 0.716+/-0.06 {'n_neighbors': 15, 'weights': 'uniform', 'leaf_size': 10, 'algorithm': 'auto', 'p': 2}\n",
      "Score: 0.727+/-0.04 {'n_neighbors': 15, 'weights': 'distance', 'leaf_size': 10, 'algorithm': 'auto', 'p': 2}\n",
      "Score: 0.712+/-0.06 {'n_neighbors': 15, 'weights': 'uniform', 'leaf_size': 10, 'algorithm': 'auto', 'p': 3}\n",
      "Score: 0.723+/-0.04 {'n_neighbors': 15, 'weights': 'distance', 'leaf_size': 10, 'algorithm': 'auto', 'p': 3}\n",
      "Score: 0.699+/-0.06 {'n_neighbors': 15, 'weights': 'uniform', 'leaf_size': 10, 'algorithm': 'auto', 'p': 4}\n",
      "Score: 0.716+/-0.05 {'n_neighbors': 15, 'weights': 'distance', 'leaf_size': 10, 'algorithm': 'auto', 'p': 4}\n",
      "Score: 0.733+/-0.06 {'n_neighbors': 25, 'weights': 'uniform', 'leaf_size': 10, 'algorithm': 'auto', 'p': 1}\n",
      "Score: 0.746+/-0.05 {'n_neighbors': 25, 'weights': 'distance', 'leaf_size': 10, 'algorithm': 'auto', 'p': 1}\n",
      "Score: 0.718+/-0.06 {'n_neighbors': 25, 'weights': 'uniform', 'leaf_size': 10, 'algorithm': 'auto', 'p': 2}\n",
      "Score: 0.723+/-0.06 {'n_neighbors': 25, 'weights': 'distance', 'leaf_size': 10, 'algorithm': 'auto', 'p': 2}\n",
      "Score: 0.714+/-0.06 {'n_neighbors': 25, 'weights': 'uniform', 'leaf_size': 10, 'algorithm': 'auto', 'p': 3}\n",
      "Score: 0.713+/-0.05 {'n_neighbors': 25, 'weights': 'distance', 'leaf_size': 10, 'algorithm': 'auto', 'p': 3}\n",
      "Score: 0.715+/-0.06 {'n_neighbors': 25, 'weights': 'uniform', 'leaf_size': 10, 'algorithm': 'auto', 'p': 4}\n",
      "Score: 0.713+/-0.05 {'n_neighbors': 25, 'weights': 'distance', 'leaf_size': 10, 'algorithm': 'auto', 'p': 4}\n",
      "Score: 0.715+/-0.04 {'n_neighbors': 2, 'weights': 'uniform', 'leaf_size': 20, 'algorithm': 'auto', 'p': 1}\n",
      "Score: 0.717+/-0.04 {'n_neighbors': 2, 'weights': 'distance', 'leaf_size': 20, 'algorithm': 'auto', 'p': 1}\n",
      "Score: 0.703+/-0.04 {'n_neighbors': 2, 'weights': 'uniform', 'leaf_size': 20, 'algorithm': 'auto', 'p': 2}\n",
      "Score: 0.703+/-0.04 {'n_neighbors': 2, 'weights': 'distance', 'leaf_size': 20, 'algorithm': 'auto', 'p': 2}\n",
      "Score: 0.688+/-0.04 {'n_neighbors': 2, 'weights': 'uniform', 'leaf_size': 20, 'algorithm': 'auto', 'p': 3}\n",
      "Score: 0.696+/-0.04 {'n_neighbors': 2, 'weights': 'distance', 'leaf_size': 20, 'algorithm': 'auto', 'p': 3}\n",
      "Score: 0.688+/-0.04 {'n_neighbors': 2, 'weights': 'uniform', 'leaf_size': 20, 'algorithm': 'auto', 'p': 4}\n",
      "Score: 0.692+/-0.04 {'n_neighbors': 2, 'weights': 'distance', 'leaf_size': 20, 'algorithm': 'auto', 'p': 4}\n",
      "Score: 0.740+/-0.02 {'n_neighbors': 4, 'weights': 'uniform', 'leaf_size': 20, 'algorithm': 'auto', 'p': 1}\n",
      "Score: 0.731+/-0.03 {'n_neighbors': 4, 'weights': 'distance', 'leaf_size': 20, 'algorithm': 'auto', 'p': 1}\n",
      "Score: 0.700+/-0.03 {'n_neighbors': 4, 'weights': 'uniform', 'leaf_size': 20, 'algorithm': 'auto', 'p': 2}\n",
      "Score: 0.701+/-0.04 {'n_neighbors': 4, 'weights': 'distance', 'leaf_size': 20, 'algorithm': 'auto', 'p': 2}\n",
      "Score: 0.694+/-0.03 {'n_neighbors': 4, 'weights': 'uniform', 'leaf_size': 20, 'algorithm': 'auto', 'p': 3}\n",
      "Score: 0.704+/-0.04 {'n_neighbors': 4, 'weights': 'distance', 'leaf_size': 20, 'algorithm': 'auto', 'p': 3}\n",
      "Score: 0.695+/-0.03 {'n_neighbors': 4, 'weights': 'uniform', 'leaf_size': 20, 'algorithm': 'auto', 'p': 4}\n",
      "Score: 0.700+/-0.03 {'n_neighbors': 4, 'weights': 'distance', 'leaf_size': 20, 'algorithm': 'auto', 'p': 4}\n",
      "Score: 0.733+/-0.04 {'n_neighbors': 6, 'weights': 'uniform', 'leaf_size': 20, 'algorithm': 'auto', 'p': 1}\n",
      "Score: 0.743+/-0.04 {'n_neighbors': 6, 'weights': 'distance', 'leaf_size': 20, 'algorithm': 'auto', 'p': 1}\n",
      "Score: 0.707+/-0.02 {'n_neighbors': 6, 'weights': 'uniform', 'leaf_size': 20, 'algorithm': 'auto', 'p': 2}\n",
      "Score: 0.713+/-0.03 {'n_neighbors': 6, 'weights': 'distance', 'leaf_size': 20, 'algorithm': 'auto', 'p': 2}\n",
      "Score: 0.706+/-0.02 {'n_neighbors': 6, 'weights': 'uniform', 'leaf_size': 20, 'algorithm': 'auto', 'p': 3}\n",
      "Score: 0.708+/-0.03 {'n_neighbors': 6, 'weights': 'distance', 'leaf_size': 20, 'algorithm': 'auto', 'p': 3}\n",
      "Score: 0.703+/-0.02 {'n_neighbors': 6, 'weights': 'uniform', 'leaf_size': 20, 'algorithm': 'auto', 'p': 4}\n",
      "Score: 0.709+/-0.03 {'n_neighbors': 6, 'weights': 'distance', 'leaf_size': 20, 'algorithm': 'auto', 'p': 4}\n",
      "Score: 0.721+/-0.04 {'n_neighbors': 10, 'weights': 'uniform', 'leaf_size': 20, 'algorithm': 'auto', 'p': 1}\n",
      "Score: 0.747+/-0.04 {'n_neighbors': 10, 'weights': 'distance', 'leaf_size': 20, 'algorithm': 'auto', 'p': 1}\n",
      "Score: 0.701+/-0.04 {'n_neighbors': 10, 'weights': 'uniform', 'leaf_size': 20, 'algorithm': 'auto', 'p': 2}\n",
      "Score: 0.731+/-0.04 {'n_neighbors': 10, 'weights': 'distance', 'leaf_size': 20, 'algorithm': 'auto', 'p': 2}\n",
      "Score: 0.692+/-0.04 {'n_neighbors': 10, 'weights': 'uniform', 'leaf_size': 20, 'algorithm': 'auto', 'p': 3}\n",
      "Score: 0.715+/-0.04 {'n_neighbors': 10, 'weights': 'distance', 'leaf_size': 20, 'algorithm': 'auto', 'p': 3}\n",
      "Score: 0.695+/-0.04 {'n_neighbors': 10, 'weights': 'uniform', 'leaf_size': 20, 'algorithm': 'auto', 'p': 4}\n",
      "Score: 0.713+/-0.04 {'n_neighbors': 10, 'weights': 'distance', 'leaf_size': 20, 'algorithm': 'auto', 'p': 4}\n",
      "Score: 0.741+/-0.04 {'n_neighbors': 15, 'weights': 'uniform', 'leaf_size': 20, 'algorithm': 'auto', 'p': 1}\n",
      "Score: 0.751+/-0.03 {'n_neighbors': 15, 'weights': 'distance', 'leaf_size': 20, 'algorithm': 'auto', 'p': 1}\n",
      "Score: 0.717+/-0.06 {'n_neighbors': 15, 'weights': 'uniform', 'leaf_size': 20, 'algorithm': 'auto', 'p': 2}\n",
      "Score: 0.727+/-0.04 {'n_neighbors': 15, 'weights': 'distance', 'leaf_size': 20, 'algorithm': 'auto', 'p': 2}\n",
      "Score: 0.713+/-0.05 {'n_neighbors': 15, 'weights': 'uniform', 'leaf_size': 20, 'algorithm': 'auto', 'p': 3}\n",
      "Score: 0.723+/-0.04 {'n_neighbors': 15, 'weights': 'distance', 'leaf_size': 20, 'algorithm': 'auto', 'p': 3}\n",
      "Score: 0.700+/-0.06 {'n_neighbors': 15, 'weights': 'uniform', 'leaf_size': 20, 'algorithm': 'auto', 'p': 4}\n",
      "Score: 0.716+/-0.05 {'n_neighbors': 15, 'weights': 'distance', 'leaf_size': 20, 'algorithm': 'auto', 'p': 4}\n",
      "Score: 0.734+/-0.06 {'n_neighbors': 25, 'weights': 'uniform', 'leaf_size': 20, 'algorithm': 'auto', 'p': 1}\n",
      "Score: 0.747+/-0.05 {'n_neighbors': 25, 'weights': 'distance', 'leaf_size': 20, 'algorithm': 'auto', 'p': 1}\n",
      "Score: 0.718+/-0.06 {'n_neighbors': 25, 'weights': 'uniform', 'leaf_size': 20, 'algorithm': 'auto', 'p': 2}\n",
      "Score: 0.723+/-0.06 {'n_neighbors': 25, 'weights': 'distance', 'leaf_size': 20, 'algorithm': 'auto', 'p': 2}\n",
      "Score: 0.715+/-0.06 {'n_neighbors': 25, 'weights': 'uniform', 'leaf_size': 20, 'algorithm': 'auto', 'p': 3}\n",
      "Score: 0.713+/-0.05 {'n_neighbors': 25, 'weights': 'distance', 'leaf_size': 20, 'algorithm': 'auto', 'p': 3}\n",
      "Score: 0.714+/-0.06 {'n_neighbors': 25, 'weights': 'uniform', 'leaf_size': 20, 'algorithm': 'auto', 'p': 4}\n",
      "Score: 0.712+/-0.05 {'n_neighbors': 25, 'weights': 'distance', 'leaf_size': 20, 'algorithm': 'auto', 'p': 4}\n",
      "Score: 0.719+/-0.04 {'n_neighbors': 2, 'weights': 'uniform', 'leaf_size': 30, 'algorithm': 'auto', 'p': 1}\n",
      "Score: 0.717+/-0.04 {'n_neighbors': 2, 'weights': 'distance', 'leaf_size': 30, 'algorithm': 'auto', 'p': 1}\n",
      "Score: 0.703+/-0.04 {'n_neighbors': 2, 'weights': 'uniform', 'leaf_size': 30, 'algorithm': 'auto', 'p': 2}\n",
      "Score: 0.703+/-0.04 {'n_neighbors': 2, 'weights': 'distance', 'leaf_size': 30, 'algorithm': 'auto', 'p': 2}\n",
      "Score: 0.687+/-0.04 {'n_neighbors': 2, 'weights': 'uniform', 'leaf_size': 30, 'algorithm': 'auto', 'p': 3}\n",
      "Score: 0.696+/-0.04 {'n_neighbors': 2, 'weights': 'distance', 'leaf_size': 30, 'algorithm': 'auto', 'p': 3}\n",
      "Score: 0.687+/-0.03 {'n_neighbors': 2, 'weights': 'uniform', 'leaf_size': 30, 'algorithm': 'auto', 'p': 4}\n",
      "Score: 0.692+/-0.04 {'n_neighbors': 2, 'weights': 'distance', 'leaf_size': 30, 'algorithm': 'auto', 'p': 4}\n",
      "Score: 0.732+/-0.02 {'n_neighbors': 4, 'weights': 'uniform', 'leaf_size': 30, 'algorithm': 'auto', 'p': 1}\n",
      "Score: 0.730+/-0.03 {'n_neighbors': 4, 'weights': 'distance', 'leaf_size': 30, 'algorithm': 'auto', 'p': 1}\n",
      "Score: 0.701+/-0.03 {'n_neighbors': 4, 'weights': 'uniform', 'leaf_size': 30, 'algorithm': 'auto', 'p': 2}\n",
      "Score: 0.703+/-0.04 {'n_neighbors': 4, 'weights': 'distance', 'leaf_size': 30, 'algorithm': 'auto', 'p': 2}\n",
      "Score: 0.697+/-0.03 {'n_neighbors': 4, 'weights': 'uniform', 'leaf_size': 30, 'algorithm': 'auto', 'p': 3}\n",
      "Score: 0.706+/-0.04 {'n_neighbors': 4, 'weights': 'distance', 'leaf_size': 30, 'algorithm': 'auto', 'p': 3}\n",
      "Score: 0.697+/-0.03 {'n_neighbors': 4, 'weights': 'uniform', 'leaf_size': 30, 'algorithm': 'auto', 'p': 4}\n",
      "Score: 0.703+/-0.03 {'n_neighbors': 4, 'weights': 'distance', 'leaf_size': 30, 'algorithm': 'auto', 'p': 4}\n",
      "Score: 0.735+/-0.04 {'n_neighbors': 6, 'weights': 'uniform', 'leaf_size': 30, 'algorithm': 'auto', 'p': 1}\n",
      "Score: 0.742+/-0.04 {'n_neighbors': 6, 'weights': 'distance', 'leaf_size': 30, 'algorithm': 'auto', 'p': 1}\n",
      "Score: 0.708+/-0.02 {'n_neighbors': 6, 'weights': 'uniform', 'leaf_size': 30, 'algorithm': 'auto', 'p': 2}\n",
      "Score: 0.713+/-0.03 {'n_neighbors': 6, 'weights': 'distance', 'leaf_size': 30, 'algorithm': 'auto', 'p': 2}\n",
      "Score: 0.706+/-0.01 {'n_neighbors': 6, 'weights': 'uniform', 'leaf_size': 30, 'algorithm': 'auto', 'p': 3}\n",
      "Score: 0.709+/-0.03 {'n_neighbors': 6, 'weights': 'distance', 'leaf_size': 30, 'algorithm': 'auto', 'p': 3}\n",
      "Score: 0.703+/-0.02 {'n_neighbors': 6, 'weights': 'uniform', 'leaf_size': 30, 'algorithm': 'auto', 'p': 4}\n",
      "Score: 0.710+/-0.03 {'n_neighbors': 6, 'weights': 'distance', 'leaf_size': 30, 'algorithm': 'auto', 'p': 4}\n",
      "Score: 0.721+/-0.05 {'n_neighbors': 10, 'weights': 'uniform', 'leaf_size': 30, 'algorithm': 'auto', 'p': 1}\n",
      "Score: 0.747+/-0.05 {'n_neighbors': 10, 'weights': 'distance', 'leaf_size': 30, 'algorithm': 'auto', 'p': 1}\n",
      "Score: 0.700+/-0.04 {'n_neighbors': 10, 'weights': 'uniform', 'leaf_size': 30, 'algorithm': 'auto', 'p': 2}\n",
      "Score: 0.731+/-0.04 {'n_neighbors': 10, 'weights': 'distance', 'leaf_size': 30, 'algorithm': 'auto', 'p': 2}\n",
      "Score: 0.692+/-0.04 {'n_neighbors': 10, 'weights': 'uniform', 'leaf_size': 30, 'algorithm': 'auto', 'p': 3}\n",
      "Score: 0.716+/-0.03 {'n_neighbors': 10, 'weights': 'distance', 'leaf_size': 30, 'algorithm': 'auto', 'p': 3}\n",
      "Score: 0.696+/-0.04 {'n_neighbors': 10, 'weights': 'uniform', 'leaf_size': 30, 'algorithm': 'auto', 'p': 4}\n",
      "Score: 0.715+/-0.03 {'n_neighbors': 10, 'weights': 'distance', 'leaf_size': 30, 'algorithm': 'auto', 'p': 4}\n",
      "Score: 0.738+/-0.04 {'n_neighbors': 15, 'weights': 'uniform', 'leaf_size': 30, 'algorithm': 'auto', 'p': 1}\n",
      "Score: 0.749+/-0.03 {'n_neighbors': 15, 'weights': 'distance', 'leaf_size': 30, 'algorithm': 'auto', 'p': 1}\n",
      "Score: 0.717+/-0.06 {'n_neighbors': 15, 'weights': 'uniform', 'leaf_size': 30, 'algorithm': 'auto', 'p': 2}\n",
      "Score: 0.728+/-0.04 {'n_neighbors': 15, 'weights': 'distance', 'leaf_size': 30, 'algorithm': 'auto', 'p': 2}\n",
      "Score: 0.713+/-0.05 {'n_neighbors': 15, 'weights': 'uniform', 'leaf_size': 30, 'algorithm': 'auto', 'p': 3}\n",
      "Score: 0.723+/-0.04 {'n_neighbors': 15, 'weights': 'distance', 'leaf_size': 30, 'algorithm': 'auto', 'p': 3}\n",
      "Score: 0.700+/-0.06 {'n_neighbors': 15, 'weights': 'uniform', 'leaf_size': 30, 'algorithm': 'auto', 'p': 4}\n",
      "Score: 0.716+/-0.05 {'n_neighbors': 15, 'weights': 'distance', 'leaf_size': 30, 'algorithm': 'auto', 'p': 4}\n",
      "Score: 0.732+/-0.06 {'n_neighbors': 25, 'weights': 'uniform', 'leaf_size': 30, 'algorithm': 'auto', 'p': 1}\n",
      "Score: 0.747+/-0.05 {'n_neighbors': 25, 'weights': 'distance', 'leaf_size': 30, 'algorithm': 'auto', 'p': 1}\n",
      "Score: 0.718+/-0.06 {'n_neighbors': 25, 'weights': 'uniform', 'leaf_size': 30, 'algorithm': 'auto', 'p': 2}\n",
      "Score: 0.723+/-0.06 {'n_neighbors': 25, 'weights': 'distance', 'leaf_size': 30, 'algorithm': 'auto', 'p': 2}\n",
      "Score: 0.714+/-0.06 {'n_neighbors': 25, 'weights': 'uniform', 'leaf_size': 30, 'algorithm': 'auto', 'p': 3}\n",
      "Score: 0.713+/-0.05 {'n_neighbors': 25, 'weights': 'distance', 'leaf_size': 30, 'algorithm': 'auto', 'p': 3}\n",
      "Score: 0.714+/-0.06 {'n_neighbors': 25, 'weights': 'uniform', 'leaf_size': 30, 'algorithm': 'auto', 'p': 4}\n",
      "Score: 0.712+/-0.05 {'n_neighbors': 25, 'weights': 'distance', 'leaf_size': 30, 'algorithm': 'auto', 'p': 4}\n",
      "Score: 0.717+/-0.04 {'n_neighbors': 2, 'weights': 'uniform', 'leaf_size': 5, 'algorithm': 'kd_tree', 'p': 1}\n",
      "Score: 0.718+/-0.04 {'n_neighbors': 2, 'weights': 'distance', 'leaf_size': 5, 'algorithm': 'kd_tree', 'p': 1}\n",
      "Score: 0.700+/-0.04 {'n_neighbors': 2, 'weights': 'uniform', 'leaf_size': 5, 'algorithm': 'kd_tree', 'p': 2}\n",
      "Score: 0.703+/-0.04 {'n_neighbors': 2, 'weights': 'distance', 'leaf_size': 5, 'algorithm': 'kd_tree', 'p': 2}\n",
      "Score: 0.686+/-0.04 {'n_neighbors': 2, 'weights': 'uniform', 'leaf_size': 5, 'algorithm': 'kd_tree', 'p': 3}\n",
      "Score: 0.697+/-0.04 {'n_neighbors': 2, 'weights': 'distance', 'leaf_size': 5, 'algorithm': 'kd_tree', 'p': 3}\n",
      "Score: 0.686+/-0.04 {'n_neighbors': 2, 'weights': 'uniform', 'leaf_size': 5, 'algorithm': 'kd_tree', 'p': 4}\n",
      "Score: 0.694+/-0.04 {'n_neighbors': 2, 'weights': 'distance', 'leaf_size': 5, 'algorithm': 'kd_tree', 'p': 4}\n",
      "Score: 0.737+/-0.02 {'n_neighbors': 4, 'weights': 'uniform', 'leaf_size': 5, 'algorithm': 'kd_tree', 'p': 1}\n",
      "Score: 0.731+/-0.03 {'n_neighbors': 4, 'weights': 'distance', 'leaf_size': 5, 'algorithm': 'kd_tree', 'p': 1}\n",
      "Score: 0.703+/-0.03 {'n_neighbors': 4, 'weights': 'uniform', 'leaf_size': 5, 'algorithm': 'kd_tree', 'p': 2}\n",
      "Score: 0.703+/-0.04 {'n_neighbors': 4, 'weights': 'distance', 'leaf_size': 5, 'algorithm': 'kd_tree', 'p': 2}\n",
      "Score: 0.697+/-0.03 {'n_neighbors': 4, 'weights': 'uniform', 'leaf_size': 5, 'algorithm': 'kd_tree', 'p': 3}\n",
      "Score: 0.706+/-0.04 {'n_neighbors': 4, 'weights': 'distance', 'leaf_size': 5, 'algorithm': 'kd_tree', 'p': 3}\n",
      "Score: 0.698+/-0.03 {'n_neighbors': 4, 'weights': 'uniform', 'leaf_size': 5, 'algorithm': 'kd_tree', 'p': 4}\n",
      "Score: 0.703+/-0.03 {'n_neighbors': 4, 'weights': 'distance', 'leaf_size': 5, 'algorithm': 'kd_tree', 'p': 4}\n",
      "Score: 0.733+/-0.04 {'n_neighbors': 6, 'weights': 'uniform', 'leaf_size': 5, 'algorithm': 'kd_tree', 'p': 1}\n",
      "Score: 0.743+/-0.04 {'n_neighbors': 6, 'weights': 'distance', 'leaf_size': 5, 'algorithm': 'kd_tree', 'p': 1}\n",
      "Score: 0.705+/-0.02 {'n_neighbors': 6, 'weights': 'uniform', 'leaf_size': 5, 'algorithm': 'kd_tree', 'p': 2}\n",
      "Score: 0.712+/-0.03 {'n_neighbors': 6, 'weights': 'distance', 'leaf_size': 5, 'algorithm': 'kd_tree', 'p': 2}\n",
      "Score: 0.701+/-0.01 {'n_neighbors': 6, 'weights': 'uniform', 'leaf_size': 5, 'algorithm': 'kd_tree', 'p': 3}\n",
      "Score: 0.707+/-0.03 {'n_neighbors': 6, 'weights': 'distance', 'leaf_size': 5, 'algorithm': 'kd_tree', 'p': 3}\n",
      "Score: 0.699+/-0.02 {'n_neighbors': 6, 'weights': 'uniform', 'leaf_size': 5, 'algorithm': 'kd_tree', 'p': 4}\n",
      "Score: 0.708+/-0.03 {'n_neighbors': 6, 'weights': 'distance', 'leaf_size': 5, 'algorithm': 'kd_tree', 'p': 4}\n",
      "Score: 0.722+/-0.04 {'n_neighbors': 10, 'weights': 'uniform', 'leaf_size': 5, 'algorithm': 'kd_tree', 'p': 1}\n",
      "Score: 0.746+/-0.05 {'n_neighbors': 10, 'weights': 'distance', 'leaf_size': 5, 'algorithm': 'kd_tree', 'p': 1}\n",
      "Score: 0.701+/-0.04 {'n_neighbors': 10, 'weights': 'uniform', 'leaf_size': 5, 'algorithm': 'kd_tree', 'p': 2}\n",
      "Score: 0.730+/-0.04 {'n_neighbors': 10, 'weights': 'distance', 'leaf_size': 5, 'algorithm': 'kd_tree', 'p': 2}\n",
      "Score: 0.692+/-0.04 {'n_neighbors': 10, 'weights': 'uniform', 'leaf_size': 5, 'algorithm': 'kd_tree', 'p': 3}\n",
      "Score: 0.715+/-0.04 {'n_neighbors': 10, 'weights': 'distance', 'leaf_size': 5, 'algorithm': 'kd_tree', 'p': 3}\n",
      "Score: 0.696+/-0.04 {'n_neighbors': 10, 'weights': 'uniform', 'leaf_size': 5, 'algorithm': 'kd_tree', 'p': 4}\n",
      "Score: 0.713+/-0.04 {'n_neighbors': 10, 'weights': 'distance', 'leaf_size': 5, 'algorithm': 'kd_tree', 'p': 4}\n",
      "Score: 0.737+/-0.04 {'n_neighbors': 15, 'weights': 'uniform', 'leaf_size': 5, 'algorithm': 'kd_tree', 'p': 1}\n",
      "Score: 0.749+/-0.03 {'n_neighbors': 15, 'weights': 'distance', 'leaf_size': 5, 'algorithm': 'kd_tree', 'p': 1}\n",
      "Score: 0.717+/-0.06 {'n_neighbors': 15, 'weights': 'uniform', 'leaf_size': 5, 'algorithm': 'kd_tree', 'p': 2}\n",
      "Score: 0.728+/-0.04 {'n_neighbors': 15, 'weights': 'distance', 'leaf_size': 5, 'algorithm': 'kd_tree', 'p': 2}\n",
      "Score: 0.712+/-0.06 {'n_neighbors': 15, 'weights': 'uniform', 'leaf_size': 5, 'algorithm': 'kd_tree', 'p': 3}\n",
      "Score: 0.723+/-0.04 {'n_neighbors': 15, 'weights': 'distance', 'leaf_size': 5, 'algorithm': 'kd_tree', 'p': 3}\n",
      "Score: 0.699+/-0.06 {'n_neighbors': 15, 'weights': 'uniform', 'leaf_size': 5, 'algorithm': 'kd_tree', 'p': 4}\n",
      "Score: 0.716+/-0.05 {'n_neighbors': 15, 'weights': 'distance', 'leaf_size': 5, 'algorithm': 'kd_tree', 'p': 4}\n",
      "Score: 0.732+/-0.06 {'n_neighbors': 25, 'weights': 'uniform', 'leaf_size': 5, 'algorithm': 'kd_tree', 'p': 1}\n",
      "Score: 0.747+/-0.05 {'n_neighbors': 25, 'weights': 'distance', 'leaf_size': 5, 'algorithm': 'kd_tree', 'p': 1}\n",
      "Score: 0.718+/-0.06 {'n_neighbors': 25, 'weights': 'uniform', 'leaf_size': 5, 'algorithm': 'kd_tree', 'p': 2}\n",
      "Score: 0.723+/-0.06 {'n_neighbors': 25, 'weights': 'distance', 'leaf_size': 5, 'algorithm': 'kd_tree', 'p': 2}\n",
      "Score: 0.715+/-0.06 {'n_neighbors': 25, 'weights': 'uniform', 'leaf_size': 5, 'algorithm': 'kd_tree', 'p': 3}\n",
      "Score: 0.713+/-0.05 {'n_neighbors': 25, 'weights': 'distance', 'leaf_size': 5, 'algorithm': 'kd_tree', 'p': 3}\n",
      "Score: 0.714+/-0.06 {'n_neighbors': 25, 'weights': 'uniform', 'leaf_size': 5, 'algorithm': 'kd_tree', 'p': 4}\n",
      "Score: 0.712+/-0.05 {'n_neighbors': 25, 'weights': 'distance', 'leaf_size': 5, 'algorithm': 'kd_tree', 'p': 4}\n",
      "Score: 0.718+/-0.04 {'n_neighbors': 2, 'weights': 'uniform', 'leaf_size': 10, 'algorithm': 'kd_tree', 'p': 1}\n",
      "Score: 0.717+/-0.04 {'n_neighbors': 2, 'weights': 'distance', 'leaf_size': 10, 'algorithm': 'kd_tree', 'p': 1}\n",
      "Score: 0.699+/-0.04 {'n_neighbors': 2, 'weights': 'uniform', 'leaf_size': 10, 'algorithm': 'kd_tree', 'p': 2}\n",
      "Score: 0.703+/-0.04 {'n_neighbors': 2, 'weights': 'distance', 'leaf_size': 10, 'algorithm': 'kd_tree', 'p': 2}\n",
      "Score: 0.682+/-0.04 {'n_neighbors': 2, 'weights': 'uniform', 'leaf_size': 10, 'algorithm': 'kd_tree', 'p': 3}\n",
      "Score: 0.696+/-0.04 {'n_neighbors': 2, 'weights': 'distance', 'leaf_size': 10, 'algorithm': 'kd_tree', 'p': 3}\n",
      "Score: 0.682+/-0.04 {'n_neighbors': 2, 'weights': 'uniform', 'leaf_size': 10, 'algorithm': 'kd_tree', 'p': 4}\n",
      "Score: 0.692+/-0.04 {'n_neighbors': 2, 'weights': 'distance', 'leaf_size': 10, 'algorithm': 'kd_tree', 'p': 4}\n",
      "Score: 0.735+/-0.02 {'n_neighbors': 4, 'weights': 'uniform', 'leaf_size': 10, 'algorithm': 'kd_tree', 'p': 1}\n",
      "Score: 0.728+/-0.04 {'n_neighbors': 4, 'weights': 'distance', 'leaf_size': 10, 'algorithm': 'kd_tree', 'p': 1}\n",
      "Score: 0.701+/-0.03 {'n_neighbors': 4, 'weights': 'uniform', 'leaf_size': 10, 'algorithm': 'kd_tree', 'p': 2}\n",
      "Score: 0.703+/-0.04 {'n_neighbors': 4, 'weights': 'distance', 'leaf_size': 10, 'algorithm': 'kd_tree', 'p': 2}\n",
      "Score: 0.696+/-0.03 {'n_neighbors': 4, 'weights': 'uniform', 'leaf_size': 10, 'algorithm': 'kd_tree', 'p': 3}\n",
      "Score: 0.706+/-0.04 {'n_neighbors': 4, 'weights': 'distance', 'leaf_size': 10, 'algorithm': 'kd_tree', 'p': 3}\n",
      "Score: 0.696+/-0.03 {'n_neighbors': 4, 'weights': 'uniform', 'leaf_size': 10, 'algorithm': 'kd_tree', 'p': 4}\n",
      "Score: 0.703+/-0.03 {'n_neighbors': 4, 'weights': 'distance', 'leaf_size': 10, 'algorithm': 'kd_tree', 'p': 4}\n",
      "Score: 0.733+/-0.04 {'n_neighbors': 6, 'weights': 'uniform', 'leaf_size': 10, 'algorithm': 'kd_tree', 'p': 1}\n",
      "Score: 0.743+/-0.04 {'n_neighbors': 6, 'weights': 'distance', 'leaf_size': 10, 'algorithm': 'kd_tree', 'p': 1}\n",
      "Score: 0.704+/-0.02 {'n_neighbors': 6, 'weights': 'uniform', 'leaf_size': 10, 'algorithm': 'kd_tree', 'p': 2}\n",
      "Score: 0.712+/-0.03 {'n_neighbors': 6, 'weights': 'distance', 'leaf_size': 10, 'algorithm': 'kd_tree', 'p': 2}\n",
      "Score: 0.701+/-0.01 {'n_neighbors': 6, 'weights': 'uniform', 'leaf_size': 10, 'algorithm': 'kd_tree', 'p': 3}\n",
      "Score: 0.707+/-0.03 {'n_neighbors': 6, 'weights': 'distance', 'leaf_size': 10, 'algorithm': 'kd_tree', 'p': 3}\n",
      "Score: 0.699+/-0.02 {'n_neighbors': 6, 'weights': 'uniform', 'leaf_size': 10, 'algorithm': 'kd_tree', 'p': 4}\n",
      "Score: 0.708+/-0.03 {'n_neighbors': 6, 'weights': 'distance', 'leaf_size': 10, 'algorithm': 'kd_tree', 'p': 4}\n",
      "Score: 0.723+/-0.04 {'n_neighbors': 10, 'weights': 'uniform', 'leaf_size': 10, 'algorithm': 'kd_tree', 'p': 1}\n",
      "Score: 0.747+/-0.04 {'n_neighbors': 10, 'weights': 'distance', 'leaf_size': 10, 'algorithm': 'kd_tree', 'p': 1}\n",
      "Score: 0.701+/-0.04 {'n_neighbors': 10, 'weights': 'uniform', 'leaf_size': 10, 'algorithm': 'kd_tree', 'p': 2}\n",
      "Score: 0.731+/-0.04 {'n_neighbors': 10, 'weights': 'distance', 'leaf_size': 10, 'algorithm': 'kd_tree', 'p': 2}\n",
      "Score: 0.694+/-0.04 {'n_neighbors': 10, 'weights': 'uniform', 'leaf_size': 10, 'algorithm': 'kd_tree', 'p': 3}\n",
      "Score: 0.716+/-0.03 {'n_neighbors': 10, 'weights': 'distance', 'leaf_size': 10, 'algorithm': 'kd_tree', 'p': 3}\n",
      "Score: 0.696+/-0.04 {'n_neighbors': 10, 'weights': 'uniform', 'leaf_size': 10, 'algorithm': 'kd_tree', 'p': 4}\n",
      "Score: 0.714+/-0.03 {'n_neighbors': 10, 'weights': 'distance', 'leaf_size': 10, 'algorithm': 'kd_tree', 'p': 4}\n",
      "Score: 0.735+/-0.04 {'n_neighbors': 15, 'weights': 'uniform', 'leaf_size': 10, 'algorithm': 'kd_tree', 'p': 1}\n",
      "Score: 0.751+/-0.03 {'n_neighbors': 15, 'weights': 'distance', 'leaf_size': 10, 'algorithm': 'kd_tree', 'p': 1}\n",
      "Score: 0.716+/-0.06 {'n_neighbors': 15, 'weights': 'uniform', 'leaf_size': 10, 'algorithm': 'kd_tree', 'p': 2}\n",
      "Score: 0.727+/-0.04 {'n_neighbors': 15, 'weights': 'distance', 'leaf_size': 10, 'algorithm': 'kd_tree', 'p': 2}\n",
      "Score: 0.712+/-0.06 {'n_neighbors': 15, 'weights': 'uniform', 'leaf_size': 10, 'algorithm': 'kd_tree', 'p': 3}\n",
      "Score: 0.723+/-0.04 {'n_neighbors': 15, 'weights': 'distance', 'leaf_size': 10, 'algorithm': 'kd_tree', 'p': 3}\n",
      "Score: 0.699+/-0.06 {'n_neighbors': 15, 'weights': 'uniform', 'leaf_size': 10, 'algorithm': 'kd_tree', 'p': 4}\n",
      "Score: 0.716+/-0.05 {'n_neighbors': 15, 'weights': 'distance', 'leaf_size': 10, 'algorithm': 'kd_tree', 'p': 4}\n",
      "Score: 0.733+/-0.06 {'n_neighbors': 25, 'weights': 'uniform', 'leaf_size': 10, 'algorithm': 'kd_tree', 'p': 1}\n",
      "Score: 0.746+/-0.05 {'n_neighbors': 25, 'weights': 'distance', 'leaf_size': 10, 'algorithm': 'kd_tree', 'p': 1}\n",
      "Score: 0.718+/-0.06 {'n_neighbors': 25, 'weights': 'uniform', 'leaf_size': 10, 'algorithm': 'kd_tree', 'p': 2}\n",
      "Score: 0.723+/-0.06 {'n_neighbors': 25, 'weights': 'distance', 'leaf_size': 10, 'algorithm': 'kd_tree', 'p': 2}\n",
      "Score: 0.714+/-0.06 {'n_neighbors': 25, 'weights': 'uniform', 'leaf_size': 10, 'algorithm': 'kd_tree', 'p': 3}\n",
      "Score: 0.713+/-0.05 {'n_neighbors': 25, 'weights': 'distance', 'leaf_size': 10, 'algorithm': 'kd_tree', 'p': 3}\n",
      "Score: 0.715+/-0.06 {'n_neighbors': 25, 'weights': 'uniform', 'leaf_size': 10, 'algorithm': 'kd_tree', 'p': 4}\n",
      "Score: 0.713+/-0.05 {'n_neighbors': 25, 'weights': 'distance', 'leaf_size': 10, 'algorithm': 'kd_tree', 'p': 4}\n",
      "Score: 0.715+/-0.04 {'n_neighbors': 2, 'weights': 'uniform', 'leaf_size': 20, 'algorithm': 'kd_tree', 'p': 1}\n",
      "Score: 0.717+/-0.04 {'n_neighbors': 2, 'weights': 'distance', 'leaf_size': 20, 'algorithm': 'kd_tree', 'p': 1}\n",
      "Score: 0.703+/-0.04 {'n_neighbors': 2, 'weights': 'uniform', 'leaf_size': 20, 'algorithm': 'kd_tree', 'p': 2}\n",
      "Score: 0.703+/-0.04 {'n_neighbors': 2, 'weights': 'distance', 'leaf_size': 20, 'algorithm': 'kd_tree', 'p': 2}\n",
      "Score: 0.688+/-0.04 {'n_neighbors': 2, 'weights': 'uniform', 'leaf_size': 20, 'algorithm': 'kd_tree', 'p': 3}\n",
      "Score: 0.696+/-0.04 {'n_neighbors': 2, 'weights': 'distance', 'leaf_size': 20, 'algorithm': 'kd_tree', 'p': 3}\n",
      "Score: 0.688+/-0.04 {'n_neighbors': 2, 'weights': 'uniform', 'leaf_size': 20, 'algorithm': 'kd_tree', 'p': 4}\n",
      "Score: 0.692+/-0.04 {'n_neighbors': 2, 'weights': 'distance', 'leaf_size': 20, 'algorithm': 'kd_tree', 'p': 4}\n",
      "Score: 0.740+/-0.02 {'n_neighbors': 4, 'weights': 'uniform', 'leaf_size': 20, 'algorithm': 'kd_tree', 'p': 1}\n",
      "Score: 0.731+/-0.03 {'n_neighbors': 4, 'weights': 'distance', 'leaf_size': 20, 'algorithm': 'kd_tree', 'p': 1}\n",
      "Score: 0.700+/-0.03 {'n_neighbors': 4, 'weights': 'uniform', 'leaf_size': 20, 'algorithm': 'kd_tree', 'p': 2}\n",
      "Score: 0.701+/-0.04 {'n_neighbors': 4, 'weights': 'distance', 'leaf_size': 20, 'algorithm': 'kd_tree', 'p': 2}\n",
      "Score: 0.694+/-0.03 {'n_neighbors': 4, 'weights': 'uniform', 'leaf_size': 20, 'algorithm': 'kd_tree', 'p': 3}\n",
      "Score: 0.704+/-0.04 {'n_neighbors': 4, 'weights': 'distance', 'leaf_size': 20, 'algorithm': 'kd_tree', 'p': 3}\n",
      "Score: 0.695+/-0.03 {'n_neighbors': 4, 'weights': 'uniform', 'leaf_size': 20, 'algorithm': 'kd_tree', 'p': 4}\n",
      "Score: 0.700+/-0.03 {'n_neighbors': 4, 'weights': 'distance', 'leaf_size': 20, 'algorithm': 'kd_tree', 'p': 4}\n",
      "Score: 0.733+/-0.04 {'n_neighbors': 6, 'weights': 'uniform', 'leaf_size': 20, 'algorithm': 'kd_tree', 'p': 1}\n",
      "Score: 0.743+/-0.04 {'n_neighbors': 6, 'weights': 'distance', 'leaf_size': 20, 'algorithm': 'kd_tree', 'p': 1}\n",
      "Score: 0.707+/-0.02 {'n_neighbors': 6, 'weights': 'uniform', 'leaf_size': 20, 'algorithm': 'kd_tree', 'p': 2}\n",
      "Score: 0.713+/-0.03 {'n_neighbors': 6, 'weights': 'distance', 'leaf_size': 20, 'algorithm': 'kd_tree', 'p': 2}\n",
      "Score: 0.706+/-0.02 {'n_neighbors': 6, 'weights': 'uniform', 'leaf_size': 20, 'algorithm': 'kd_tree', 'p': 3}\n",
      "Score: 0.708+/-0.03 {'n_neighbors': 6, 'weights': 'distance', 'leaf_size': 20, 'algorithm': 'kd_tree', 'p': 3}\n",
      "Score: 0.703+/-0.02 {'n_neighbors': 6, 'weights': 'uniform', 'leaf_size': 20, 'algorithm': 'kd_tree', 'p': 4}\n",
      "Score: 0.709+/-0.03 {'n_neighbors': 6, 'weights': 'distance', 'leaf_size': 20, 'algorithm': 'kd_tree', 'p': 4}\n",
      "Score: 0.721+/-0.04 {'n_neighbors': 10, 'weights': 'uniform', 'leaf_size': 20, 'algorithm': 'kd_tree', 'p': 1}\n",
      "Score: 0.747+/-0.04 {'n_neighbors': 10, 'weights': 'distance', 'leaf_size': 20, 'algorithm': 'kd_tree', 'p': 1}\n",
      "Score: 0.701+/-0.04 {'n_neighbors': 10, 'weights': 'uniform', 'leaf_size': 20, 'algorithm': 'kd_tree', 'p': 2}\n",
      "Score: 0.731+/-0.04 {'n_neighbors': 10, 'weights': 'distance', 'leaf_size': 20, 'algorithm': 'kd_tree', 'p': 2}\n",
      "Score: 0.692+/-0.04 {'n_neighbors': 10, 'weights': 'uniform', 'leaf_size': 20, 'algorithm': 'kd_tree', 'p': 3}\n",
      "Score: 0.715+/-0.04 {'n_neighbors': 10, 'weights': 'distance', 'leaf_size': 20, 'algorithm': 'kd_tree', 'p': 3}\n",
      "Score: 0.695+/-0.04 {'n_neighbors': 10, 'weights': 'uniform', 'leaf_size': 20, 'algorithm': 'kd_tree', 'p': 4}\n",
      "Score: 0.713+/-0.04 {'n_neighbors': 10, 'weights': 'distance', 'leaf_size': 20, 'algorithm': 'kd_tree', 'p': 4}\n",
      "Score: 0.741+/-0.04 {'n_neighbors': 15, 'weights': 'uniform', 'leaf_size': 20, 'algorithm': 'kd_tree', 'p': 1}\n",
      "Score: 0.751+/-0.03 {'n_neighbors': 15, 'weights': 'distance', 'leaf_size': 20, 'algorithm': 'kd_tree', 'p': 1}\n",
      "Score: 0.717+/-0.06 {'n_neighbors': 15, 'weights': 'uniform', 'leaf_size': 20, 'algorithm': 'kd_tree', 'p': 2}\n",
      "Score: 0.727+/-0.04 {'n_neighbors': 15, 'weights': 'distance', 'leaf_size': 20, 'algorithm': 'kd_tree', 'p': 2}\n",
      "Score: 0.713+/-0.05 {'n_neighbors': 15, 'weights': 'uniform', 'leaf_size': 20, 'algorithm': 'kd_tree', 'p': 3}\n",
      "Score: 0.723+/-0.04 {'n_neighbors': 15, 'weights': 'distance', 'leaf_size': 20, 'algorithm': 'kd_tree', 'p': 3}\n",
      "Score: 0.700+/-0.06 {'n_neighbors': 15, 'weights': 'uniform', 'leaf_size': 20, 'algorithm': 'kd_tree', 'p': 4}\n",
      "Score: 0.716+/-0.05 {'n_neighbors': 15, 'weights': 'distance', 'leaf_size': 20, 'algorithm': 'kd_tree', 'p': 4}\n",
      "Score: 0.734+/-0.06 {'n_neighbors': 25, 'weights': 'uniform', 'leaf_size': 20, 'algorithm': 'kd_tree', 'p': 1}\n",
      "Score: 0.747+/-0.05 {'n_neighbors': 25, 'weights': 'distance', 'leaf_size': 20, 'algorithm': 'kd_tree', 'p': 1}\n",
      "Score: 0.718+/-0.06 {'n_neighbors': 25, 'weights': 'uniform', 'leaf_size': 20, 'algorithm': 'kd_tree', 'p': 2}\n",
      "Score: 0.723+/-0.06 {'n_neighbors': 25, 'weights': 'distance', 'leaf_size': 20, 'algorithm': 'kd_tree', 'p': 2}\n",
      "Score: 0.715+/-0.06 {'n_neighbors': 25, 'weights': 'uniform', 'leaf_size': 20, 'algorithm': 'kd_tree', 'p': 3}\n",
      "Score: 0.713+/-0.05 {'n_neighbors': 25, 'weights': 'distance', 'leaf_size': 20, 'algorithm': 'kd_tree', 'p': 3}\n",
      "Score: 0.714+/-0.06 {'n_neighbors': 25, 'weights': 'uniform', 'leaf_size': 20, 'algorithm': 'kd_tree', 'p': 4}\n",
      "Score: 0.712+/-0.05 {'n_neighbors': 25, 'weights': 'distance', 'leaf_size': 20, 'algorithm': 'kd_tree', 'p': 4}\n",
      "Score: 0.719+/-0.04 {'n_neighbors': 2, 'weights': 'uniform', 'leaf_size': 30, 'algorithm': 'kd_tree', 'p': 1}\n",
      "Score: 0.717+/-0.04 {'n_neighbors': 2, 'weights': 'distance', 'leaf_size': 30, 'algorithm': 'kd_tree', 'p': 1}\n",
      "Score: 0.703+/-0.04 {'n_neighbors': 2, 'weights': 'uniform', 'leaf_size': 30, 'algorithm': 'kd_tree', 'p': 2}\n",
      "Score: 0.703+/-0.04 {'n_neighbors': 2, 'weights': 'distance', 'leaf_size': 30, 'algorithm': 'kd_tree', 'p': 2}\n",
      "Score: 0.687+/-0.04 {'n_neighbors': 2, 'weights': 'uniform', 'leaf_size': 30, 'algorithm': 'kd_tree', 'p': 3}\n",
      "Score: 0.696+/-0.04 {'n_neighbors': 2, 'weights': 'distance', 'leaf_size': 30, 'algorithm': 'kd_tree', 'p': 3}\n",
      "Score: 0.687+/-0.03 {'n_neighbors': 2, 'weights': 'uniform', 'leaf_size': 30, 'algorithm': 'kd_tree', 'p': 4}\n",
      "Score: 0.692+/-0.04 {'n_neighbors': 2, 'weights': 'distance', 'leaf_size': 30, 'algorithm': 'kd_tree', 'p': 4}\n",
      "Score: 0.732+/-0.02 {'n_neighbors': 4, 'weights': 'uniform', 'leaf_size': 30, 'algorithm': 'kd_tree', 'p': 1}\n",
      "Score: 0.730+/-0.03 {'n_neighbors': 4, 'weights': 'distance', 'leaf_size': 30, 'algorithm': 'kd_tree', 'p': 1}\n",
      "Score: 0.701+/-0.03 {'n_neighbors': 4, 'weights': 'uniform', 'leaf_size': 30, 'algorithm': 'kd_tree', 'p': 2}\n",
      "Score: 0.703+/-0.04 {'n_neighbors': 4, 'weights': 'distance', 'leaf_size': 30, 'algorithm': 'kd_tree', 'p': 2}\n",
      "Score: 0.697+/-0.03 {'n_neighbors': 4, 'weights': 'uniform', 'leaf_size': 30, 'algorithm': 'kd_tree', 'p': 3}\n",
      "Score: 0.706+/-0.04 {'n_neighbors': 4, 'weights': 'distance', 'leaf_size': 30, 'algorithm': 'kd_tree', 'p': 3}\n",
      "Score: 0.697+/-0.03 {'n_neighbors': 4, 'weights': 'uniform', 'leaf_size': 30, 'algorithm': 'kd_tree', 'p': 4}\n",
      "Score: 0.703+/-0.03 {'n_neighbors': 4, 'weights': 'distance', 'leaf_size': 30, 'algorithm': 'kd_tree', 'p': 4}\n",
      "Score: 0.735+/-0.04 {'n_neighbors': 6, 'weights': 'uniform', 'leaf_size': 30, 'algorithm': 'kd_tree', 'p': 1}\n",
      "Score: 0.742+/-0.04 {'n_neighbors': 6, 'weights': 'distance', 'leaf_size': 30, 'algorithm': 'kd_tree', 'p': 1}\n",
      "Score: 0.708+/-0.02 {'n_neighbors': 6, 'weights': 'uniform', 'leaf_size': 30, 'algorithm': 'kd_tree', 'p': 2}\n",
      "Score: 0.713+/-0.03 {'n_neighbors': 6, 'weights': 'distance', 'leaf_size': 30, 'algorithm': 'kd_tree', 'p': 2}\n",
      "Score: 0.706+/-0.01 {'n_neighbors': 6, 'weights': 'uniform', 'leaf_size': 30, 'algorithm': 'kd_tree', 'p': 3}\n",
      "Score: 0.709+/-0.03 {'n_neighbors': 6, 'weights': 'distance', 'leaf_size': 30, 'algorithm': 'kd_tree', 'p': 3}\n",
      "Score: 0.703+/-0.02 {'n_neighbors': 6, 'weights': 'uniform', 'leaf_size': 30, 'algorithm': 'kd_tree', 'p': 4}\n",
      "Score: 0.710+/-0.03 {'n_neighbors': 6, 'weights': 'distance', 'leaf_size': 30, 'algorithm': 'kd_tree', 'p': 4}\n",
      "Score: 0.721+/-0.05 {'n_neighbors': 10, 'weights': 'uniform', 'leaf_size': 30, 'algorithm': 'kd_tree', 'p': 1}\n",
      "Score: 0.747+/-0.05 {'n_neighbors': 10, 'weights': 'distance', 'leaf_size': 30, 'algorithm': 'kd_tree', 'p': 1}\n",
      "Score: 0.700+/-0.04 {'n_neighbors': 10, 'weights': 'uniform', 'leaf_size': 30, 'algorithm': 'kd_tree', 'p': 2}\n",
      "Score: 0.731+/-0.04 {'n_neighbors': 10, 'weights': 'distance', 'leaf_size': 30, 'algorithm': 'kd_tree', 'p': 2}\n",
      "Score: 0.692+/-0.04 {'n_neighbors': 10, 'weights': 'uniform', 'leaf_size': 30, 'algorithm': 'kd_tree', 'p': 3}\n",
      "Score: 0.716+/-0.03 {'n_neighbors': 10, 'weights': 'distance', 'leaf_size': 30, 'algorithm': 'kd_tree', 'p': 3}\n",
      "Score: 0.696+/-0.04 {'n_neighbors': 10, 'weights': 'uniform', 'leaf_size': 30, 'algorithm': 'kd_tree', 'p': 4}\n",
      "Score: 0.715+/-0.03 {'n_neighbors': 10, 'weights': 'distance', 'leaf_size': 30, 'algorithm': 'kd_tree', 'p': 4}\n",
      "Score: 0.738+/-0.04 {'n_neighbors': 15, 'weights': 'uniform', 'leaf_size': 30, 'algorithm': 'kd_tree', 'p': 1}\n",
      "Score: 0.749+/-0.03 {'n_neighbors': 15, 'weights': 'distance', 'leaf_size': 30, 'algorithm': 'kd_tree', 'p': 1}\n",
      "Score: 0.717+/-0.06 {'n_neighbors': 15, 'weights': 'uniform', 'leaf_size': 30, 'algorithm': 'kd_tree', 'p': 2}\n",
      "Score: 0.728+/-0.04 {'n_neighbors': 15, 'weights': 'distance', 'leaf_size': 30, 'algorithm': 'kd_tree', 'p': 2}\n",
      "Score: 0.713+/-0.05 {'n_neighbors': 15, 'weights': 'uniform', 'leaf_size': 30, 'algorithm': 'kd_tree', 'p': 3}\n",
      "Score: 0.723+/-0.04 {'n_neighbors': 15, 'weights': 'distance', 'leaf_size': 30, 'algorithm': 'kd_tree', 'p': 3}\n",
      "Score: 0.700+/-0.06 {'n_neighbors': 15, 'weights': 'uniform', 'leaf_size': 30, 'algorithm': 'kd_tree', 'p': 4}\n",
      "Score: 0.716+/-0.05 {'n_neighbors': 15, 'weights': 'distance', 'leaf_size': 30, 'algorithm': 'kd_tree', 'p': 4}\n",
      "Score: 0.732+/-0.06 {'n_neighbors': 25, 'weights': 'uniform', 'leaf_size': 30, 'algorithm': 'kd_tree', 'p': 1}\n",
      "Score: 0.747+/-0.05 {'n_neighbors': 25, 'weights': 'distance', 'leaf_size': 30, 'algorithm': 'kd_tree', 'p': 1}\n",
      "Score: 0.718+/-0.06 {'n_neighbors': 25, 'weights': 'uniform', 'leaf_size': 30, 'algorithm': 'kd_tree', 'p': 2}\n",
      "Score: 0.723+/-0.06 {'n_neighbors': 25, 'weights': 'distance', 'leaf_size': 30, 'algorithm': 'kd_tree', 'p': 2}\n",
      "Score: 0.714+/-0.06 {'n_neighbors': 25, 'weights': 'uniform', 'leaf_size': 30, 'algorithm': 'kd_tree', 'p': 3}\n",
      "Score: 0.713+/-0.05 {'n_neighbors': 25, 'weights': 'distance', 'leaf_size': 30, 'algorithm': 'kd_tree', 'p': 3}\n",
      "Score: 0.714+/-0.06 {'n_neighbors': 25, 'weights': 'uniform', 'leaf_size': 30, 'algorithm': 'kd_tree', 'p': 4}\n",
      "Score: 0.712+/-0.05 {'n_neighbors': 25, 'weights': 'distance', 'leaf_size': 30, 'algorithm': 'kd_tree', 'p': 4}\n",
      "Score: 0.715+/-0.04 {'n_neighbors': 2, 'weights': 'uniform', 'leaf_size': 5, 'algorithm': 'brute', 'p': 1}\n",
      "Score: 0.718+/-0.04 {'n_neighbors': 2, 'weights': 'distance', 'leaf_size': 5, 'algorithm': 'brute', 'p': 1}\n",
      "Score: 0.703+/-0.03 {'n_neighbors': 2, 'weights': 'uniform', 'leaf_size': 5, 'algorithm': 'brute', 'p': 2}\n",
      "Score: 0.703+/-0.04 {'n_neighbors': 2, 'weights': 'distance', 'leaf_size': 5, 'algorithm': 'brute', 'p': 2}\n",
      "Score: 0.687+/-0.04 {'n_neighbors': 2, 'weights': 'uniform', 'leaf_size': 5, 'algorithm': 'brute', 'p': 3}\n",
      "Score: 0.697+/-0.04 {'n_neighbors': 2, 'weights': 'distance', 'leaf_size': 5, 'algorithm': 'brute', 'p': 3}\n",
      "Score: 0.687+/-0.03 {'n_neighbors': 2, 'weights': 'uniform', 'leaf_size': 5, 'algorithm': 'brute', 'p': 4}\n",
      "Score: 0.694+/-0.04 {'n_neighbors': 2, 'weights': 'distance', 'leaf_size': 5, 'algorithm': 'brute', 'p': 4}\n",
      "Score: 0.733+/-0.03 {'n_neighbors': 4, 'weights': 'uniform', 'leaf_size': 5, 'algorithm': 'brute', 'p': 1}\n",
      "Score: 0.732+/-0.04 {'n_neighbors': 4, 'weights': 'distance', 'leaf_size': 5, 'algorithm': 'brute', 'p': 1}\n",
      "Score: 0.699+/-0.03 {'n_neighbors': 4, 'weights': 'uniform', 'leaf_size': 5, 'algorithm': 'brute', 'p': 2}\n",
      "Score: 0.704+/-0.04 {'n_neighbors': 4, 'weights': 'distance', 'leaf_size': 5, 'algorithm': 'brute', 'p': 2}\n",
      "Score: 0.692+/-0.03 {'n_neighbors': 4, 'weights': 'uniform', 'leaf_size': 5, 'algorithm': 'brute', 'p': 3}\n",
      "Score: 0.706+/-0.04 {'n_neighbors': 4, 'weights': 'distance', 'leaf_size': 5, 'algorithm': 'brute', 'p': 3}\n",
      "Score: 0.697+/-0.03 {'n_neighbors': 4, 'weights': 'uniform', 'leaf_size': 5, 'algorithm': 'brute', 'p': 4}\n",
      "Score: 0.704+/-0.03 {'n_neighbors': 4, 'weights': 'distance', 'leaf_size': 5, 'algorithm': 'brute', 'p': 4}\n",
      "Score: 0.736+/-0.04 {'n_neighbors': 6, 'weights': 'uniform', 'leaf_size': 5, 'algorithm': 'brute', 'p': 1}\n",
      "Score: 0.742+/-0.04 {'n_neighbors': 6, 'weights': 'distance', 'leaf_size': 5, 'algorithm': 'brute', 'p': 1}\n",
      "Score: 0.707+/-0.02 {'n_neighbors': 6, 'weights': 'uniform', 'leaf_size': 5, 'algorithm': 'brute', 'p': 2}\n",
      "Score: 0.714+/-0.03 {'n_neighbors': 6, 'weights': 'distance', 'leaf_size': 5, 'algorithm': 'brute', 'p': 2}\n",
      "Score: 0.705+/-0.01 {'n_neighbors': 6, 'weights': 'uniform', 'leaf_size': 5, 'algorithm': 'brute', 'p': 3}\n",
      "Score: 0.709+/-0.03 {'n_neighbors': 6, 'weights': 'distance', 'leaf_size': 5, 'algorithm': 'brute', 'p': 3}\n",
      "Score: 0.703+/-0.02 {'n_neighbors': 6, 'weights': 'uniform', 'leaf_size': 5, 'algorithm': 'brute', 'p': 4}\n",
      "Score: 0.712+/-0.03 {'n_neighbors': 6, 'weights': 'distance', 'leaf_size': 5, 'algorithm': 'brute', 'p': 4}\n",
      "Score: 0.721+/-0.04 {'n_neighbors': 10, 'weights': 'uniform', 'leaf_size': 5, 'algorithm': 'brute', 'p': 1}\n",
      "Score: 0.749+/-0.04 {'n_neighbors': 10, 'weights': 'distance', 'leaf_size': 5, 'algorithm': 'brute', 'p': 1}\n",
      "Score: 0.703+/-0.04 {'n_neighbors': 10, 'weights': 'uniform', 'leaf_size': 5, 'algorithm': 'brute', 'p': 2}\n",
      "Score: 0.730+/-0.04 {'n_neighbors': 10, 'weights': 'distance', 'leaf_size': 5, 'algorithm': 'brute', 'p': 2}\n",
      "Score: 0.692+/-0.04 {'n_neighbors': 10, 'weights': 'uniform', 'leaf_size': 5, 'algorithm': 'brute', 'p': 3}\n",
      "Score: 0.716+/-0.03 {'n_neighbors': 10, 'weights': 'distance', 'leaf_size': 5, 'algorithm': 'brute', 'p': 3}\n",
      "Score: 0.695+/-0.04 {'n_neighbors': 10, 'weights': 'uniform', 'leaf_size': 5, 'algorithm': 'brute', 'p': 4}\n",
      "Score: 0.715+/-0.03 {'n_neighbors': 10, 'weights': 'distance', 'leaf_size': 5, 'algorithm': 'brute', 'p': 4}\n",
      "Score: 0.741+/-0.04 {'n_neighbors': 15, 'weights': 'uniform', 'leaf_size': 5, 'algorithm': 'brute', 'p': 1}\n",
      "Score: 0.752+/-0.03 {'n_neighbors': 15, 'weights': 'distance', 'leaf_size': 5, 'algorithm': 'brute', 'p': 1}\n",
      "Score: 0.717+/-0.06 {'n_neighbors': 15, 'weights': 'uniform', 'leaf_size': 5, 'algorithm': 'brute', 'p': 2}\n",
      "Score: 0.728+/-0.04 {'n_neighbors': 15, 'weights': 'distance', 'leaf_size': 5, 'algorithm': 'brute', 'p': 2}\n",
      "Score: 0.713+/-0.05 {'n_neighbors': 15, 'weights': 'uniform', 'leaf_size': 5, 'algorithm': 'brute', 'p': 3}\n",
      "Score: 0.723+/-0.04 {'n_neighbors': 15, 'weights': 'distance', 'leaf_size': 5, 'algorithm': 'brute', 'p': 3}\n",
      "Score: 0.699+/-0.06 {'n_neighbors': 15, 'weights': 'uniform', 'leaf_size': 5, 'algorithm': 'brute', 'p': 4}\n",
      "Score: 0.716+/-0.05 {'n_neighbors': 15, 'weights': 'distance', 'leaf_size': 5, 'algorithm': 'brute', 'p': 4}\n",
      "Score: 0.733+/-0.06 {'n_neighbors': 25, 'weights': 'uniform', 'leaf_size': 5, 'algorithm': 'brute', 'p': 1}\n",
      "Score: 0.747+/-0.05 {'n_neighbors': 25, 'weights': 'distance', 'leaf_size': 5, 'algorithm': 'brute', 'p': 1}\n",
      "Score: 0.718+/-0.06 {'n_neighbors': 25, 'weights': 'uniform', 'leaf_size': 5, 'algorithm': 'brute', 'p': 2}\n",
      "Score: 0.723+/-0.06 {'n_neighbors': 25, 'weights': 'distance', 'leaf_size': 5, 'algorithm': 'brute', 'p': 2}\n",
      "Score: 0.714+/-0.06 {'n_neighbors': 25, 'weights': 'uniform', 'leaf_size': 5, 'algorithm': 'brute', 'p': 3}\n",
      "Score: 0.713+/-0.05 {'n_neighbors': 25, 'weights': 'distance', 'leaf_size': 5, 'algorithm': 'brute', 'p': 3}\n",
      "Score: 0.716+/-0.06 {'n_neighbors': 25, 'weights': 'uniform', 'leaf_size': 5, 'algorithm': 'brute', 'p': 4}\n",
      "Score: 0.713+/-0.05 {'n_neighbors': 25, 'weights': 'distance', 'leaf_size': 5, 'algorithm': 'brute', 'p': 4}\n",
      "Score: 0.715+/-0.04 {'n_neighbors': 2, 'weights': 'uniform', 'leaf_size': 10, 'algorithm': 'brute', 'p': 1}\n",
      "Score: 0.718+/-0.04 {'n_neighbors': 2, 'weights': 'distance', 'leaf_size': 10, 'algorithm': 'brute', 'p': 1}\n",
      "Score: 0.703+/-0.03 {'n_neighbors': 2, 'weights': 'uniform', 'leaf_size': 10, 'algorithm': 'brute', 'p': 2}\n",
      "Score: 0.703+/-0.04 {'n_neighbors': 2, 'weights': 'distance', 'leaf_size': 10, 'algorithm': 'brute', 'p': 2}\n",
      "Score: 0.687+/-0.04 {'n_neighbors': 2, 'weights': 'uniform', 'leaf_size': 10, 'algorithm': 'brute', 'p': 3}\n",
      "Score: 0.697+/-0.04 {'n_neighbors': 2, 'weights': 'distance', 'leaf_size': 10, 'algorithm': 'brute', 'p': 3}\n",
      "Score: 0.687+/-0.03 {'n_neighbors': 2, 'weights': 'uniform', 'leaf_size': 10, 'algorithm': 'brute', 'p': 4}\n",
      "Score: 0.694+/-0.04 {'n_neighbors': 2, 'weights': 'distance', 'leaf_size': 10, 'algorithm': 'brute', 'p': 4}\n",
      "Score: 0.733+/-0.03 {'n_neighbors': 4, 'weights': 'uniform', 'leaf_size': 10, 'algorithm': 'brute', 'p': 1}\n",
      "Score: 0.732+/-0.04 {'n_neighbors': 4, 'weights': 'distance', 'leaf_size': 10, 'algorithm': 'brute', 'p': 1}\n",
      "Score: 0.699+/-0.03 {'n_neighbors': 4, 'weights': 'uniform', 'leaf_size': 10, 'algorithm': 'brute', 'p': 2}\n",
      "Score: 0.704+/-0.04 {'n_neighbors': 4, 'weights': 'distance', 'leaf_size': 10, 'algorithm': 'brute', 'p': 2}\n",
      "Score: 0.692+/-0.03 {'n_neighbors': 4, 'weights': 'uniform', 'leaf_size': 10, 'algorithm': 'brute', 'p': 3}\n",
      "Score: 0.706+/-0.04 {'n_neighbors': 4, 'weights': 'distance', 'leaf_size': 10, 'algorithm': 'brute', 'p': 3}\n",
      "Score: 0.697+/-0.03 {'n_neighbors': 4, 'weights': 'uniform', 'leaf_size': 10, 'algorithm': 'brute', 'p': 4}\n",
      "Score: 0.704+/-0.03 {'n_neighbors': 4, 'weights': 'distance', 'leaf_size': 10, 'algorithm': 'brute', 'p': 4}\n",
      "Score: 0.736+/-0.04 {'n_neighbors': 6, 'weights': 'uniform', 'leaf_size': 10, 'algorithm': 'brute', 'p': 1}\n",
      "Score: 0.742+/-0.04 {'n_neighbors': 6, 'weights': 'distance', 'leaf_size': 10, 'algorithm': 'brute', 'p': 1}\n",
      "Score: 0.707+/-0.02 {'n_neighbors': 6, 'weights': 'uniform', 'leaf_size': 10, 'algorithm': 'brute', 'p': 2}\n",
      "Score: 0.714+/-0.03 {'n_neighbors': 6, 'weights': 'distance', 'leaf_size': 10, 'algorithm': 'brute', 'p': 2}\n",
      "Score: 0.705+/-0.01 {'n_neighbors': 6, 'weights': 'uniform', 'leaf_size': 10, 'algorithm': 'brute', 'p': 3}\n",
      "Score: 0.709+/-0.03 {'n_neighbors': 6, 'weights': 'distance', 'leaf_size': 10, 'algorithm': 'brute', 'p': 3}\n",
      "Score: 0.703+/-0.02 {'n_neighbors': 6, 'weights': 'uniform', 'leaf_size': 10, 'algorithm': 'brute', 'p': 4}\n",
      "Score: 0.712+/-0.03 {'n_neighbors': 6, 'weights': 'distance', 'leaf_size': 10, 'algorithm': 'brute', 'p': 4}\n",
      "Score: 0.721+/-0.04 {'n_neighbors': 10, 'weights': 'uniform', 'leaf_size': 10, 'algorithm': 'brute', 'p': 1}\n",
      "Score: 0.749+/-0.04 {'n_neighbors': 10, 'weights': 'distance', 'leaf_size': 10, 'algorithm': 'brute', 'p': 1}\n",
      "Score: 0.703+/-0.04 {'n_neighbors': 10, 'weights': 'uniform', 'leaf_size': 10, 'algorithm': 'brute', 'p': 2}\n",
      "Score: 0.730+/-0.04 {'n_neighbors': 10, 'weights': 'distance', 'leaf_size': 10, 'algorithm': 'brute', 'p': 2}\n",
      "Score: 0.692+/-0.04 {'n_neighbors': 10, 'weights': 'uniform', 'leaf_size': 10, 'algorithm': 'brute', 'p': 3}\n",
      "Score: 0.716+/-0.03 {'n_neighbors': 10, 'weights': 'distance', 'leaf_size': 10, 'algorithm': 'brute', 'p': 3}\n",
      "Score: 0.695+/-0.04 {'n_neighbors': 10, 'weights': 'uniform', 'leaf_size': 10, 'algorithm': 'brute', 'p': 4}\n",
      "Score: 0.715+/-0.03 {'n_neighbors': 10, 'weights': 'distance', 'leaf_size': 10, 'algorithm': 'brute', 'p': 4}\n",
      "Score: 0.741+/-0.04 {'n_neighbors': 15, 'weights': 'uniform', 'leaf_size': 10, 'algorithm': 'brute', 'p': 1}\n",
      "Score: 0.752+/-0.03 {'n_neighbors': 15, 'weights': 'distance', 'leaf_size': 10, 'algorithm': 'brute', 'p': 1}\n",
      "Score: 0.717+/-0.06 {'n_neighbors': 15, 'weights': 'uniform', 'leaf_size': 10, 'algorithm': 'brute', 'p': 2}\n",
      "Score: 0.728+/-0.04 {'n_neighbors': 15, 'weights': 'distance', 'leaf_size': 10, 'algorithm': 'brute', 'p': 2}\n",
      "Score: 0.713+/-0.05 {'n_neighbors': 15, 'weights': 'uniform', 'leaf_size': 10, 'algorithm': 'brute', 'p': 3}\n",
      "Score: 0.723+/-0.04 {'n_neighbors': 15, 'weights': 'distance', 'leaf_size': 10, 'algorithm': 'brute', 'p': 3}\n",
      "Score: 0.699+/-0.06 {'n_neighbors': 15, 'weights': 'uniform', 'leaf_size': 10, 'algorithm': 'brute', 'p': 4}\n",
      "Score: 0.716+/-0.05 {'n_neighbors': 15, 'weights': 'distance', 'leaf_size': 10, 'algorithm': 'brute', 'p': 4}\n",
      "Score: 0.733+/-0.06 {'n_neighbors': 25, 'weights': 'uniform', 'leaf_size': 10, 'algorithm': 'brute', 'p': 1}\n",
      "Score: 0.747+/-0.05 {'n_neighbors': 25, 'weights': 'distance', 'leaf_size': 10, 'algorithm': 'brute', 'p': 1}\n",
      "Score: 0.718+/-0.06 {'n_neighbors': 25, 'weights': 'uniform', 'leaf_size': 10, 'algorithm': 'brute', 'p': 2}\n",
      "Score: 0.723+/-0.06 {'n_neighbors': 25, 'weights': 'distance', 'leaf_size': 10, 'algorithm': 'brute', 'p': 2}\n",
      "Score: 0.714+/-0.06 {'n_neighbors': 25, 'weights': 'uniform', 'leaf_size': 10, 'algorithm': 'brute', 'p': 3}\n",
      "Score: 0.713+/-0.05 {'n_neighbors': 25, 'weights': 'distance', 'leaf_size': 10, 'algorithm': 'brute', 'p': 3}\n",
      "Score: 0.716+/-0.06 {'n_neighbors': 25, 'weights': 'uniform', 'leaf_size': 10, 'algorithm': 'brute', 'p': 4}\n",
      "Score: 0.713+/-0.05 {'n_neighbors': 25, 'weights': 'distance', 'leaf_size': 10, 'algorithm': 'brute', 'p': 4}\n",
      "Score: 0.715+/-0.04 {'n_neighbors': 2, 'weights': 'uniform', 'leaf_size': 20, 'algorithm': 'brute', 'p': 1}\n",
      "Score: 0.718+/-0.04 {'n_neighbors': 2, 'weights': 'distance', 'leaf_size': 20, 'algorithm': 'brute', 'p': 1}\n",
      "Score: 0.703+/-0.03 {'n_neighbors': 2, 'weights': 'uniform', 'leaf_size': 20, 'algorithm': 'brute', 'p': 2}\n",
      "Score: 0.703+/-0.04 {'n_neighbors': 2, 'weights': 'distance', 'leaf_size': 20, 'algorithm': 'brute', 'p': 2}\n",
      "Score: 0.687+/-0.04 {'n_neighbors': 2, 'weights': 'uniform', 'leaf_size': 20, 'algorithm': 'brute', 'p': 3}\n",
      "Score: 0.697+/-0.04 {'n_neighbors': 2, 'weights': 'distance', 'leaf_size': 20, 'algorithm': 'brute', 'p': 3}\n",
      "Score: 0.687+/-0.03 {'n_neighbors': 2, 'weights': 'uniform', 'leaf_size': 20, 'algorithm': 'brute', 'p': 4}\n",
      "Score: 0.694+/-0.04 {'n_neighbors': 2, 'weights': 'distance', 'leaf_size': 20, 'algorithm': 'brute', 'p': 4}\n",
      "Score: 0.733+/-0.03 {'n_neighbors': 4, 'weights': 'uniform', 'leaf_size': 20, 'algorithm': 'brute', 'p': 1}\n",
      "Score: 0.732+/-0.04 {'n_neighbors': 4, 'weights': 'distance', 'leaf_size': 20, 'algorithm': 'brute', 'p': 1}\n",
      "Score: 0.699+/-0.03 {'n_neighbors': 4, 'weights': 'uniform', 'leaf_size': 20, 'algorithm': 'brute', 'p': 2}\n",
      "Score: 0.704+/-0.04 {'n_neighbors': 4, 'weights': 'distance', 'leaf_size': 20, 'algorithm': 'brute', 'p': 2}\n",
      "Score: 0.692+/-0.03 {'n_neighbors': 4, 'weights': 'uniform', 'leaf_size': 20, 'algorithm': 'brute', 'p': 3}\n",
      "Score: 0.706+/-0.04 {'n_neighbors': 4, 'weights': 'distance', 'leaf_size': 20, 'algorithm': 'brute', 'p': 3}\n",
      "Score: 0.697+/-0.03 {'n_neighbors': 4, 'weights': 'uniform', 'leaf_size': 20, 'algorithm': 'brute', 'p': 4}\n",
      "Score: 0.704+/-0.03 {'n_neighbors': 4, 'weights': 'distance', 'leaf_size': 20, 'algorithm': 'brute', 'p': 4}\n",
      "Score: 0.736+/-0.04 {'n_neighbors': 6, 'weights': 'uniform', 'leaf_size': 20, 'algorithm': 'brute', 'p': 1}\n",
      "Score: 0.742+/-0.04 {'n_neighbors': 6, 'weights': 'distance', 'leaf_size': 20, 'algorithm': 'brute', 'p': 1}\n",
      "Score: 0.707+/-0.02 {'n_neighbors': 6, 'weights': 'uniform', 'leaf_size': 20, 'algorithm': 'brute', 'p': 2}\n",
      "Score: 0.714+/-0.03 {'n_neighbors': 6, 'weights': 'distance', 'leaf_size': 20, 'algorithm': 'brute', 'p': 2}\n",
      "Score: 0.705+/-0.01 {'n_neighbors': 6, 'weights': 'uniform', 'leaf_size': 20, 'algorithm': 'brute', 'p': 3}\n",
      "Score: 0.709+/-0.03 {'n_neighbors': 6, 'weights': 'distance', 'leaf_size': 20, 'algorithm': 'brute', 'p': 3}\n",
      "Score: 0.703+/-0.02 {'n_neighbors': 6, 'weights': 'uniform', 'leaf_size': 20, 'algorithm': 'brute', 'p': 4}\n",
      "Score: 0.712+/-0.03 {'n_neighbors': 6, 'weights': 'distance', 'leaf_size': 20, 'algorithm': 'brute', 'p': 4}\n",
      "Score: 0.721+/-0.04 {'n_neighbors': 10, 'weights': 'uniform', 'leaf_size': 20, 'algorithm': 'brute', 'p': 1}\n",
      "Score: 0.749+/-0.04 {'n_neighbors': 10, 'weights': 'distance', 'leaf_size': 20, 'algorithm': 'brute', 'p': 1}\n",
      "Score: 0.703+/-0.04 {'n_neighbors': 10, 'weights': 'uniform', 'leaf_size': 20, 'algorithm': 'brute', 'p': 2}\n",
      "Score: 0.730+/-0.04 {'n_neighbors': 10, 'weights': 'distance', 'leaf_size': 20, 'algorithm': 'brute', 'p': 2}\n",
      "Score: 0.692+/-0.04 {'n_neighbors': 10, 'weights': 'uniform', 'leaf_size': 20, 'algorithm': 'brute', 'p': 3}\n",
      "Score: 0.716+/-0.03 {'n_neighbors': 10, 'weights': 'distance', 'leaf_size': 20, 'algorithm': 'brute', 'p': 3}\n",
      "Score: 0.695+/-0.04 {'n_neighbors': 10, 'weights': 'uniform', 'leaf_size': 20, 'algorithm': 'brute', 'p': 4}\n",
      "Score: 0.715+/-0.03 {'n_neighbors': 10, 'weights': 'distance', 'leaf_size': 20, 'algorithm': 'brute', 'p': 4}\n",
      "Score: 0.741+/-0.04 {'n_neighbors': 15, 'weights': 'uniform', 'leaf_size': 20, 'algorithm': 'brute', 'p': 1}\n",
      "Score: 0.752+/-0.03 {'n_neighbors': 15, 'weights': 'distance', 'leaf_size': 20, 'algorithm': 'brute', 'p': 1}\n",
      "Score: 0.717+/-0.06 {'n_neighbors': 15, 'weights': 'uniform', 'leaf_size': 20, 'algorithm': 'brute', 'p': 2}\n",
      "Score: 0.728+/-0.04 {'n_neighbors': 15, 'weights': 'distance', 'leaf_size': 20, 'algorithm': 'brute', 'p': 2}\n",
      "Score: 0.713+/-0.05 {'n_neighbors': 15, 'weights': 'uniform', 'leaf_size': 20, 'algorithm': 'brute', 'p': 3}\n",
      "Score: 0.723+/-0.04 {'n_neighbors': 15, 'weights': 'distance', 'leaf_size': 20, 'algorithm': 'brute', 'p': 3}\n",
      "Score: 0.699+/-0.06 {'n_neighbors': 15, 'weights': 'uniform', 'leaf_size': 20, 'algorithm': 'brute', 'p': 4}\n",
      "Score: 0.716+/-0.05 {'n_neighbors': 15, 'weights': 'distance', 'leaf_size': 20, 'algorithm': 'brute', 'p': 4}\n",
      "Score: 0.733+/-0.06 {'n_neighbors': 25, 'weights': 'uniform', 'leaf_size': 20, 'algorithm': 'brute', 'p': 1}\n",
      "Score: 0.747+/-0.05 {'n_neighbors': 25, 'weights': 'distance', 'leaf_size': 20, 'algorithm': 'brute', 'p': 1}\n",
      "Score: 0.718+/-0.06 {'n_neighbors': 25, 'weights': 'uniform', 'leaf_size': 20, 'algorithm': 'brute', 'p': 2}\n",
      "Score: 0.723+/-0.06 {'n_neighbors': 25, 'weights': 'distance', 'leaf_size': 20, 'algorithm': 'brute', 'p': 2}\n",
      "Score: 0.714+/-0.06 {'n_neighbors': 25, 'weights': 'uniform', 'leaf_size': 20, 'algorithm': 'brute', 'p': 3}\n",
      "Score: 0.713+/-0.05 {'n_neighbors': 25, 'weights': 'distance', 'leaf_size': 20, 'algorithm': 'brute', 'p': 3}\n",
      "Score: 0.716+/-0.06 {'n_neighbors': 25, 'weights': 'uniform', 'leaf_size': 20, 'algorithm': 'brute', 'p': 4}\n",
      "Score: 0.713+/-0.05 {'n_neighbors': 25, 'weights': 'distance', 'leaf_size': 20, 'algorithm': 'brute', 'p': 4}\n",
      "Score: 0.715+/-0.04 {'n_neighbors': 2, 'weights': 'uniform', 'leaf_size': 30, 'algorithm': 'brute', 'p': 1}\n",
      "Score: 0.718+/-0.04 {'n_neighbors': 2, 'weights': 'distance', 'leaf_size': 30, 'algorithm': 'brute', 'p': 1}\n",
      "Score: 0.703+/-0.03 {'n_neighbors': 2, 'weights': 'uniform', 'leaf_size': 30, 'algorithm': 'brute', 'p': 2}\n",
      "Score: 0.703+/-0.04 {'n_neighbors': 2, 'weights': 'distance', 'leaf_size': 30, 'algorithm': 'brute', 'p': 2}\n",
      "Score: 0.687+/-0.04 {'n_neighbors': 2, 'weights': 'uniform', 'leaf_size': 30, 'algorithm': 'brute', 'p': 3}\n",
      "Score: 0.697+/-0.04 {'n_neighbors': 2, 'weights': 'distance', 'leaf_size': 30, 'algorithm': 'brute', 'p': 3}\n",
      "Score: 0.687+/-0.03 {'n_neighbors': 2, 'weights': 'uniform', 'leaf_size': 30, 'algorithm': 'brute', 'p': 4}\n",
      "Score: 0.694+/-0.04 {'n_neighbors': 2, 'weights': 'distance', 'leaf_size': 30, 'algorithm': 'brute', 'p': 4}\n",
      "Score: 0.733+/-0.03 {'n_neighbors': 4, 'weights': 'uniform', 'leaf_size': 30, 'algorithm': 'brute', 'p': 1}\n",
      "Score: 0.732+/-0.04 {'n_neighbors': 4, 'weights': 'distance', 'leaf_size': 30, 'algorithm': 'brute', 'p': 1}\n",
      "Score: 0.699+/-0.03 {'n_neighbors': 4, 'weights': 'uniform', 'leaf_size': 30, 'algorithm': 'brute', 'p': 2}\n",
      "Score: 0.704+/-0.04 {'n_neighbors': 4, 'weights': 'distance', 'leaf_size': 30, 'algorithm': 'brute', 'p': 2}\n",
      "Score: 0.692+/-0.03 {'n_neighbors': 4, 'weights': 'uniform', 'leaf_size': 30, 'algorithm': 'brute', 'p': 3}\n",
      "Score: 0.706+/-0.04 {'n_neighbors': 4, 'weights': 'distance', 'leaf_size': 30, 'algorithm': 'brute', 'p': 3}\n",
      "Score: 0.697+/-0.03 {'n_neighbors': 4, 'weights': 'uniform', 'leaf_size': 30, 'algorithm': 'brute', 'p': 4}\n",
      "Score: 0.704+/-0.03 {'n_neighbors': 4, 'weights': 'distance', 'leaf_size': 30, 'algorithm': 'brute', 'p': 4}\n",
      "Score: 0.736+/-0.04 {'n_neighbors': 6, 'weights': 'uniform', 'leaf_size': 30, 'algorithm': 'brute', 'p': 1}\n",
      "Score: 0.742+/-0.04 {'n_neighbors': 6, 'weights': 'distance', 'leaf_size': 30, 'algorithm': 'brute', 'p': 1}\n",
      "Score: 0.707+/-0.02 {'n_neighbors': 6, 'weights': 'uniform', 'leaf_size': 30, 'algorithm': 'brute', 'p': 2}\n",
      "Score: 0.714+/-0.03 {'n_neighbors': 6, 'weights': 'distance', 'leaf_size': 30, 'algorithm': 'brute', 'p': 2}\n",
      "Score: 0.705+/-0.01 {'n_neighbors': 6, 'weights': 'uniform', 'leaf_size': 30, 'algorithm': 'brute', 'p': 3}\n",
      "Score: 0.709+/-0.03 {'n_neighbors': 6, 'weights': 'distance', 'leaf_size': 30, 'algorithm': 'brute', 'p': 3}\n",
      "Score: 0.703+/-0.02 {'n_neighbors': 6, 'weights': 'uniform', 'leaf_size': 30, 'algorithm': 'brute', 'p': 4}\n",
      "Score: 0.712+/-0.03 {'n_neighbors': 6, 'weights': 'distance', 'leaf_size': 30, 'algorithm': 'brute', 'p': 4}\n",
      "Score: 0.721+/-0.04 {'n_neighbors': 10, 'weights': 'uniform', 'leaf_size': 30, 'algorithm': 'brute', 'p': 1}\n",
      "Score: 0.749+/-0.04 {'n_neighbors': 10, 'weights': 'distance', 'leaf_size': 30, 'algorithm': 'brute', 'p': 1}\n",
      "Score: 0.703+/-0.04 {'n_neighbors': 10, 'weights': 'uniform', 'leaf_size': 30, 'algorithm': 'brute', 'p': 2}\n",
      "Score: 0.730+/-0.04 {'n_neighbors': 10, 'weights': 'distance', 'leaf_size': 30, 'algorithm': 'brute', 'p': 2}\n",
      "Score: 0.692+/-0.04 {'n_neighbors': 10, 'weights': 'uniform', 'leaf_size': 30, 'algorithm': 'brute', 'p': 3}\n",
      "Score: 0.716+/-0.03 {'n_neighbors': 10, 'weights': 'distance', 'leaf_size': 30, 'algorithm': 'brute', 'p': 3}\n",
      "Score: 0.695+/-0.04 {'n_neighbors': 10, 'weights': 'uniform', 'leaf_size': 30, 'algorithm': 'brute', 'p': 4}\n",
      "Score: 0.715+/-0.03 {'n_neighbors': 10, 'weights': 'distance', 'leaf_size': 30, 'algorithm': 'brute', 'p': 4}\n",
      "Score: 0.741+/-0.04 {'n_neighbors': 15, 'weights': 'uniform', 'leaf_size': 30, 'algorithm': 'brute', 'p': 1}\n",
      "Score: 0.752+/-0.03 {'n_neighbors': 15, 'weights': 'distance', 'leaf_size': 30, 'algorithm': 'brute', 'p': 1}\n",
      "Score: 0.717+/-0.06 {'n_neighbors': 15, 'weights': 'uniform', 'leaf_size': 30, 'algorithm': 'brute', 'p': 2}\n",
      "Score: 0.728+/-0.04 {'n_neighbors': 15, 'weights': 'distance', 'leaf_size': 30, 'algorithm': 'brute', 'p': 2}\n",
      "Score: 0.713+/-0.05 {'n_neighbors': 15, 'weights': 'uniform', 'leaf_size': 30, 'algorithm': 'brute', 'p': 3}\n",
      "Score: 0.723+/-0.04 {'n_neighbors': 15, 'weights': 'distance', 'leaf_size': 30, 'algorithm': 'brute', 'p': 3}\n",
      "Score: 0.699+/-0.06 {'n_neighbors': 15, 'weights': 'uniform', 'leaf_size': 30, 'algorithm': 'brute', 'p': 4}\n",
      "Score: 0.716+/-0.05 {'n_neighbors': 15, 'weights': 'distance', 'leaf_size': 30, 'algorithm': 'brute', 'p': 4}\n",
      "Score: 0.733+/-0.06 {'n_neighbors': 25, 'weights': 'uniform', 'leaf_size': 30, 'algorithm': 'brute', 'p': 1}\n",
      "Score: 0.747+/-0.05 {'n_neighbors': 25, 'weights': 'distance', 'leaf_size': 30, 'algorithm': 'brute', 'p': 1}\n",
      "Score: 0.718+/-0.06 {'n_neighbors': 25, 'weights': 'uniform', 'leaf_size': 30, 'algorithm': 'brute', 'p': 2}\n",
      "Score: 0.723+/-0.06 {'n_neighbors': 25, 'weights': 'distance', 'leaf_size': 30, 'algorithm': 'brute', 'p': 2}\n",
      "Score: 0.714+/-0.06 {'n_neighbors': 25, 'weights': 'uniform', 'leaf_size': 30, 'algorithm': 'brute', 'p': 3}\n",
      "Score: 0.713+/-0.05 {'n_neighbors': 25, 'weights': 'distance', 'leaf_size': 30, 'algorithm': 'brute', 'p': 3}\n",
      "Score: 0.716+/-0.06 {'n_neighbors': 25, 'weights': 'uniform', 'leaf_size': 30, 'algorithm': 'brute', 'p': 4}\n",
      "Score: 0.713+/-0.05 {'n_neighbors': 25, 'weights': 'distance', 'leaf_size': 30, 'algorithm': 'brute', 'p': 4}\n"
     ]
    },
    {
     "data": {
      "text/html": [
       "<div>\n",
       "<table border=\"1\" class=\"dataframe\">\n",
       "  <thead>\n",
       "    <tr style=\"text-align: right;\">\n",
       "      <th></th>\n",
       "      <th>0</th>\n",
       "      <th>1</th>\n",
       "      <th>2</th>\n",
       "      <th>3</th>\n",
       "      <th>4</th>\n",
       "      <th>5</th>\n",
       "      <th>6</th>\n",
       "    </tr>\n",
       "  </thead>\n",
       "  <tbody>\n",
       "    <tr>\n",
       "      <th>0</th>\n",
       "      <td>2</td>\n",
       "      <td>auto</td>\n",
       "      <td>uniform</td>\n",
       "      <td>5</td>\n",
       "      <td>1</td>\n",
       "      <td>0.717172</td>\n",
       "      <td>0.037138</td>\n",
       "    </tr>\n",
       "    <tr>\n",
       "      <th>1</th>\n",
       "      <td>2</td>\n",
       "      <td>auto</td>\n",
       "      <td>distance</td>\n",
       "      <td>5</td>\n",
       "      <td>1</td>\n",
       "      <td>0.718294</td>\n",
       "      <td>0.040697</td>\n",
       "    </tr>\n",
       "    <tr>\n",
       "      <th>2</th>\n",
       "      <td>2</td>\n",
       "      <td>auto</td>\n",
       "      <td>uniform</td>\n",
       "      <td>5</td>\n",
       "      <td>2</td>\n",
       "      <td>0.700337</td>\n",
       "      <td>0.040034</td>\n",
       "    </tr>\n",
       "    <tr>\n",
       "      <th>3</th>\n",
       "      <td>2</td>\n",
       "      <td>auto</td>\n",
       "      <td>distance</td>\n",
       "      <td>5</td>\n",
       "      <td>2</td>\n",
       "      <td>0.702581</td>\n",
       "      <td>0.042687</td>\n",
       "    </tr>\n",
       "    <tr>\n",
       "      <th>4</th>\n",
       "      <td>2</td>\n",
       "      <td>auto</td>\n",
       "      <td>uniform</td>\n",
       "      <td>5</td>\n",
       "      <td>3</td>\n",
       "      <td>0.685746</td>\n",
       "      <td>0.042259</td>\n",
       "    </tr>\n",
       "  </tbody>\n",
       "</table>\n",
       "</div>"
      ],
      "text/plain": [
       "   0     1         2  3  4         5         6\n",
       "0  2  auto   uniform  5  1  0.717172  0.037138\n",
       "1  2  auto  distance  5  1  0.718294  0.040697\n",
       "2  2  auto   uniform  5  2  0.700337  0.040034\n",
       "3  2  auto  distance  5  2  0.702581  0.042687\n",
       "4  2  auto   uniform  5  3  0.685746  0.042259"
      ]
     },
     "execution_count": 10,
     "metadata": {},
     "output_type": "execute_result"
    }
   ],
   "source": [
    "gs_knn_clf_results = []\n",
    "for params, mean_score, scores in gs_knn_clf.grid_scores_:\n",
    "    print('Score: %0.3f+/-%0.2f %r' % (mean_score, np.std(scores), params))\n",
    "    gs_knn_clf_results.append([params['n_neighbors'], params['algorithm'], params['weights'], params['leaf_size'], params['p'], mean_score, np.std(scores)])\n",
    "gs_knn_clf_results_df = pd.DataFrame(gs_knn_clf_results)\n",
    "gs_knn_clf_results_df.head()"
   ]
  },
  {
   "cell_type": "code",
   "execution_count": 11,
   "metadata": {
    "collapsed": true
   },
   "outputs": [],
   "source": [
    "gs_knn_clf_results_df.columns = ['n_neighbors','algorithm','weights','leaf_size','p','mean_score','score_std']"
   ]
  },
  {
   "cell_type": "code",
   "execution_count": 13,
   "metadata": {
    "collapsed": false
   },
   "outputs": [
    {
     "data": {
      "text/plain": [
       "<matplotlib.axes._subplots.AxesSubplot at 0x10b9ade50>"
      ]
     },
     "execution_count": 13,
     "metadata": {},
     "output_type": "execute_result"
    },
    {
     "data": {
      "image/png": "[encoded data removed]",
      "text/plain": [
       "<matplotlib.figure.Figure at 0x10b3be8d0>"
      ]
     },
     "metadata": {},
     "output_type": "display_data"
    }
   ],
   "source": [
    "sns.boxplot(gs_knn_clf_results_df['mean_score'], groupby=gs_knn_clf_results_df['algorithm'])"
   ]
  },
  {
   "cell_type": "markdown",
   "metadata": {},
   "source": [
    "The algorithm doesn't look to make a big difference"
   ]
  },
  {
   "cell_type": "code",
   "execution_count": 14,
   "metadata": {
    "collapsed": false
   },
   "outputs": [
    {
     "data": {
      "text/plain": [
       "<matplotlib.axes._subplots.AxesSubplot at 0x10b7818d0>"
      ]
     },
     "execution_count": 14,
     "metadata": {},
     "output_type": "execute_result"
    },
    {
     "data": {
      "image/png": "[encoded data removed]",
      "text/plain": [
       "<matplotlib.figure.Figure at 0x10b20cb90>"
      ]
     },
     "metadata": {},
     "output_type": "display_data"
    }
   ],
   "source": [
    "sns.boxplot(gs_knn_clf_results_df['mean_score'], groupby=gs_knn_clf_results_df['n_neighbors'])"
   ]
  },
  {
   "cell_type": "markdown",
   "metadata": {},
   "source": [
    "The number of neighbors definitely makes a difference. Higher numbers are definitely better. This should be investigated further."
   ]
  },
  {
   "cell_type": "code",
   "execution_count": 15,
   "metadata": {
    "collapsed": false
   },
   "outputs": [
    {
     "data": {
      "text/plain": [
       "<matplotlib.axes._subplots.AxesSubplot at 0x10bac6890>"
      ]
     },
     "execution_count": 15,
     "metadata": {},
     "output_type": "execute_result"
    },
    {
     "data": {
      "image/png": "[encoded data removed]",
      "text/plain": [
       "<matplotlib.figure.Figure at 0x10b3beb90>"
      ]
     },
     "metadata": {},
     "output_type": "display_data"
    }
   ],
   "source": [
    "sns.boxplot(gs_knn_clf_results_df['mean_score'], groupby=gs_knn_clf_results_df['weights'])"
   ]
  },
  {
   "cell_type": "markdown",
   "metadata": {},
   "source": [
    "Distance weights are better than uniform."
   ]
  },
  {
   "cell_type": "code",
   "execution_count": 16,
   "metadata": {
    "collapsed": false
   },
   "outputs": [
    {
     "data": {
      "text/plain": [
       "<matplotlib.axes._subplots.AxesSubplot at 0x10ba88b90>"
      ]
     },
     "execution_count": 16,
     "metadata": {},
     "output_type": "execute_result"
    },
    {
     "data": {
      "image/png": "[encoded data removed]",
      "text/plain": [
       "<matplotlib.figure.Figure at 0x10b20c810>"
      ]
     },
     "metadata": {},
     "output_type": "display_data"
    }
   ],
   "source": [
    "sns.boxplot(gs_knn_clf_results_df['mean_score'], groupby=gs_knn_clf_results_df['leaf_size'])"
   ]
  },
  {
   "cell_type": "markdown",
   "metadata": {},
   "source": [
    "Leaf_size doesn't influence the results"
   ]
  },
  {
   "cell_type": "code",
   "execution_count": 17,
   "metadata": {
    "collapsed": false
   },
   "outputs": [
    {
     "data": {
      "text/plain": [
       "<matplotlib.axes._subplots.AxesSubplot at 0x10bc18390>"
      ]
     },
     "execution_count": 17,
     "metadata": {},
     "output_type": "execute_result"
    },
    {
     "data": {
      "image/png": "[encoded data removed]",
      "text/plain": [
       "<matplotlib.figure.Figure at 0x10bde3ad0>"
      ]
     },
     "metadata": {},
     "output_type": "display_data"
    }
   ],
   "source": [
    "sns.boxplot(gs_knn_clf_results_df['mean_score'], groupby=gs_knn_clf_results_df['p'])"
   ]
  },
  {
   "cell_type": "markdown",
   "metadata": {},
   "source": [
    "Manhattan distance seems to be the optimum"
   ]
  },
  {
   "cell_type": "markdown",
   "metadata": {},
   "source": [
    "#### Optimized knn grid search"
   ]
  },
  {
   "cell_type": "code",
   "execution_count": null,
   "metadata": {
    "collapsed": true
   },
   "outputs": [],
   "source": [
    "knn_clf = skl_neighbors.KNeighborsClassifier(weights='distance', p=1)\n",
    "\n",
    "knn_gs_opt_params = [\n",
    "    {'n_neighbors': np.arange(5,40)\n",
    "    }\n",
    "]\n",
    "\n",
    "gs_opt_knn_clf = GridSearchCV(knn_clf, param_grid = knn_gs_opt_params, cv=10)\n",
    "gs_opt_knn_clf.fit(X_train, y_train)\n",
    "\n",
    "gs_opt_knn_clf_results = []\n",
    "for params, mean_score, scores in gs_opt_knn_clf.grid_scores_:\n",
    "    #print('Score: %0.3f+/-%0.2f %r' % (mean_score, np.std(scores), params))\n",
    "    gs_opt_knn_clf_results.append([params['n_neighbors'], mean_score, np.std(scores)])\n",
    "gs_opt_knn_clf_results_df = pd.DataFrame(gs_opt_knn_clf_results)\n",
    "gs_opt_knn_clf_results_df.columns = ['n_neighbors','mean_score','score_std']"
   ]
  },
  {
   "cell_type": "code",
   "execution_count": 27,
   "metadata": {
    "collapsed": false
   },
   "outputs": [
    {
     "data": {
      "text/plain": [
       "(0.72, 0.76)"
      ]
     },
     "execution_count": 27,
     "metadata": {},
     "output_type": "execute_result"
    },
    {
     "data": {
      "image/png": "[encoded data removed]",
      "text/plain": [
       "<matplotlib.figure.Figure at 0x10dac8550>"
      ]
     },
     "metadata": {},
     "output_type": "display_data"
    }
   ],
   "source": [
    "plt.bar(gs_opt_knn_clf_results_df['n_neighbors'], gs_opt_knn_clf_results_df['mean_score'])\n",
    "ax = plt.gca()\n",
    "ax.set_ylim([0.72,0.76])"
   ]
  },
  {
   "cell_type": "markdown",
   "metadata": {},
   "source": [
    "The optimum amount of neighbors seems to be ~14"
   ]
  },
  {
   "cell_type": "code",
   "execution_count": 28,
   "metadata": {
    "collapsed": true
   },
   "outputs": [],
   "source": [
    "knn_opt_clf = skl_neighbors.KNeighborsClassifier(weights='distance', p=1, n_neighbors=14)\n",
    "\n",
    "knn_opt_clf.fit(X_train, y_train)\n",
    "\n",
    "tpred.predictAndExport(knn_opt_clf, X_test, X_test_ids)"
   ]
  },
  {
   "cell_type": "code",
   "execution_count": null,
   "metadata": {
    "collapsed": true
   },
   "outputs": [],
   "source": []
  }
 ],
 "metadata": {
  "kernelspec": {
   "display_name": "Python 2",
   "language": "python",
   "name": "python2"
  },
  "language_info": {
   "codemirror_mode": {
    "name": "ipython",
    "version": 2
   },
   "file_extension": ".py",
   "mimetype": "text/x-python",
   "name": "python",
   "nbconvert_exporter": "python",
   "pygments_lexer": "ipython2",
   "version": "2.7.10"
  }
 },
 "nbformat": 4,
 "nbformat_minor": 0
}
