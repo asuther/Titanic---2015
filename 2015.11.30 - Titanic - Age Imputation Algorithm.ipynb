{
 "cells": [
  {
   "cell_type": "markdown",
   "metadata": {},
   "source": [
    "# Titanic - Age Imputation Algorithm"
   ]
  },
  {
   "cell_type": "code",
   "execution_count": 5,
   "metadata": {
    "collapsed": false
   },
   "outputs": [
    {
     "data": {
      "text/html": [
       "<div>\n",
       "<table border=\"1\" class=\"dataframe\">\n",
       "  <thead>\n",
       "    <tr style=\"text-align: right;\">\n",
       "      <th></th>\n",
       "      <th>PassengerId</th>\n",
       "      <th>Survived</th>\n",
       "      <th>Pclass</th>\n",
       "      <th>Age</th>\n",
       "      <th>SibSp</th>\n",
       "      <th>Parch</th>\n",
       "      <th>Fare</th>\n",
       "      <th>Is_male</th>\n",
       "      <th>Embarked Q</th>\n",
       "      <th>Embarked S</th>\n",
       "    </tr>\n",
       "  </thead>\n",
       "  <tbody>\n",
       "    <tr>\n",
       "      <th>0</th>\n",
       "      <td>1</td>\n",
       "      <td>0</td>\n",
       "      <td>3</td>\n",
       "      <td>22</td>\n",
       "      <td>1</td>\n",
       "      <td>0</td>\n",
       "      <td>7.25</td>\n",
       "      <td>1</td>\n",
       "      <td>0</td>\n",
       "      <td>1</td>\n",
       "    </tr>\n",
       "  </tbody>\n",
       "</table>\n",
       "</div>"
      ],
      "text/plain": [
       "   PassengerId  Survived  Pclass  Age  SibSp  Parch  Fare  Is_male  \\\n",
       "0            1         0       3   22      1      0  7.25        1   \n",
       "\n",
       "   Embarked Q  Embarked S  \n",
       "0           0           1  "
      ]
     },
     "execution_count": 5,
     "metadata": {},
     "output_type": "execute_result"
    }
   ],
   "source": [
    "import os\n",
    "os.chdir('C:\\Users\\Lundi\\Documents\\Programming\\Python\\Kaggle\\Titanic - 2015')\n",
    "\n",
    "%matplotlib inline\n",
    "import pandas as pd\n",
    "import numpy as np\n",
    "import matplotlib.pyplot as plt\n",
    "import seaborn as sns\n",
    "\n",
    "titanic_data = pd.read_csv('Data/training_data_v4.csv')\n",
    "titanic_data = titanic_data.drop(['Unnamed: 0'], axis=1)\n",
    "titanic_data.head(1)"
   ]
  },
  {
   "cell_type": "markdown",
   "metadata": {},
   "source": [
    "## Create training set\n",
    "\n",
    "Our training set will be everyone who already has an age. However, I will remove this age at the beginning. This way, at the end of the imputation process, I can check to see how close the method got.\n",
    "\n",
    "First, let's filter all rows that don't have an age:"
   ]
  },
  {
   "cell_type": "code",
   "execution_count": 8,
   "metadata": {
    "collapsed": false
   },
   "outputs": [
    {
     "data": {
      "text/plain": [
       "PassengerId    714\n",
       "Survived       714\n",
       "Pclass         714\n",
       "Age            714\n",
       "SibSp          714\n",
       "Parch          714\n",
       "Fare           714\n",
       "Is_male        714\n",
       "Embarked Q     714\n",
       "Embarked S     714\n",
       "dtype: int64"
      ]
     },
     "execution_count": 8,
     "metadata": {},
     "output_type": "execute_result"
    }
   ],
   "source": [
    "titanic_data_with_age = titanic_data.dropna()\n",
    "titanic_data_with_age.count()"
   ]
  },
  {
   "cell_type": "markdown",
   "metadata": {},
   "source": [
    "#### Seprating design matrix data and age"
   ]
  },
  {
   "cell_type": "code",
   "execution_count": 39,
   "metadata": {
    "collapsed": false
   },
   "outputs": [],
   "source": [
    "X = titanic_data_with_age.drop(['Age','PassengerId'], axis=1).reset_index().drop(['index'], axis=1)\n",
    "y = titanic_data_with_age['Age'].reset_index().drop(['index'], axis=1)"
   ]
  },
  {
   "cell_type": "markdown",
   "metadata": {},
   "source": [
    "## Insert start age based on linear regression\n",
    "\n",
    "In order to start the imputaion process, I need a guess for each age. This can be the average of all ages or a linear regression predicted value. I will try to guess an age based on linear regression using the other titanic data:"
   ]
  },
  {
   "cell_type": "code",
   "execution_count": 40,
   "metadata": {
    "collapsed": false
   },
   "outputs": [
    {
     "data": {
      "text/plain": [
       "array([ -9.46228855, -10.17631779,  -9.14971233,  -9.6694869 ,\n",
       "        -9.86406396,  -9.84742882, -10.80339726, -10.0702096 ,\n",
       "       -10.3321003 , -10.35976173])"
      ]
     },
     "execution_count": 40,
     "metadata": {},
     "output_type": "execute_result"
    }
   ],
   "source": [
    "import sklearn.linear_model as skl_lm\n",
    "import sklearn.cross_validation as skl_cv\n",
    "lr_reg = skl_lm.LinearRegression()\n",
    "\n",
    "skl_cv.cross_val_score(lr_reg, X, y, cv=10, scoring='mean_absolute_error')"
   ]
  },
  {
   "cell_type": "markdown",
   "metadata": {},
   "source": [
    "This shows the linear regression mean error is ~10 years off on average. Let's see the mean error if I used the average age as a start value:"
   ]
  },
  {
   "cell_type": "code",
   "execution_count": 53,
   "metadata": {
    "collapsed": false
   },
   "outputs": [
    {
     "data": {
      "text/plain": [
       "Age    1.706411\n",
       "dtype: float64"
      ]
     },
     "execution_count": 53,
     "metadata": {},
     "output_type": "execute_result"
    }
   ],
   "source": [
    "np.sqrt(squared_error_age.sum()) / len(squared_error_age)"
   ]
  },
  {
   "cell_type": "code",
   "execution_count": 55,
   "metadata": {
    "collapsed": false
   },
   "outputs": [
    {
     "name": "stdout",
     "output_type": "stream",
     "text": [
      "Age    14.859839\n",
      "dtype: float64\n",
      "Age    15.474003\n",
      "dtype: float64\n",
      "Age    13.857501\n",
      "dtype: float64\n",
      "Age    13.525595\n",
      "dtype: float64\n",
      "Age    12.829935\n",
      "dtype: float64\n",
      "Age    15.972775\n",
      "dtype: float64\n",
      "Age    15.654678\n",
      "dtype: float64\n",
      "Age    14.492105\n",
      "dtype: float64\n",
      "Age    14.29756\n",
      "dtype: float64\n",
      "Age    14.378473\n",
      "dtype: float64\n"
     ]
    }
   ],
   "source": [
    "kfold = skl_cv.KFold(X.shape[0], n_folds=10)\n",
    "\n",
    "for train_indexes, test_indexes in kfold:\n",
    "    train_mean_age = y.ix[train_indexes,:].mean()\n",
    "    squared_error_age = (y.ix[test_indexes,:] - train_mean_age) ** 2\n",
    "    rmse_age = np.sqrt(squared_error_age.sum() / len(squared_error_age))\n",
    "    print rmse_age"
   ]
  },
  {
   "cell_type": "markdown",
   "metadata": {},
   "source": [
    "These root mean squared errors are much higher than the errors found in the linear regression. So let's use the linear regression to calculate start ages for everyone:"
   ]
  },
  {
   "cell_type": "code",
   "execution_count": 59,
   "metadata": {
    "collapsed": false
   },
   "outputs": [
    {
     "data": {
      "text/html": [
       "<div>\n",
       "<table border=\"1\" class=\"dataframe\">\n",
       "  <thead>\n",
       "    <tr style=\"text-align: right;\">\n",
       "      <th></th>\n",
       "      <th>Age</th>\n",
       "    </tr>\n",
       "  </thead>\n",
       "  <tbody>\n",
       "    <tr>\n",
       "      <th>0</th>\n",
       "      <td>25.256911</td>\n",
       "    </tr>\n",
       "    <tr>\n",
       "      <th>1</th>\n",
       "      <td>32.420796</td>\n",
       "    </tr>\n",
       "  </tbody>\n",
       "</table>\n",
       "</div>"
      ],
      "text/plain": [
       "         Age\n",
       "0  25.256911\n",
       "1  32.420796"
      ]
     },
     "execution_count": 59,
     "metadata": {},
     "output_type": "execute_result"
    }
   ],
   "source": [
    "y_start = pd.DataFrame(skl_cv.cross_val_predict(lr_reg, X, y, cv=10), columns=['Age'])\n",
    "y_start.head(2)"
   ]
  },
  {
   "cell_type": "markdown",
   "metadata": {},
   "source": [
    "Adding this to X:"
   ]
  },
  {
   "cell_type": "code",
   "execution_count": 67,
   "metadata": {
    "collapsed": false
   },
   "outputs": [
    {
     "data": {
      "text/html": [
       "<div>\n",
       "<table border=\"1\" class=\"dataframe\">\n",
       "  <thead>\n",
       "    <tr style=\"text-align: right;\">\n",
       "      <th></th>\n",
       "      <th>Survived</th>\n",
       "      <th>Pclass</th>\n",
       "      <th>SibSp</th>\n",
       "      <th>Parch</th>\n",
       "      <th>Fare</th>\n",
       "      <th>Is_male</th>\n",
       "      <th>Embarked Q</th>\n",
       "      <th>Embarked S</th>\n",
       "      <th>Start_Age</th>\n",
       "    </tr>\n",
       "  </thead>\n",
       "  <tbody>\n",
       "    <tr>\n",
       "      <th>0</th>\n",
       "      <td>0</td>\n",
       "      <td>3</td>\n",
       "      <td>1</td>\n",
       "      <td>0</td>\n",
       "      <td>7.2500</td>\n",
       "      <td>1</td>\n",
       "      <td>0</td>\n",
       "      <td>1</td>\n",
       "      <td>25.256911</td>\n",
       "    </tr>\n",
       "    <tr>\n",
       "      <th>1</th>\n",
       "      <td>1</td>\n",
       "      <td>1</td>\n",
       "      <td>1</td>\n",
       "      <td>0</td>\n",
       "      <td>71.2833</td>\n",
       "      <td>0</td>\n",
       "      <td>0</td>\n",
       "      <td>0</td>\n",
       "      <td>32.420796</td>\n",
       "    </tr>\n",
       "  </tbody>\n",
       "</table>\n",
       "</div>"
      ],
      "text/plain": [
       "   Survived  Pclass  SibSp  Parch     Fare  Is_male  Embarked Q  Embarked S  \\\n",
       "0         0       3      1      0   7.2500        1           0           1   \n",
       "1         1       1      1      0  71.2833        0           0           0   \n",
       "\n",
       "   Start_Age  \n",
       "0  25.256911  \n",
       "1  32.420796  "
      ]
     },
     "execution_count": 67,
     "metadata": {},
     "output_type": "execute_result"
    }
   ],
   "source": [
    "X['Start_Age'] = y_start['Age']\n",
    "X.head(2)"
   ]
  },
  {
   "cell_type": "markdown",
   "metadata": {},
   "source": [
    "## Perform PCA and get new ages after multiple iters"
   ]
  },
  {
   "cell_type": "code",
   "execution_count": 85,
   "metadata": {
    "collapsed": false
   },
   "outputs": [
    {
     "data": {
      "text/plain": [
       "<matplotlib.text.Text at 0x215bae48>"
      ]
     },
     "execution_count": 85,
     "metadata": {},
     "output_type": "execute_result"
    },
    {
     "data": {
      "image/png": "[encoded data removed]",
      "text/plain": [
       "<matplotlib.figure.Figure at 0x2148fe80>"
      ]
     },
     "metadata": {},
     "output_type": "display_data"
    }
   ],
   "source": [
    "import sklearn.decomposition as skl_decomp\n",
    "import sklearn.preprocessing as skl_pre\n",
    "pca = skl_decomp.PCA(n_components=X.shape[1])\n",
    "\n",
    "X_scaled = skl_pre.scale(X)\n",
    "pca.fit(X_scaled)\n",
    "\n",
    "plt.plot(np.cumsum(pca.explained_variance_ratio_))\n",
    "ax = plt.gca()\n",
    "ax.set_xlabel('# of PCs')\n",
    "ax.set_ylabel('Cumulative Explained Variance')"
   ]
  },
  {
   "cell_type": "markdown",
   "metadata": {},
   "source": [
    "This shows that the data requires quite a few PCs to reconstruct the original data. Let's look to see what sort of contribution each PC has on Age:"
   ]
  },
  {
   "cell_type": "code",
   "execution_count": 86,
   "metadata": {
    "collapsed": false
   },
   "outputs": [
    {
     "data": {
      "text/html": [
       "<div>\n",
       "<table border=\"1\" class=\"dataframe\">\n",
       "  <thead>\n",
       "    <tr style=\"text-align: right;\">\n",
       "      <th></th>\n",
       "      <th>0</th>\n",
       "      <th>1</th>\n",
       "      <th>2</th>\n",
       "      <th>3</th>\n",
       "      <th>4</th>\n",
       "      <th>5</th>\n",
       "      <th>6</th>\n",
       "      <th>7</th>\n",
       "      <th>8</th>\n",
       "    </tr>\n",
       "  </thead>\n",
       "  <tbody>\n",
       "    <tr>\n",
       "      <th>Survived</th>\n",
       "      <td>0.315140</td>\n",
       "      <td>-0.363047</td>\n",
       "      <td>0.068505</td>\n",
       "      <td>-0.509236</td>\n",
       "      <td>0.231545</td>\n",
       "      <td>-0.006674</td>\n",
       "      <td>0.464601</td>\n",
       "      <td>-0.385715</td>\n",
       "      <td>0.294249</td>\n",
       "    </tr>\n",
       "    <tr>\n",
       "      <th>Pclass</th>\n",
       "      <td>-0.598346</td>\n",
       "      <td>-0.003873</td>\n",
       "      <td>-0.134022</td>\n",
       "      <td>-0.202624</td>\n",
       "      <td>-0.005051</td>\n",
       "      <td>0.284789</td>\n",
       "      <td>0.130895</td>\n",
       "      <td>0.361900</td>\n",
       "      <td>0.594738</td>\n",
       "    </tr>\n",
       "    <tr>\n",
       "      <th>SibSp</th>\n",
       "      <td>-0.208661</td>\n",
       "      <td>-0.445205</td>\n",
       "      <td>0.041915</td>\n",
       "      <td>0.435086</td>\n",
       "      <td>0.380759</td>\n",
       "      <td>-0.458904</td>\n",
       "      <td>-0.276662</td>\n",
       "      <td>-0.164366</td>\n",
       "      <td>0.328737</td>\n",
       "    </tr>\n",
       "    <tr>\n",
       "      <th>Parch</th>\n",
       "      <td>-0.076178</td>\n",
       "      <td>-0.454895</td>\n",
       "      <td>0.135897</td>\n",
       "      <td>0.306852</td>\n",
       "      <td>-0.694164</td>\n",
       "      <td>0.309003</td>\n",
       "      <td>0.076843</td>\n",
       "      <td>-0.295345</td>\n",
       "      <td>0.064510</td>\n",
       "    </tr>\n",
       "    <tr>\n",
       "      <th>Fare</th>\n",
       "      <td>0.431472</td>\n",
       "      <td>-0.241631</td>\n",
       "      <td>0.065835</td>\n",
       "      <td>0.408951</td>\n",
       "      <td>0.143512</td>\n",
       "      <td>0.136638</td>\n",
       "      <td>0.377270</td>\n",
       "      <td>0.631865</td>\n",
       "      <td>0.054944</td>\n",
       "    </tr>\n",
       "    <tr>\n",
       "      <th>Is_male</th>\n",
       "      <td>-0.193807</td>\n",
       "      <td>0.430719</td>\n",
       "      <td>-0.031386</td>\n",
       "      <td>0.478965</td>\n",
       "      <td>0.268427</td>\n",
       "      <td>0.197299</td>\n",
       "      <td>0.509752</td>\n",
       "      <td>-0.418917</td>\n",
       "      <td>0.014455</td>\n",
       "    </tr>\n",
       "    <tr>\n",
       "      <th>Embarked Q</th>\n",
       "      <td>-0.039953</td>\n",
       "      <td>-0.056405</td>\n",
       "      <td>-0.743626</td>\n",
       "      <td>0.026364</td>\n",
       "      <td>-0.293979</td>\n",
       "      <td>-0.483172</td>\n",
       "      <td>0.339296</td>\n",
       "      <td>0.040871</td>\n",
       "      <td>-0.069830</td>\n",
       "    </tr>\n",
       "    <tr>\n",
       "      <th>Embarked S</th>\n",
       "      <td>-0.250934</td>\n",
       "      <td>0.128376</td>\n",
       "      <td>0.631015</td>\n",
       "      <td>-0.075117</td>\n",
       "      <td>-0.238471</td>\n",
       "      <td>-0.541985</td>\n",
       "      <td>0.371861</td>\n",
       "      <td>0.157446</td>\n",
       "      <td>-0.055162</td>\n",
       "    </tr>\n",
       "    <tr>\n",
       "      <th>Start_Age</th>\n",
       "      <td>0.452805</td>\n",
       "      <td>0.446631</td>\n",
       "      <td>0.025315</td>\n",
       "      <td>0.114799</td>\n",
       "      <td>-0.289100</td>\n",
       "      <td>-0.167258</td>\n",
       "      <td>-0.170246</td>\n",
       "      <td>-0.069300</td>\n",
       "      <td>0.660552</td>\n",
       "    </tr>\n",
       "  </tbody>\n",
       "</table>\n",
       "</div>"
      ],
      "text/plain": [
       "                   0         1         2         3         4         5  \\\n",
       "Survived    0.315140 -0.363047  0.068505 -0.509236  0.231545 -0.006674   \n",
       "Pclass     -0.598346 -0.003873 -0.134022 -0.202624 -0.005051  0.284789   \n",
       "SibSp      -0.208661 -0.445205  0.041915  0.435086  0.380759 -0.458904   \n",
       "Parch      -0.076178 -0.454895  0.135897  0.306852 -0.694164  0.309003   \n",
       "Fare        0.431472 -0.241631  0.065835  0.408951  0.143512  0.136638   \n",
       "Is_male    -0.193807  0.430719 -0.031386  0.478965  0.268427  0.197299   \n",
       "Embarked Q -0.039953 -0.056405 -0.743626  0.026364 -0.293979 -0.483172   \n",
       "Embarked S -0.250934  0.128376  0.631015 -0.075117 -0.238471 -0.541985   \n",
       "Start_Age   0.452805  0.446631  0.025315  0.114799 -0.289100 -0.167258   \n",
       "\n",
       "                   6         7         8  \n",
       "Survived    0.464601 -0.385715  0.294249  \n",
       "Pclass      0.130895  0.361900  0.594738  \n",
       "SibSp      -0.276662 -0.164366  0.328737  \n",
       "Parch       0.076843 -0.295345  0.064510  \n",
       "Fare        0.377270  0.631865  0.054944  \n",
       "Is_male     0.509752 -0.418917  0.014455  \n",
       "Embarked Q  0.339296  0.040871 -0.069830  \n",
       "Embarked S  0.371861  0.157446 -0.055162  \n",
       "Start_Age  -0.170246 -0.069300  0.660552  "
      ]
     },
     "execution_count": 86,
     "metadata": {},
     "output_type": "execute_result"
    }
   ],
   "source": [
    "pd.DataFrame(pca.components_, columns=X.columns).T"
   ]
  },
  {
   "cell_type": "markdown",
   "metadata": {},
   "source": [
    "This shows that start age contibutes quite largely to the first two PCs. It also contributes heavily to the fifth and ninth PCs. These are too high to use though. Let's use two PCs in our reconstruction:"
   ]
  },
  {
   "cell_type": "code",
   "execution_count": 141,
   "metadata": {
    "collapsed": false
   },
   "outputs": [
    {
     "data": {
      "text/html": [
       "<div>\n",
       "<table border=\"1\" class=\"dataframe\">\n",
       "  <thead>\n",
       "    <tr style=\"text-align: right;\">\n",
       "      <th></th>\n",
       "      <th>Actual_Age</th>\n",
       "      <th>Start_Age</th>\n",
       "      <th>Iter0</th>\n",
       "      <th>Iter1</th>\n",
       "      <th>Iter2</th>\n",
       "      <th>Iter3</th>\n",
       "      <th>Iter4</th>\n",
       "      <th>Iter5</th>\n",
       "      <th>Iter6</th>\n",
       "      <th>Iter7</th>\n",
       "      <th>...</th>\n",
       "      <th>Iter90</th>\n",
       "      <th>Iter91</th>\n",
       "      <th>Iter92</th>\n",
       "      <th>Iter93</th>\n",
       "      <th>Iter94</th>\n",
       "      <th>Iter95</th>\n",
       "      <th>Iter96</th>\n",
       "      <th>Iter97</th>\n",
       "      <th>Iter98</th>\n",
       "      <th>Iter99</th>\n",
       "    </tr>\n",
       "  </thead>\n",
       "  <tbody>\n",
       "    <tr>\n",
       "      <th>0</th>\n",
       "      <td>22</td>\n",
       "      <td>25.256911</td>\n",
       "      <td>25.957265</td>\n",
       "      <td>26.342265</td>\n",
       "      <td>26.519972</td>\n",
       "      <td>26.585865</td>\n",
       "      <td>26.597493</td>\n",
       "      <td>26.585532</td>\n",
       "      <td>26.565205</td>\n",
       "      <td>26.543563</td>\n",
       "      <td>...</td>\n",
       "      <td>26.406324</td>\n",
       "      <td>26.406321</td>\n",
       "      <td>26.406319</td>\n",
       "      <td>26.406316</td>\n",
       "      <td>26.406314</td>\n",
       "      <td>26.406312</td>\n",
       "      <td>26.406310</td>\n",
       "      <td>26.406308</td>\n",
       "      <td>26.406307</td>\n",
       "      <td>26.406305</td>\n",
       "    </tr>\n",
       "    <tr>\n",
       "      <th>1</th>\n",
       "      <td>38</td>\n",
       "      <td>32.420796</td>\n",
       "      <td>33.677904</td>\n",
       "      <td>34.363576</td>\n",
       "      <td>34.777784</td>\n",
       "      <td>35.044291</td>\n",
       "      <td>35.223584</td>\n",
       "      <td>35.349167</td>\n",
       "      <td>35.440787</td>\n",
       "      <td>35.510386</td>\n",
       "      <td>...</td>\n",
       "      <td>35.952837</td>\n",
       "      <td>35.952853</td>\n",
       "      <td>35.952868</td>\n",
       "      <td>35.952881</td>\n",
       "      <td>35.952893</td>\n",
       "      <td>35.952905</td>\n",
       "      <td>35.952915</td>\n",
       "      <td>35.952924</td>\n",
       "      <td>35.952933</td>\n",
       "      <td>35.952940</td>\n",
       "    </tr>\n",
       "  </tbody>\n",
       "</table>\n",
       "<p>2 rows × 102 columns</p>\n",
       "</div>"
      ],
      "text/plain": [
       "   Actual_Age  Start_Age      Iter0      Iter1      Iter2      Iter3  \\\n",
       "0          22  25.256911  25.957265  26.342265  26.519972  26.585865   \n",
       "1          38  32.420796  33.677904  34.363576  34.777784  35.044291   \n",
       "\n",
       "       Iter4      Iter5      Iter6      Iter7    ...         Iter90  \\\n",
       "0  26.597493  26.585532  26.565205  26.543563    ...      26.406324   \n",
       "1  35.223584  35.349167  35.440787  35.510386    ...      35.952837   \n",
       "\n",
       "      Iter91     Iter92     Iter93     Iter94     Iter95     Iter96  \\\n",
       "0  26.406321  26.406319  26.406316  26.406314  26.406312  26.406310   \n",
       "1  35.952853  35.952868  35.952881  35.952893  35.952905  35.952915   \n",
       "\n",
       "      Iter97     Iter98     Iter99  \n",
       "0  26.406308  26.406307  26.406305  \n",
       "1  35.952924  35.952933  35.952940  \n",
       "\n",
       "[2 rows x 102 columns]"
      ]
     },
     "execution_count": 141,
     "metadata": {},
     "output_type": "execute_result"
    }
   ],
   "source": [
    "pca_2 = skl_decomp.PCA(n_components=2)\n",
    "scaler = skl_pre.StandardScaler()\n",
    "\n",
    "age_comparison = pd.DataFrame({'Start_Age': X['Start_Age'], \n",
    "                              'Actual_Age': y['Age']})\n",
    "X_iter = X.copy()\n",
    "for iter_num in xrange(100):\n",
    "    scaler.fit(X_iter)\n",
    "    X_scaled = scaler.transform(X_iter)\n",
    "    pca_2.fit(X_scaled)\n",
    "\n",
    "    reconstructed_X = pca_2.inverse_transform(pca_2.transform(X_scaled))\n",
    "    new_age = pd.DataFrame(scaler.inverse_transform(reconstructed_X), columns=X.columns)['Start_Age']\n",
    "\n",
    "    age_comparison['Iter' + str(iter_num)] = new_age\n",
    "    X_iter['Start_Age'] = new_age\n",
    "age_comparison.head(2)"
   ]
  },
  {
   "cell_type": "markdown",
   "metadata": {},
   "source": [
    "#### Plotting average difference from actual age as iterations go on:"
   ]
  },
  {
   "cell_type": "code",
   "execution_count": 129,
   "metadata": {
    "collapsed": false
   },
   "outputs": [
    {
     "data": {
      "text/html": [
       "<div>\n",
       "<table border=\"1\" class=\"dataframe\">\n",
       "  <thead>\n",
       "    <tr style=\"text-align: right;\">\n",
       "      <th></th>\n",
       "      <th>Start_Age</th>\n",
       "      <th>Iter0</th>\n",
       "      <th>Iter1</th>\n",
       "      <th>Iter2</th>\n",
       "      <th>Iter3</th>\n",
       "      <th>Iter4</th>\n",
       "      <th>Iter5</th>\n",
       "      <th>Iter6</th>\n",
       "      <th>Iter7</th>\n",
       "      <th>Iter8</th>\n",
       "      <th>...</th>\n",
       "      <th>Iter90</th>\n",
       "      <th>Iter91</th>\n",
       "      <th>Iter92</th>\n",
       "      <th>Iter93</th>\n",
       "      <th>Iter94</th>\n",
       "      <th>Iter95</th>\n",
       "      <th>Iter96</th>\n",
       "      <th>Iter97</th>\n",
       "      <th>Iter98</th>\n",
       "      <th>Iter99</th>\n",
       "    </tr>\n",
       "  </thead>\n",
       "  <tbody>\n",
       "    <tr>\n",
       "      <th>0</th>\n",
       "      <td>3.256911</td>\n",
       "      <td>3.957265</td>\n",
       "      <td>4.342265</td>\n",
       "      <td>4.519972</td>\n",
       "      <td>4.585865</td>\n",
       "      <td>4.597493</td>\n",
       "      <td>4.585532</td>\n",
       "      <td>4.565205</td>\n",
       "      <td>4.543563</td>\n",
       "      <td>4.523556</td>\n",
       "      <td>...</td>\n",
       "      <td>4.406324</td>\n",
       "      <td>4.406321</td>\n",
       "      <td>4.406319</td>\n",
       "      <td>4.406316</td>\n",
       "      <td>4.406314</td>\n",
       "      <td>4.406312</td>\n",
       "      <td>4.406310</td>\n",
       "      <td>4.406308</td>\n",
       "      <td>4.406307</td>\n",
       "      <td>4.406305</td>\n",
       "    </tr>\n",
       "    <tr>\n",
       "      <th>1</th>\n",
       "      <td>-5.579204</td>\n",
       "      <td>-4.322096</td>\n",
       "      <td>-3.636424</td>\n",
       "      <td>-3.222216</td>\n",
       "      <td>-2.955709</td>\n",
       "      <td>-2.776416</td>\n",
       "      <td>-2.650833</td>\n",
       "      <td>-2.559213</td>\n",
       "      <td>-2.489614</td>\n",
       "      <td>-2.434722</td>\n",
       "      <td>...</td>\n",
       "      <td>-2.047163</td>\n",
       "      <td>-2.047147</td>\n",
       "      <td>-2.047132</td>\n",
       "      <td>-2.047119</td>\n",
       "      <td>-2.047107</td>\n",
       "      <td>-2.047095</td>\n",
       "      <td>-2.047085</td>\n",
       "      <td>-2.047076</td>\n",
       "      <td>-2.047067</td>\n",
       "      <td>-2.047060</td>\n",
       "    </tr>\n",
       "    <tr>\n",
       "      <th>2</th>\n",
       "      <td>-3.578982</td>\n",
       "      <td>-0.734414</td>\n",
       "      <td>1.037719</td>\n",
       "      <td>2.140522</td>\n",
       "      <td>2.842579</td>\n",
       "      <td>3.300518</td>\n",
       "      <td>3.605000</td>\n",
       "      <td>3.809872</td>\n",
       "      <td>3.948285</td>\n",
       "      <td>4.041413</td>\n",
       "      <td>...</td>\n",
       "      <td>4.062437</td>\n",
       "      <td>4.062421</td>\n",
       "      <td>4.062407</td>\n",
       "      <td>4.062394</td>\n",
       "      <td>4.062383</td>\n",
       "      <td>4.062372</td>\n",
       "      <td>4.062362</td>\n",
       "      <td>4.062353</td>\n",
       "      <td>4.062345</td>\n",
       "      <td>4.062337</td>\n",
       "    </tr>\n",
       "    <tr>\n",
       "      <th>3</th>\n",
       "      <td>-0.924590</td>\n",
       "      <td>-1.906281</td>\n",
       "      <td>-2.348377</td>\n",
       "      <td>-2.528638</td>\n",
       "      <td>-2.594982</td>\n",
       "      <td>-2.618675</td>\n",
       "      <td>-2.631021</td>\n",
       "      <td>-2.644153</td>\n",
       "      <td>-2.661645</td>\n",
       "      <td>-2.683603</td>\n",
       "      <td>...</td>\n",
       "      <td>-3.177937</td>\n",
       "      <td>-3.177967</td>\n",
       "      <td>-3.177995</td>\n",
       "      <td>-3.178020</td>\n",
       "      <td>-3.178043</td>\n",
       "      <td>-3.178064</td>\n",
       "      <td>-3.178083</td>\n",
       "      <td>-3.178100</td>\n",
       "      <td>-3.178116</td>\n",
       "      <td>-3.178131</td>\n",
       "    </tr>\n",
       "    <tr>\n",
       "      <th>4</th>\n",
       "      <td>-5.667550</td>\n",
       "      <td>-4.986604</td>\n",
       "      <td>-4.699854</td>\n",
       "      <td>-4.581872</td>\n",
       "      <td>-4.539139</td>\n",
       "      <td>-4.530026</td>\n",
       "      <td>-4.535458</td>\n",
       "      <td>-4.546662</td>\n",
       "      <td>-4.559657</td>\n",
       "      <td>-4.572695</td>\n",
       "      <td>...</td>\n",
       "      <td>-4.717296</td>\n",
       "      <td>-4.717304</td>\n",
       "      <td>-4.717310</td>\n",
       "      <td>-4.717317</td>\n",
       "      <td>-4.717322</td>\n",
       "      <td>-4.717327</td>\n",
       "      <td>-4.717332</td>\n",
       "      <td>-4.717336</td>\n",
       "      <td>-4.717340</td>\n",
       "      <td>-4.717344</td>\n",
       "    </tr>\n",
       "    <tr>\n",
       "      <th>5</th>\n",
       "      <td>-8.915192</td>\n",
       "      <td>-12.120425</td>\n",
       "      <td>-14.160561</td>\n",
       "      <td>-15.389307</td>\n",
       "      <td>-16.137983</td>\n",
       "      <td>-16.611460</td>\n",
       "      <td>-16.925355</td>\n",
       "      <td>-17.143742</td>\n",
       "      <td>-17.302567</td>\n",
       "      <td>-17.422571</td>\n",
       "      <td>...</td>\n",
       "      <td>-18.105051</td>\n",
       "      <td>-18.105078</td>\n",
       "      <td>-18.105102</td>\n",
       "      <td>-18.105124</td>\n",
       "      <td>-18.105144</td>\n",
       "      <td>-18.105162</td>\n",
       "      <td>-18.105179</td>\n",
       "      <td>-18.105194</td>\n",
       "      <td>-18.105208</td>\n",
       "      <td>-18.105221</td>\n",
       "    </tr>\n",
       "    <tr>\n",
       "      <th>6</th>\n",
       "      <td>13.961981</td>\n",
       "      <td>13.459347</td>\n",
       "      <td>13.406942</td>\n",
       "      <td>13.350957</td>\n",
       "      <td>13.254832</td>\n",
       "      <td>13.143588</td>\n",
       "      <td>13.037525</td>\n",
       "      <td>12.946117</td>\n",
       "      <td>12.871813</td>\n",
       "      <td>12.813611</td>\n",
       "      <td>...</td>\n",
       "      <td>12.687140</td>\n",
       "      <td>12.687146</td>\n",
       "      <td>12.687151</td>\n",
       "      <td>12.687156</td>\n",
       "      <td>12.687161</td>\n",
       "      <td>12.687165</td>\n",
       "      <td>12.687169</td>\n",
       "      <td>12.687173</td>\n",
       "      <td>12.687176</td>\n",
       "      <td>12.687179</td>\n",
       "    </tr>\n",
       "    <tr>\n",
       "      <th>7</th>\n",
       "      <td>-6.580002</td>\n",
       "      <td>-6.736910</td>\n",
       "      <td>-6.416725</td>\n",
       "      <td>-6.070577</td>\n",
       "      <td>-5.783227</td>\n",
       "      <td>-5.561216</td>\n",
       "      <td>-5.395328</td>\n",
       "      <td>-5.274430</td>\n",
       "      <td>-5.188495</td>\n",
       "      <td>-5.129173</td>\n",
       "      <td>...</td>\n",
       "      <td>-5.174129</td>\n",
       "      <td>-5.174143</td>\n",
       "      <td>-5.174155</td>\n",
       "      <td>-5.174166</td>\n",
       "      <td>-5.174177</td>\n",
       "      <td>-5.174186</td>\n",
       "      <td>-5.174195</td>\n",
       "      <td>-5.174203</td>\n",
       "      <td>-5.174210</td>\n",
       "      <td>-5.174217</td>\n",
       "    </tr>\n",
       "    <tr>\n",
       "      <th>8</th>\n",
       "      <td>10.744851</td>\n",
       "      <td>13.583347</td>\n",
       "      <td>15.303850</td>\n",
       "      <td>16.356237</td>\n",
       "      <td>17.019826</td>\n",
       "      <td>17.454295</td>\n",
       "      <td>17.750523</td>\n",
       "      <td>17.960888</td>\n",
       "      <td>18.116151</td>\n",
       "      <td>18.234799</td>\n",
       "      <td>...</td>\n",
       "      <td>18.934587</td>\n",
       "      <td>18.934613</td>\n",
       "      <td>18.934638</td>\n",
       "      <td>18.934660</td>\n",
       "      <td>18.934680</td>\n",
       "      <td>18.934698</td>\n",
       "      <td>18.934715</td>\n",
       "      <td>18.934730</td>\n",
       "      <td>18.934744</td>\n",
       "      <td>18.934757</td>\n",
       "    </tr>\n",
       "    <tr>\n",
       "      <th>9</th>\n",
       "      <td>13.262300</td>\n",
       "      <td>14.774871</td>\n",
       "      <td>15.972380</td>\n",
       "      <td>16.771105</td>\n",
       "      <td>17.288401</td>\n",
       "      <td>17.625160</td>\n",
       "      <td>17.847040</td>\n",
       "      <td>17.994545</td>\n",
       "      <td>18.092809</td>\n",
       "      <td>18.157823</td>\n",
       "      <td>...</td>\n",
       "      <td>18.155354</td>\n",
       "      <td>18.155344</td>\n",
       "      <td>18.155334</td>\n",
       "      <td>18.155326</td>\n",
       "      <td>18.155318</td>\n",
       "      <td>18.155310</td>\n",
       "      <td>18.155304</td>\n",
       "      <td>18.155298</td>\n",
       "      <td>18.155292</td>\n",
       "      <td>18.155287</td>\n",
       "    </tr>\n",
       "    <tr>\n",
       "      <th>10</th>\n",
       "      <td>-19.565393</td>\n",
       "      <td>-21.078892</td>\n",
       "      <td>-21.801435</td>\n",
       "      <td>-22.091264</td>\n",
       "      <td>-22.178817</td>\n",
       "      <td>-22.185361</td>\n",
       "      <td>-22.167926</td>\n",
       "      <td>-22.150468</td>\n",
       "      <td>-22.141253</td>\n",
       "      <td>-22.141688</td>\n",
       "      <td>...</td>\n",
       "      <td>-22.602066</td>\n",
       "      <td>-22.602100</td>\n",
       "      <td>-22.602130</td>\n",
       "      <td>-22.602158</td>\n",
       "      <td>-22.602183</td>\n",
       "      <td>-22.602206</td>\n",
       "      <td>-22.602227</td>\n",
       "      <td>-22.602246</td>\n",
       "      <td>-22.602264</td>\n",
       "      <td>-22.602280</td>\n",
       "    </tr>\n",
       "  </tbody>\n",
       "</table>\n",
       "<p>11 rows × 101 columns</p>\n",
       "</div>"
      ],
      "text/plain": [
       "    Start_Age      Iter0      Iter1      Iter2      Iter3      Iter4  \\\n",
       "0    3.256911   3.957265   4.342265   4.519972   4.585865   4.597493   \n",
       "1   -5.579204  -4.322096  -3.636424  -3.222216  -2.955709  -2.776416   \n",
       "2   -3.578982  -0.734414   1.037719   2.140522   2.842579   3.300518   \n",
       "3   -0.924590  -1.906281  -2.348377  -2.528638  -2.594982  -2.618675   \n",
       "4   -5.667550  -4.986604  -4.699854  -4.581872  -4.539139  -4.530026   \n",
       "5   -8.915192 -12.120425 -14.160561 -15.389307 -16.137983 -16.611460   \n",
       "6   13.961981  13.459347  13.406942  13.350957  13.254832  13.143588   \n",
       "7   -6.580002  -6.736910  -6.416725  -6.070577  -5.783227  -5.561216   \n",
       "8   10.744851  13.583347  15.303850  16.356237  17.019826  17.454295   \n",
       "9   13.262300  14.774871  15.972380  16.771105  17.288401  17.625160   \n",
       "10 -19.565393 -21.078892 -21.801435 -22.091264 -22.178817 -22.185361   \n",
       "\n",
       "        Iter5      Iter6      Iter7      Iter8    ...         Iter90  \\\n",
       "0    4.585532   4.565205   4.543563   4.523556    ...       4.406324   \n",
       "1   -2.650833  -2.559213  -2.489614  -2.434722    ...      -2.047163   \n",
       "2    3.605000   3.809872   3.948285   4.041413    ...       4.062437   \n",
       "3   -2.631021  -2.644153  -2.661645  -2.683603    ...      -3.177937   \n",
       "4   -4.535458  -4.546662  -4.559657  -4.572695    ...      -4.717296   \n",
       "5  -16.925355 -17.143742 -17.302567 -17.422571    ...     -18.105051   \n",
       "6   13.037525  12.946117  12.871813  12.813611    ...      12.687140   \n",
       "7   -5.395328  -5.274430  -5.188495  -5.129173    ...      -5.174129   \n",
       "8   17.750523  17.960888  18.116151  18.234799    ...      18.934587   \n",
       "9   17.847040  17.994545  18.092809  18.157823    ...      18.155354   \n",
       "10 -22.167926 -22.150468 -22.141253 -22.141688    ...     -22.602066   \n",
       "\n",
       "       Iter91     Iter92     Iter93     Iter94     Iter95     Iter96  \\\n",
       "0    4.406321   4.406319   4.406316   4.406314   4.406312   4.406310   \n",
       "1   -2.047147  -2.047132  -2.047119  -2.047107  -2.047095  -2.047085   \n",
       "2    4.062421   4.062407   4.062394   4.062383   4.062372   4.062362   \n",
       "3   -3.177967  -3.177995  -3.178020  -3.178043  -3.178064  -3.178083   \n",
       "4   -4.717304  -4.717310  -4.717317  -4.717322  -4.717327  -4.717332   \n",
       "5  -18.105078 -18.105102 -18.105124 -18.105144 -18.105162 -18.105179   \n",
       "6   12.687146  12.687151  12.687156  12.687161  12.687165  12.687169   \n",
       "7   -5.174143  -5.174155  -5.174166  -5.174177  -5.174186  -5.174195   \n",
       "8   18.934613  18.934638  18.934660  18.934680  18.934698  18.934715   \n",
       "9   18.155344  18.155334  18.155326  18.155318  18.155310  18.155304   \n",
       "10 -22.602100 -22.602130 -22.602158 -22.602183 -22.602206 -22.602227   \n",
       "\n",
       "       Iter97     Iter98     Iter99  \n",
       "0    4.406308   4.406307   4.406305  \n",
       "1   -2.047076  -2.047067  -2.047060  \n",
       "2    4.062353   4.062345   4.062337  \n",
       "3   -3.178100  -3.178116  -3.178131  \n",
       "4   -4.717336  -4.717340  -4.717344  \n",
       "5  -18.105194 -18.105208 -18.105221  \n",
       "6   12.687173  12.687176  12.687179  \n",
       "7   -5.174203  -5.174210  -5.174217  \n",
       "8   18.934730  18.934744  18.934757  \n",
       "9   18.155298  18.155292  18.155287  \n",
       "10 -22.602246 -22.602264 -22.602280  \n",
       "\n",
       "[11 rows x 101 columns]"
      ]
     },
     "execution_count": 129,
     "metadata": {},
     "output_type": "execute_result"
    }
   ],
   "source": [
    "difference_from_actual.ix[0:10,:]"
   ]
  },
  {
   "cell_type": "code",
   "execution_count": 140,
   "metadata": {
    "collapsed": false
   },
   "outputs": [
    {
     "data": {
      "text/plain": [
       "<matplotlib.text.Text at 0x263b3d30>"
      ]
     },
     "execution_count": 140,
     "metadata": {},
     "output_type": "execute_result"
    },
    {
     "data": {
      "image/png": "[encoded data removed]",
      "text/plain": [
       "<matplotlib.figure.Figure at 0x23359748>"
      ]
     },
     "metadata": {},
     "output_type": "display_data"
    }
   ],
   "source": [
    "from matplotlib.pylab import rcParams\n",
    "rcParams['figure.figsize'] = 10,10\n",
    "difference_from_actual = age_comparison.drop(['Actual_Age'], axis=1).sub(age_comparison['Actual_Age'], axis=0)\n",
    "plt.plot(difference_from_actual.ix[40:50,:].T);\n",
    "ax = plt.gca()\n",
    "ax.set_xlabel('# of iters')\n",
    "ax.set_ylabel('Difference from actual age')"
   ]
  },
  {
   "cell_type": "code",
   "execution_count": 149,
   "metadata": {
    "collapsed": false
   },
   "outputs": [
    {
     "name": "stdout",
     "output_type": "stream",
     "text": [
      "Start Diff:  9.97146537728\n",
      "End Diff:  10.6975194502\n"
     ]
    }
   ],
   "source": [
    "average_difference_start = np.abs(difference_from_actual['Start_Age']).mean()\n",
    "average_difference_final_iter = np.abs(difference_from_actual['Iter99']).mean()\n",
    "print 'Start Diff: ' , average_difference_start\n",
    "print 'End Diff: ' , average_difference_final_iter"
   ]
  },
  {
   "cell_type": "markdown",
   "metadata": {},
   "source": [
    "This shows that many ages get worse after imputation. \n",
    "\n",
    "Let's redo it with more PCs:"
   ]
  },
  {
   "cell_type": "code",
   "execution_count": 142,
   "metadata": {
    "collapsed": false
   },
   "outputs": [
    {
     "data": {
      "text/plain": [
       "<matplotlib.text.Text at 0x22ff0198>"
      ]
     },
     "execution_count": 142,
     "metadata": {},
     "output_type": "execute_result"
    },
    {
     "data": {
      "image/png": "[encoded data removed]",
      "text/plain": [
       "<matplotlib.figure.Figure at 0x21d45e10>"
      ]
     },
     "metadata": {},
     "output_type": "display_data"
    }
   ],
   "source": [
    "pca_5 = skl_decomp.PCA(n_components=5)\n",
    "scaler = skl_pre.StandardScaler()\n",
    "\n",
    "age_comparison_pc_5 = pd.DataFrame({'Start_Age': X['Start_Age'], \n",
    "                              'Actual_Age': y['Age']})\n",
    "X_iter = X.copy()\n",
    "for iter_num in xrange(100):\n",
    "    scaler.fit(X_iter)\n",
    "    X_scaled = scaler.transform(X_iter)\n",
    "    pca_2.fit(X_scaled)\n",
    "\n",
    "    reconstructed_X = pca_2.inverse_transform(pca_2.transform(X_scaled))\n",
    "    new_age = pd.DataFrame(scaler.inverse_transform(reconstructed_X), columns=X.columns)['Start_Age']\n",
    "\n",
    "    age_comparison_pc_5['Iter' + str(iter_num)] = new_age\n",
    "    X_iter['Start_Age'] = new_age\n",
    "age_comparison_pc_5.head(2)\n",
    "\n",
    "difference_from_actual_pc_5 = age_comparison_pc_5.drop(['Actual_Age'], axis=1).sub(age_comparison['Actual_Age'], axis=0)\n",
    "plt.plot(difference_from_actual_pc_5.ix[40:50,:].T);\n",
    "ax = plt.gca()\n",
    "ax.set_xlabel('# of iters')\n",
    "ax.set_ylabel('Difference from actual age')\n",
    "ax.set_title('Difference from actual age by # of imputation iters (PCs = 5)')"
   ]
  },
  {
   "cell_type": "code",
   "execution_count": 150,
   "metadata": {
    "collapsed": false
   },
   "outputs": [
    {
     "name": "stdout",
     "output_type": "stream",
     "text": [
      "Start Diff:  9.97146537728\n",
      "End Diff:  10.6975194502\n"
     ]
    }
   ],
   "source": [
    "average_difference_start = np.abs(difference_from_actual_pc_5['Start_Age']).mean()\n",
    "average_difference_final_iter = np.abs(difference_from_actual_pc_5['Iter99']).mean()\n",
    "print 'Start Diff: ' , average_difference_start\n",
    "print 'End Diff: ' , average_difference_final_iter"
   ]
  },
  {
   "cell_type": "markdown",
   "metadata": {},
   "source": [
    "## Conclusions\n",
    "Age imputation doesn't improve the prediction of age over linear regression prediction"
   ]
  }
 ],
 "metadata": {
  "kernelspec": {
   "display_name": "Python 2",
   "language": "python",
   "name": "python2"
  },
  "language_info": {
   "codemirror_mode": {
    "name": "ipython",
    "version": 2
   },
   "file_extension": ".py",
   "mimetype": "text/x-python",
   "name": "python",
   "nbconvert_exporter": "python",
   "pygments_lexer": "ipython2",
   "version": "2.7.10"
  }
 },
 "nbformat": 4,
 "nbformat_minor": 0
}
