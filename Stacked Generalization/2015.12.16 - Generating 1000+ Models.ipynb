{
 "cells": [
  {
   "cell_type": "markdown",
   "metadata": {},
   "source": [
    "# Generating 1000+ Models"
   ]
  },
  {
   "cell_type": "code",
   "execution_count": 1,
   "metadata": {
    "collapsed": false
   },
   "outputs": [],
   "source": [
    "import sys\n",
    "#import os\n",
    "#os.chdir('C:\\Users\\Lundi\\Documents\\Programming\\Python\\Kaggle\\Titanic - 2015')\n",
    "sys.path.append(\"C:\\Users\\Lundi\\Documents\\Programming\\Python\\Kaggle\\Titanic - 2015\")\n",
    "sys.path.append(\"C:\\Users\\Lundi\\Documents\\Programming\\Python\\Kaggle\\Titanic - 2015\\Stacked Generalization\")\n",
    "\n",
    "import TitanicPreprocessor as tp\n",
    "import TitanicPredictor as tpred\n",
    "import metaLearning as metaLearn\n",
    "meta_learn = metaLearn.metaLearning()\n",
    "import sklearn.ensemble as skl_ensemble\n",
    "import sklearn.linear_model as skl_lm\n",
    "import sklearn.grid_search as skl_gs\n",
    "import sklearn.cross_validation as skl_cv\n",
    "import numpy as np\n",
    "import pandas as pd\n",
    "\n",
    "%matplotlib inline\n",
    "import matplotlib.pyplot as plt\n",
    "import seaborn as sns"
   ]
  },
  {
   "cell_type": "markdown",
   "metadata": {},
   "source": [
    "## Random Forest"
   ]
  },
  {
   "cell_type": "code",
   "execution_count": 2,
   "metadata": {
    "collapsed": false
   },
   "outputs": [],
   "source": [
    "rf_clf = skl_ensemble.RandomForestClassifier()\n",
    "\n",
    "param_grid = [\n",
    "    {'n_estimators': [10,100, 1000], 'criterion':['gini','entropy'], 'max_depth':[None,1,2,4,6,8,10], 'max_features':[1,2,4] }\n",
    "    ]\n",
    "\n",
    "rf_param_grid = skl_gs.ParameterGrid(param_grid = param_grid)"
   ]
  },
  {
   "cell_type": "code",
   "execution_count": 3,
   "metadata": {
    "collapsed": false
   },
   "outputs": [],
   "source": [
    "meta_learn.generateModelPredictions(rf_clf, rf_param_grid)"
   ]
  },
  {
   "cell_type": "code",
   "execution_count": 5,
   "metadata": {
    "collapsed": false
   },
   "outputs": [
    {
     "data": {
      "text/plain": [
       "226"
      ]
     },
     "execution_count": 5,
     "metadata": {},
     "output_type": "execute_result"
    }
   ],
   "source": [
    "len(meta_learn.model_list)"
   ]
  },
  {
   "cell_type": "markdown",
   "metadata": {},
   "source": [
    "## Logistic Regression"
   ]
  },
  {
   "cell_type": "code",
   "execution_count": 4,
   "metadata": {
    "collapsed": false
   },
   "outputs": [],
   "source": [
    "lr_clf = skl_lm.LogisticRegression()\n",
    "\n",
    "param_grid = [\n",
    "    {'penalty':['l1','l2'], 'C':np.logspace(-10,10,num=50), 'solver': ['liblinear'] }\n",
    "    ]\n",
    "\n",
    "lr_param_grid = skl_gs.ParameterGrid(param_grid = param_grid)\n",
    "\n",
    "meta_learn.generateModelPredictions(lr_clf, lr_param_grid)"
   ]
  },
  {
   "cell_type": "markdown",
   "metadata": {},
   "source": [
    "## AdaBoost with DT stumps"
   ]
  },
  {
   "cell_type": "code",
   "execution_count": 7,
   "metadata": {
    "collapsed": true
   },
   "outputs": [],
   "source": [
    "import sklearn.tree as skl_tree"
   ]
  },
  {
   "cell_type": "code",
   "execution_count": 10,
   "metadata": {
    "collapsed": false
   },
   "outputs": [],
   "source": [
    "dt_stump_clf = skl_tree.DecisionTreeClassifier(max_depth=1)\n",
    "ada_dt_stump_clf = skl_ensemble.AdaBoostClassifier(base_estimator=dt_stump_clf)\n",
    "\n",
    "param_grid = [\n",
    "    {'n_estimators':[50, 100, 500, 1000], 'learning_rate':[0.001, 0.1, 1.0] }\n",
    "    ]\n",
    "\n",
    "ada_dt_stump_param_grid = skl_gs.ParameterGrid(param_grid = param_grid)\n",
    "\n",
    "meta_learn.generateModelPredictions(ada_dt_stump_clf, ada_dt_stump_param_grid)"
   ]
  },
  {
   "cell_type": "code",
   "execution_count": 11,
   "metadata": {
    "collapsed": false
   },
   "outputs": [
    {
     "data": {
      "text/plain": [
       "235"
      ]
     },
     "execution_count": 11,
     "metadata": {},
     "output_type": "execute_result"
    }
   ],
   "source": [
    "len(meta_learn.model_list)"
   ]
  },
  {
   "cell_type": "markdown",
   "metadata": {},
   "source": [
    "## Random Subspace Method with kNN"
   ]
  },
  {
   "cell_type": "code",
   "execution_count": 14,
   "metadata": {
    "collapsed": true
   },
   "outputs": [],
   "source": [
    "import sklearn.neighbors as skl_neighbors"
   ]
  },
  {
   "cell_type": "code",
   "execution_count": null,
   "metadata": {
    "collapsed": true
   },
   "outputs": [],
   "source": [
    "skl_ensemble.BaggingClassifier(skl_neighbors.)"
   ]
  }
 ],
 "metadata": {
  "kernelspec": {
   "display_name": "Python 2",
   "language": "python",
   "name": "python2"
  },
  "language_info": {
   "codemirror_mode": {
    "name": "ipython",
    "version": 2
   },
   "file_extension": ".py",
   "mimetype": "text/x-python",
   "name": "python",
   "nbconvert_exporter": "python",
   "pygments_lexer": "ipython2",
   "version": "2.7.10"
  }
 },
 "nbformat": 4,
 "nbformat_minor": 0
}
