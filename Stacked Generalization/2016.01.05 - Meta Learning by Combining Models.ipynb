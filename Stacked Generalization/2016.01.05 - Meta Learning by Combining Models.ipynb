{
 "cells": [
  {
   "cell_type": "markdown",
   "metadata": {},
   "source": [
    "# Plan: Meta Learning by Combining models"
   ]
  },
  {
   "cell_type": "markdown",
   "metadata": {},
   "source": [
    "In order to improve prediction quality, I need to combine models using a meta learning combiner. This will involve taking probe predictions trained on the training data, then blending them to maximize the prediction accuracy of the probe set. \n",
    "\n",
    "The first step of this was to generate a large library of predictions of the probe set, without optimizing for performance with any hyperparamters/models. This has been completed.\n",
    "\n",
    "The second step is to generate a blend that maximizes the blend accuracy when predicting the probe set. This will be accomplished by taking a random prediction, adding it to the blend, and then seeing whether it improves the blend accuracy. If it doesn't, the next prediction is tested. This will be done with replacement, as \"Ensemble Learning from Libraries of Models\" shows this causes a more stable blend accuracy curve as more models are added. \n",
    "\n",
    "Once the blend accuracy does not change when adding further models to the blend, the paramters for the models and blend model are stored. To improve the accuracy, all models will be re-trained on the combined training and probe set. This improves accuracy because the models see more training data than before. Next, the individual models predict the test data and are then combined using the blend parameters. "
   ]
  },
  {
   "cell_type": "markdown",
   "metadata": {},
   "source": [
    "# Meta Learning by Combining Models"
   ]
  },
  {
   "cell_type": "code",
   "execution_count": 1,
   "metadata": {
    "collapsed": false
   },
   "outputs": [
    {
     "name": "stderr",
     "output_type": "stream",
     "text": [
      "/Users/alexsutherland/anaconda/lib/python2.7/site-packages/matplotlib/__init__.py:872: UserWarning: axes.color_cycle is deprecated and replaced with axes.prop_cycle; please use the latter.\n",
      "  warnings.warn(self.msg_depr % (key, alt_key))\n"
     ]
    }
   ],
   "source": [
    "import sys\n",
    "import os\n",
    "\n",
    "import socket\n",
    "computer_name = socket.gethostname()\n",
    "if computer_name == 'Alexs-MacBook-Pro.local':\n",
    "    base_path = \"/Users/alexsutherland/Documents/Programming/Python/Kaggle/Titanic---2015\"\n",
    "else:    \n",
    "    base_path = 'C:\\Users\\Lundi\\Documents\\Programming\\Python\\Kaggle\\Titanic - 2015'\n",
    "sys.path.append(base_path)\n",
    "sys.path.append(base_path + \"\\Stacked Generalization\")\n",
    "\n",
    "\n",
    "import TitanicPreprocessor as tp\n",
    "import TitanicPredictor as tpred\n",
    "import metaLearning as metaLearn\n",
    "meta_learn = metaLearn.metaLearning()\n",
    "import sklearn.ensemble as skl_ensemble\n",
    "import sklearn.linear_model as skl_lm\n",
    "import sklearn.grid_search as skl_gs\n",
    "import sklearn.cross_validation as skl_cv\n",
    "import numpy as np\n",
    "import pandas as pd\n",
    "\n",
    "%matplotlib inline\n",
    "import matplotlib.pyplot as plt\n",
    "import seaborn as sns"
   ]
  },
  {
   "cell_type": "markdown",
   "metadata": {},
   "source": [
    "## Generating models"
   ]
  },
  {
   "cell_type": "code",
   "execution_count": 2,
   "metadata": {
    "collapsed": false
   },
   "outputs": [
    {
     "name": "stdout",
     "output_type": "stream",
     "text": [
      "100 models added\n"
     ]
    }
   ],
   "source": [
    "meta_learn.generateExampleLogisticModels()"
   ]
  },
  {
   "cell_type": "markdown",
   "metadata": {},
   "source": [
    "## Taking a random prediction, adding it to the blend, and then seeing whether it improves the blend accuracy\n",
    "\n",
    "Generate predictions for the entire dataset using 10-fold CV.\n",
    "\n",
    "Then take those the full training set predictions and classify"
   ]
  },
  {
   "cell_type": "code",
   "execution_count": null,
   "metadata": {
    "collapsed": true
   },
   "outputs": [],
   "source": [
    "lm_clf = skl_lm.LogisticRegression()\n",
    "y = meta_learn.data['y']\n",
    "X = meta_learn.data['X']\n",
    "\n",
    "\n"
   ]
  },
  {
   "cell_type": "code",
   "execution_count": 15,
   "metadata": {
    "collapsed": false
   },
   "outputs": [
    {
     "name": "stdout",
     "output_type": "stream",
     "text": [
      "Best individual accuracy: 0.806722689076\n"
     ]
    }
   ],
   "source": [
    "#Find best individual predictor\n",
    "best_blend_accuracy = 0\n",
    "for current_prediction_probs in meta_learn.model_prediction_probs:\n",
    "    current_predictions = map(lambda x: 1 if x >= 0.5 else 0, current_prediction_probs)\n",
    "    current_accuracy = np.mean(current_predictions == y_probe)\n",
    "    if current_accuracy > best_blend_accuracy:\n",
    "        best_blend_accuracy = current_accuracy\n",
    "print 'Best individual accuracy:', best_blend_accuracy"
   ]
  },
  {
   "cell_type": "code",
   "execution_count": 5,
   "metadata": {
    "collapsed": false
   },
   "outputs": [
    {
     "ename": "NameError",
     "evalue": "name 'best_blend_accuracy' is not defined",
     "output_type": "error",
     "traceback": [
      "\u001b[0;31m---------------------------------------------------------------------------\u001b[0m",
      "\u001b[0;31mNameError\u001b[0m                                 Traceback (most recent call last)",
      "\u001b[0;32m<ipython-input-5-b088679721b3>\u001b[0m in \u001b[0;36m<module>\u001b[0;34m()\u001b[0m\n\u001b[1;32m      2\u001b[0m \u001b[0my_train\u001b[0m \u001b[0;34m=\u001b[0m \u001b[0mmeta_learn\u001b[0m\u001b[0;34m.\u001b[0m\u001b[0mdata\u001b[0m\u001b[0;34m[\u001b[0m\u001b[0;34m'y_train'\u001b[0m\u001b[0;34m]\u001b[0m\u001b[0;34m\u001b[0m\u001b[0m\n\u001b[1;32m      3\u001b[0m \u001b[0my_probe\u001b[0m \u001b[0;34m=\u001b[0m \u001b[0mmeta_learn\u001b[0m\u001b[0;34m.\u001b[0m\u001b[0mdata\u001b[0m\u001b[0;34m[\u001b[0m\u001b[0;34m'y_probe'\u001b[0m\u001b[0;34m]\u001b[0m\u001b[0;34m\u001b[0m\u001b[0m\n\u001b[0;32m----> 4\u001b[0;31m \u001b[0mbest_blend_accuracy\u001b[0m\u001b[0;34m\u001b[0m\u001b[0m\n\u001b[0m\u001b[1;32m      5\u001b[0m \u001b[0;34m\u001b[0m\u001b[0m\n\u001b[1;32m      6\u001b[0m \u001b[0;34m\u001b[0m\u001b[0m\n",
      "\u001b[0;31mNameError\u001b[0m: name 'best_blend_accuracy' is not defined"
     ]
    }
   ],
   "source": [
    "blend_prediction_set = []\n",
    "#Taking a random prediction\n",
    "current_predictions = meta_learn.model_prediction_probs[np.random.randint(0, high=len(meta_learn.model_prediction_probs))]\n",
    "blend_prediction_set.append(current_predictions)\n",
    "\n",
    "lm_clf.fit(blend_prediction_set, y_train)\n",
    "lm_clf.predict(blend_prediction_set)\n",
    "\n",
    "#if current_blend_accuracy <= best_blend_accuracy \n",
    "    #blend_prediction_set.pop()"
   ]
  },
  {
   "cell_type": "markdown",
   "metadata": {},
   "source": [
    "## Testing that blend accuracy does not change when adding further models to the blend"
   ]
  },
  {
   "cell_type": "code",
   "execution_count": null,
   "metadata": {
    "collapsed": true
   },
   "outputs": [],
   "source": []
  },
  {
   "cell_type": "markdown",
   "metadata": {},
   "source": [
    "## Storing paramters for the models and blend model "
   ]
  },
  {
   "cell_type": "code",
   "execution_count": null,
   "metadata": {
    "collapsed": true
   },
   "outputs": [],
   "source": []
  },
  {
   "cell_type": "markdown",
   "metadata": {},
   "source": [
    "## Re-training models on the combined training and probe set"
   ]
  },
  {
   "cell_type": "code",
   "execution_count": null,
   "metadata": {
    "collapsed": true
   },
   "outputs": [],
   "source": []
  },
  {
   "cell_type": "markdown",
   "metadata": {
    "collapsed": true
   },
   "source": [
    "## Individual models predict the test data and are then combined using the blend parameters"
   ]
  },
  {
   "cell_type": "code",
   "execution_count": null,
   "metadata": {
    "collapsed": true
   },
   "outputs": [],
   "source": []
  }
 ],
 "metadata": {
  "kernelspec": {
   "display_name": "Python 2",
   "language": "python",
   "name": "python2"
  },
  "language_info": {
   "codemirror_mode": {
    "name": "ipython",
    "version": 2
   },
   "file_extension": ".py",
   "mimetype": "text/x-python",
   "name": "python",
   "nbconvert_exporter": "python",
   "pygments_lexer": "ipython2",
   "version": "2.7.11"
  }
 },
 "nbformat": 4,
 "nbformat_minor": 0
}
