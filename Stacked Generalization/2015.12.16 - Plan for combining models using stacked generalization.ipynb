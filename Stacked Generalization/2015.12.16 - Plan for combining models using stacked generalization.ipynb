{
 "cells": [
  {
   "cell_type": "markdown",
   "metadata": {},
   "source": [
    "# Plan for combining models using stacked generalization\n",
    "\n",
    "After reading \"Ensemble selection with Libraries...\" I found that another method of generating stacked predictors is to generate a large diversity of models and then combining them to minimize a probe set error. The general flow would be as follows:\n",
    "\n",
    "1. Train >100 different model on a training set\n",
    "2. Generate predictions for a probe set and store these along with the model parameters in a csv\n",
    "3. Load the predictions as a design matrix\n",
    "4. Run a logistic regression model with a starting model and an added model\n",
    "5. Repeat this for the starting model + every other model, store each combinations' probe error\n",
    "6. Select the model that minimizes the error\n",
    "7. Test the new combination of models on a test set\n",
    "8. Plot the probe and test set error as a function of # of models blended"
   ]
  },
  {
   "cell_type": "code",
   "execution_count": null,
   "metadata": {
    "collapsed": true
   },
   "outputs": [],
   "source": []
  }
 ],
 "metadata": {
  "kernelspec": {
   "display_name": "Python 2",
   "language": "python",
   "name": "python2"
  },
  "language_info": {
   "codemirror_mode": {
    "name": "ipython",
    "version": 2
   },
   "file_extension": ".py",
   "mimetype": "text/x-python",
   "name": "python",
   "nbconvert_exporter": "python",
   "pygments_lexer": "ipython2",
   "version": "2.7.10"
  }
 },
 "nbformat": 4,
 "nbformat_minor": 0
}
