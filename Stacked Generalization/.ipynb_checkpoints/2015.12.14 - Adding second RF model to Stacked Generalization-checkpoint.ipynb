{
 "cells": [
  {
   "cell_type": "markdown",
   "metadata": {},
   "source": [
    "# Adding second RF model to Stacked Generalization\n",
    "\n",
    "In order to add a second model to the stacked generalization, I need a way to optimize the blending of the first two models to the blending error, not the individual error of the second model. \n",
    "\n",
    "Let's create a second method using Random Forests:"
   ]
  },
  {
   "cell_type": "code",
   "execution_count": 1,
   "metadata": {
    "collapsed": true
   },
   "outputs": [],
   "source": [
    "import os\n",
    "os.chdir('C:\\Users\\Lundi\\Documents\\Programming\\Python\\Kaggle\\Titanic - 2015\\Stacked Generalization')\n",
    "import metaLearning as meta\n",
    "\n",
    "meta_learning = meta.metaLearning"
   ]
  },
  {
   "cell_type": "code",
   "execution_count": 58,
   "metadata": {
    "collapsed": true
   },
   "outputs": [],
   "source": [
    "os.chdir('C:\\Users\\Lundi\\Documents\\Programming\\Python\\Kaggle\\Titanic - 2015')\n",
    "#os.chdir('/Users/alexsutherland/Documents/Programming/Python/Kaggle/Titanic---2015')\n",
    "\n",
    "import TitanicPreprocessor as tp\n",
    "import TitanicPredictor as tpred\n",
    "import sklearn.ensemble as skl_ensemble\n",
    "import sklearn.grid_search as skl_gs\n",
    "import sklearn.cross_validation as skl_cv\n",
    "import sklearn.linear_model as skl_lm\n",
    "import numpy as np\n",
    "import pandas as pd\n",
    "\n",
    "%matplotlib inline\n",
    "import matplotlib.pyplot as plt\n",
    "import seaborn as sns\n",
    "\n",
    "X, y, X_test, X_test_ids = tp.getData()\n",
    "X_train, X_probe, y_train, y_probe = skl_cv.train_test_split(X, y, test_size=0.25, random_state = 0)"
   ]
  },
  {
   "cell_type": "markdown",
   "metadata": {},
   "source": [
    "## Creating a param grid for Random Forest"
   ]
  },
  {
   "cell_type": "code",
   "execution_count": 5,
   "metadata": {
    "collapsed": true
   },
   "outputs": [],
   "source": [
    "rf_clf = skl_ensemble.RandomForestClassifier()\n",
    "rf_param_grid = [\n",
    "    {'n_estimators': [10,100], 'criterion': ['gini','entropy'], 'max_depth': [None,1,3,5], 'min_samples_leaf':[1], 'max_features':['auto',2,3,4,5]}\n",
    "]\n",
    "\n",
    "gs_rf_clf = skl_gs.GridSearchCV(rf_clf, param_grid=rf_param_grid, cv=5)"
   ]
  },
  {
   "cell_type": "code",
   "execution_count": 6,
   "metadata": {
    "collapsed": false
   },
   "outputs": [
    {
     "data": {
      "text/plain": [
       "GridSearchCV(cv=5, error_score='raise',\n",
       "       estimator=RandomForestClassifier(bootstrap=True, class_weight=None, criterion='gini',\n",
       "            max_depth=None, max_features='auto', max_leaf_nodes=None,\n",
       "            min_samples_leaf=1, min_samples_split=2,\n",
       "            min_weight_fraction_leaf=0.0, n_estimators=10, n_jobs=1,\n",
       "            oob_score=False, random_state=None, verbose=0,\n",
       "            warm_start=False),\n",
       "       fit_params={}, iid=True, n_jobs=1,\n",
       "       param_grid=[{'n_estimators': [10, 100], 'max_features': ['auto', 2, 3, 4, 5], 'criterion': ['gini', 'entropy'], 'max_depth': [None, 1, 3, 5], 'min_samples_leaf': [1]}],\n",
       "       pre_dispatch='2*n_jobs', refit=True, scoring=None, verbose=0)"
      ]
     },
     "execution_count": 6,
     "metadata": {},
     "output_type": "execute_result"
    }
   ],
   "source": [
    "gs_rf_clf.fit(X, y)"
   ]
  },
  {
   "cell_type": "markdown",
   "metadata": {},
   "source": [
    "## Blending with logistic regression model\n",
    "\n",
    "Let's first create a loop that runs through a parameter grid and predict with each model"
   ]
  },
  {
   "cell_type": "code",
   "execution_count": 60,
   "metadata": {
    "collapsed": false
   },
   "outputs": [],
   "source": [
    "for params in skl_gs.ParameterGrid(rf_param_grid):\n",
    "    rf_clf.set_params(**params)\n",
    "    rf_clf.fit(X_train, y_train)\n",
    "    y_rf_pred_probs = rf_clf.predict_proba(X_probe)\n",
    "    y_rf_pred_probs = pd.DataFrame({'rf_pred_prob_survival': y_rf_pred_probs.transpose()[1], 'id':X_probe.index})"
   ]
  },
  {
   "cell_type": "markdown",
   "metadata": {},
   "source": [
    "Now, I need to combine the random forest predictions with the logistic regression params and predict with a linear regression model:"
   ]
  },
  {
   "cell_type": "code",
   "execution_count": 62,
   "metadata": {
    "collapsed": false
   },
   "outputs": [
    {
     "data": {
      "text/html": [
       "<div>\n",
       "<table border=\"1\" class=\"dataframe\">\n",
       "  <thead>\n",
       "    <tr style=\"text-align: right;\">\n",
       "      <th></th>\n",
       "      <th>lr_prob_survival</th>\n",
       "      <th>rf_pred_prob_survival</th>\n",
       "    </tr>\n",
       "    <tr>\n",
       "      <th>id</th>\n",
       "      <th></th>\n",
       "      <th></th>\n",
       "    </tr>\n",
       "  </thead>\n",
       "  <tbody>\n",
       "    <tr>\n",
       "      <th>495</th>\n",
       "      <td>0.227339</td>\n",
       "      <td>0.166219</td>\n",
       "    </tr>\n",
       "    <tr>\n",
       "      <th>648</th>\n",
       "      <td>0.212925</td>\n",
       "      <td>0.112776</td>\n",
       "    </tr>\n",
       "  </tbody>\n",
       "</table>\n",
       "</div>"
      ],
      "text/plain": [
       "     lr_prob_survival  rf_pred_prob_survival\n",
       "id                                          \n",
       "495          0.227339               0.166219\n",
       "648          0.212925               0.112776"
      ]
     },
     "execution_count": 62,
     "metadata": {},
     "output_type": "execute_result"
    }
   ],
   "source": [
    "log_reg_probe_pred_probs = pd.read_csv('Stacked Generalization/Data/log_reg_probe_pred.csv')\n",
    "combined_pred_prob = pd.merge(log_reg_probe_pred_probs, y_rf_pred_probs, on='id')\n",
    "combined_pred_prob = combined_pred_prob.set_index('id')\n",
    "combined_pred_prob.head(2)"
   ]
  },
  {
   "cell_type": "markdown",
   "metadata": {},
   "source": [
    "With both predictions, let's run a logistic regression model:"
   ]
  },
  {
   "cell_type": "code",
   "execution_count": 67,
   "metadata": {
    "collapsed": false
   },
   "outputs": [
    {
     "name": "stdout",
     "output_type": "stream",
     "text": [
      "0.83+/-0.05\n"
     ]
    }
   ],
   "source": [
    "lr_clf = skl_lm.LogisticRegression()\n",
    "lr_clf.fit(combined_pred_prob, y_probe)\n",
    "\n",
    "blend_cv_scores = skl_cv.cross_val_score(lr_clf, combined_pred_prob, y_probe, cv=10)\n",
    "print(\"%0.2f+/-%0.2f\" % (np.mean(blend_cv_scores), np.std(blend_cv_scores)))"
   ]
  },
  {
   "cell_type": "markdown",
   "metadata": {},
   "source": [
    "Putting this all together:"
   ]
  },
  {
   "cell_type": "code",
   "execution_count": 76,
   "metadata": {
    "collapsed": true
   },
   "outputs": [],
   "source": [
    "lr_clf = skl_lm.LogisticRegression()\n",
    "\n",
    "blend_results_list = []\n",
    "\n",
    "for params in skl_gs.ParameterGrid(rf_param_grid):\n",
    "    rf_clf.set_params(**params)\n",
    "    rf_clf.fit(X_train, y_train)\n",
    "    y_rf_pred_probs = rf_clf.predict_proba(X_probe)\n",
    "    y_rf_pred_probs = pd.DataFrame({'rf_pred_prob_survival': y_rf_pred_probs.transpose()[1], 'id':X_probe.index})\n",
    "    \n",
    "    combined_pred_prob = pd.merge(log_reg_probe_pred_probs, y_rf_pred_probs, on='id')\n",
    "    combined_pred_prob = combined_pred_prob.set_index('id')\n",
    "    \n",
    "    lr_clf.fit(combined_pred_prob, y_probe)\n",
    "\n",
    "    blend_cv_scores = skl_cv.cross_val_score(lr_clf, combined_pred_prob, y_probe, cv=10)\n",
    "    \n",
    "    blend_results_list.append([np.mean(blend_cv_scores), params])\n",
    "blend_results = pd.DataFrame(blend_results_list)\n",
    "blend_results.columns = [0, 'params']"
   ]
  },
  {
   "cell_type": "markdown",
   "metadata": {},
   "source": [
    "### Generating probe predictions for RF"
   ]
  },
  {
   "cell_type": "code",
   "execution_count": 81,
   "metadata": {
    "collapsed": true
   },
   "outputs": [],
   "source": [
    "best_blend = blend_results.ix[blend_results[0].idxmax(),:]\n",
    "\n",
    "best_rf_clf = skl_ensemble.RandomForestClassifier()\n",
    "best_rf_clf.set_params(**best_blend[1])\n",
    "\n",
    "best_rf_clf.fit(X_train, y_train)\n",
    "\n",
    "\n",
    "y_probe_pred = best_rf_clf.predict(X_probe)\n",
    "y_probe_pred_probs = best_rf_clf.predict_proba(X_probe)\n",
    "\n",
    "y_pred_prob_survived = pd.DataFrame(pd.DataFrame(y_probe_pred_probs)[1])\n",
    "y_pred_prob_survived['id'] = X_probe.index\n",
    "y_pred_prob_survived.columns = ['rf_prob_survival','id']\n",
    "y_pred_prob_survived.to_csv('Stacked Generalization/Data/rf_probe_pred.csv', index=False)"
   ]
  },
  {
   "cell_type": "markdown",
   "metadata": {},
   "source": [
    "## Blending test predictions with RF"
   ]
  },
  {
   "cell_type": "code",
   "execution_count": 80,
   "metadata": {
    "collapsed": false
   },
   "outputs": [],
   "source": [
    "best_blend = blend_results.ix[blend_results[0].idxmax(),:]\n",
    "\n",
    "best_rf_clf = skl_ensemble.RandomForestClassifier()\n",
    "best_rf_clf.set_params(**best_blend[1])\n",
    "\n",
    "best_rf_clf.fit(X, y)\n",
    "y_pred = best_rf_clf.predict(X_test)\n",
    "y_pred_probs = best_rf_clf.predict_proba(X_test)\n",
    "\n",
    "y_pred_prob_survived = pd.DataFrame(pd.DataFrame(y_pred_probs)[1])\n",
    "y_pred_prob_survived['test_id'] = X_test_ids\n",
    "y_pred_prob_survived.columns = ['rf_perc_survival','test_id']\n",
    "y_pred_prob_survived.to_csv('Stacked Generalization/Data/rf_test_pred.csv', index=False)"
   ]
  },
  {
   "cell_type": "code",
   "execution_count": null,
   "metadata": {
    "collapsed": true
   },
   "outputs": [],
   "source": []
  }
 ],
 "metadata": {
  "kernelspec": {
   "display_name": "Python 2",
   "language": "python",
   "name": "python2"
  },
  "language_info": {
   "codemirror_mode": {
    "name": "ipython",
    "version": 2
   },
   "file_extension": ".py",
   "mimetype": "text/x-python",
   "name": "python",
   "nbconvert_exporter": "python",
   "pygments_lexer": "ipython2",
   "version": "2.7.10"
  }
 },
 "nbformat": 4,
 "nbformat_minor": 0
}
