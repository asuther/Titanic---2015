{
 "cells": [
  {
   "cell_type": "markdown",
   "metadata": {},
   "source": [
    "# Logistic Regresion with Is_male, Pclass, and "
   ]
  },
  {
   "cell_type": "markdown",
   "metadata": {},
   "source": [
    "## Finding well predicting models with different aspects of the features\n",
    "\n",
    "The goal of stacked generalizations is to create a diverse set of models that predict in different fashions, then blend them together with a meta-learner. \n",
    "\n",
    "In my first iteration, I will create as many models as possible that predict with >0.75 accuracy. The goal will be to generate models that predict with different features so that there is not a large degree of correlation between the predictions. This will ensure the greatest chance for improvement in the final blended model.\n",
    "\n",
    "Let's start:"
   ]
  },
  {
   "cell_type": "markdown",
   "metadata": {},
   "source": [
    "## Logistic Regression"
   ]
  },
  {
   "cell_type": "code",
   "execution_count": 1,
   "metadata": {
    "collapsed": false
   },
   "outputs": [],
   "source": [
    "import os\n",
    "os.chdir('C:\\Users\\Lundi\\Documents\\Programming\\Python\\Kaggle\\Titanic - 2015\\Stacked Generalization')\n",
    "import metaLearning as meta\n",
    "\n",
    "meta_learning = meta.metaLearning"
   ]
  },
  {
   "cell_type": "code",
   "execution_count": 48,
   "metadata": {
    "collapsed": false
   },
   "outputs": [],
   "source": [
    "os.chdir('C:\\Users\\Lundi\\Documents\\Programming\\Python\\Kaggle\\Titanic - 2015')\n",
    "#os.chdir('/Users/alexsutherland/Documents/Programming/Python/Kaggle/Titanic---2015')\n",
    "\n",
    "import TitanicPreprocessor as tp\n",
    "import TitanicPredictor as tpred\n",
    "import sklearn.linear_model as skl_lm\n",
    "import sklearn.grid_search as skl_gs\n",
    "import sklearn.cross_validation as skl_cv\n",
    "import numpy as np\n",
    "import pandas as pd\n",
    "\n",
    "%matplotlib inline\n",
    "import matplotlib.pyplot as plt\n",
    "import seaborn as sns\n",
    "\n",
    "X, y, X_test, X_test_ids = tp.getData()\n",
    "\n",
    "X_train, X_probe, y_train, y_probe = skl_cv.train_test_split(X, y, test_size=0.25, random_state = 0)"
   ]
  },
  {
   "cell_type": "markdown",
   "metadata": {},
   "source": [
    "Creating the model"
   ]
  },
  {
   "cell_type": "code",
   "execution_count": 49,
   "metadata": {
    "collapsed": false
   },
   "outputs": [],
   "source": [
    "lr_clf = skl_lm.LogisticRegression()\n",
    "\n",
    "lr_grid_params = [\n",
    "    {'penalty': ['l1','l2'], 'C': np.logspace(-10,10,num=30)}\n",
    "]\n",
    "\n",
    "gs_lr_clf = skl_gs.GridSearchCV(lr_clf, param_grid=lr_grid_params, cv=10)"
   ]
  },
  {
   "cell_type": "code",
   "execution_count": 50,
   "metadata": {
    "collapsed": false
   },
   "outputs": [
    {
     "data": {
      "text/plain": [
       "GridSearchCV(cv=10, error_score='raise',\n",
       "       estimator=LogisticRegression(C=1.0, class_weight=None, dual=False, fit_intercept=True,\n",
       "          intercept_scaling=1, max_iter=100, multi_class='ovr', n_jobs=1,\n",
       "          penalty='l2', random_state=None, solver='liblinear', tol=0.0001,\n",
       "          verbose=0, warm_start=False),\n",
       "       fit_params={}, iid=True, n_jobs=1,\n",
       "       param_grid=[{'penalty': ['l1', 'l2'], 'C': array([  1.00000e-10,   4.89390e-10,   2.39503e-09,   1.17210e-08,\n",
       "         5.73615e-08,   2.80722e-07,   1.37382e-06,   6.72336e-06,\n",
       "         3.29034e-05,   1.61026e-04,   7.88046e-04,   3.85662e-03,\n",
       "         1.88739e-02,   9.23671e-02,   4.52035e-01,   2....   3.56225e+06,   1.74333e+07,   8.53168e+07,   4.17532e+08,\n",
       "         2.04336e+09,   1.00000e+10])}],\n",
       "       pre_dispatch='2*n_jobs', refit=True, scoring=None, verbose=0)"
      ]
     },
     "execution_count": 50,
     "metadata": {},
     "output_type": "execute_result"
    }
   ],
   "source": [
    "gs_lr_clf.fit(X_train,y_train)"
   ]
  },
  {
   "cell_type": "code",
   "execution_count": 51,
   "metadata": {
    "collapsed": false
   },
   "outputs": [
    {
     "name": "stdout",
     "output_type": "stream",
     "text": [
      "0.61+/-0.00 {'penalty': 'l1', 'C': 1e-10}\n",
      "0.66+/-0.04 {'penalty': 'l2', 'C': 1e-10}\n",
      "0.61+/-0.00 {'penalty': 'l1', 'C': 4.8939009184774994e-10}\n",
      "0.66+/-0.04 {'penalty': 'l2', 'C': 4.8939009184774994e-10}\n",
      "0.61+/-0.00 {'penalty': 'l1', 'C': 2.3950266199874909e-09}\n",
      "0.66+/-0.04 {'penalty': 'l2', 'C': 2.3950266199874909e-09}\n",
      "0.61+/-0.00 {'penalty': 'l1', 'C': 1.1721022975334793e-08}\n",
      "0.66+/-0.04 {'penalty': 'l2', 'C': 1.1721022975334793e-08}\n",
      "0.61+/-0.00 {'penalty': 'l1', 'C': 5.7361525104486813e-08}\n",
      "0.66+/-0.04 {'penalty': 'l2', 'C': 5.7361525104486813e-08}\n",
      "0.61+/-0.00 {'penalty': 'l1', 'C': 2.8072162039411812e-07}\n",
      "0.65+/-0.04 {'penalty': 'l2', 'C': 2.8072162039411812e-07}\n",
      "0.61+/-0.00 {'penalty': 'l1', 'C': 1.3738237958832638e-06}\n",
      "0.65+/-0.04 {'penalty': 'l2', 'C': 1.3738237958832638e-06}\n",
      "0.61+/-0.00 {'penalty': 'l1', 'C': 6.7233575364993352e-06}\n",
      "0.65+/-0.03 {'penalty': 'l2', 'C': 6.7233575364993352e-06}\n",
      "0.61+/-0.00 {'penalty': 'l1', 'C': 3.290344562312671e-05}\n",
      "0.65+/-0.04 {'penalty': 'l2', 'C': 3.290344562312671e-05}\n",
      "0.61+/-0.00 {'penalty': 'l1', 'C': 0.00016102620275609426}\n",
      "0.65+/-0.04 {'penalty': 'l2', 'C': 0.00016102620275609426}\n",
      "0.63+/-0.03 {'penalty': 'l1', 'C': 0.00078804628156699198}\n",
      "0.67+/-0.03 {'penalty': 'l2', 'C': 0.00078804628156699198}\n",
      "0.65+/-0.04 {'penalty': 'l1', 'C': 0.0038566204211634724}\n",
      "0.68+/-0.03 {'penalty': 'l2', 'C': 0.0038566204211634724}\n",
      "0.69+/-0.03 {'penalty': 'l1', 'C': 0.018873918221350997}\n",
      "0.71+/-0.03 {'penalty': 'l2', 'C': 0.018873918221350997}\n",
      "0.79+/-0.04 {'penalty': 'l1', 'C': 0.092367085718738848}\n",
      "0.80+/-0.03 {'penalty': 'l2', 'C': 0.092367085718738848}\n",
      "0.80+/-0.03 {'penalty': 'l1', 'C': 0.45203536563602409}\n",
      "0.80+/-0.04 {'penalty': 'l2', 'C': 0.45203536563602409}\n",
      "0.80+/-0.03 {'penalty': 'l1', 'C': 2.2122162910704501}\n",
      "0.80+/-0.03 {'penalty': 'l2', 'C': 2.2122162910704501}\n",
      "0.80+/-0.03 {'penalty': 'l1', 'C': 10.826367338740562}\n",
      "0.80+/-0.03 {'penalty': 'l2', 'C': 10.826367338740562}\n",
      "0.80+/-0.03 {'penalty': 'l1', 'C': 52.983169062837234}\n",
      "0.80+/-0.03 {'penalty': 'l2', 'C': 52.983169062837234}\n",
      "0.80+/-0.03 {'penalty': 'l1', 'C': 259.29437974046778}\n",
      "0.80+/-0.03 {'penalty': 'l2', 'C': 259.29437974046778}\n",
      "0.80+/-0.03 {'penalty': 'l1', 'C': 1268.9610031679233}\n",
      "0.80+/-0.03 {'penalty': 'l2', 'C': 1268.9610031679233}\n",
      "0.80+/-0.03 {'penalty': 'l1', 'C': 6210.1694189156287}\n",
      "0.80+/-0.03 {'penalty': 'l2', 'C': 6210.1694189156287}\n",
      "0.80+/-0.03 {'penalty': 'l1', 'C': 30391.953823132073}\n",
      "0.80+/-0.03 {'penalty': 'l2', 'C': 30391.953823132073}\n",
      "0.80+/-0.03 {'penalty': 'l1', 'C': 148735.21072935118}\n",
      "0.80+/-0.03 {'penalty': 'l2', 'C': 148735.21072935118}\n",
      "0.80+/-0.03 {'penalty': 'l1', 'C': 727895.38439831615}\n",
      "0.80+/-0.03 {'penalty': 'l2', 'C': 727895.38439831615}\n",
      "0.80+/-0.03 {'penalty': 'l1', 'C': 3562247.8902624515}\n",
      "0.80+/-0.03 {'penalty': 'l2', 'C': 3562247.8902624515}\n",
      "0.80+/-0.03 {'penalty': 'l1', 'C': 17433288.221999943}\n",
      "0.80+/-0.03 {'penalty': 'l2', 'C': 17433288.221999943}\n",
      "0.80+/-0.03 {'penalty': 'l1', 'C': 85316785.241728485}\n",
      "0.80+/-0.03 {'penalty': 'l2', 'C': 85316785.241728485}\n",
      "0.80+/-0.03 {'penalty': 'l1', 'C': 417531893.65604258}\n",
      "0.80+/-0.03 {'penalty': 'l2', 'C': 417531893.65604258}\n",
      "0.80+/-0.03 {'penalty': 'l1', 'C': 2043359717.8569396}\n",
      "0.80+/-0.03 {'penalty': 'l2', 'C': 2043359717.8569396}\n",
      "0.80+/-0.03 {'penalty': 'l1', 'C': 10000000000.0}\n",
      "0.80+/-0.03 {'penalty': 'l2', 'C': 10000000000.0}\n"
     ]
    }
   ],
   "source": [
    "for params, mean_score, scores in gs_lr_clf.grid_scores_:\n",
    "    print(\"%0.2f+/-%0.2f %r\" % (mean_score, np.std(scores), params))"
   ]
  },
  {
   "cell_type": "markdown",
   "metadata": {},
   "source": [
    "### Feature weight vs. C value"
   ]
  },
  {
   "cell_type": "code",
   "execution_count": 52,
   "metadata": {
    "collapsed": false
   },
   "outputs": [],
   "source": [
    "lr_l1_coefs = []\n",
    "cv_pred_accuracy = []\n",
    "\n",
    "for current_C in np.logspace(-10,10,num=30):\n",
    "    lr_clf = skl_lm.LogisticRegression(penalty='l1', C = current_C)\n",
    "    lr_clf.fit(X_train, y_train)\n",
    "    coef_list = lr_clf.coef_[0].tolist()\n",
    "    coef_list.extend([current_C])\n",
    "    lr_l1_coefs.append(lr_clf.coef_[0])\n",
    "    cv_pred_accuracy.append(np.mean(skl_cv.cross_val_score(lr_clf, X_train, y_train, cv=10)))"
   ]
  },
  {
   "cell_type": "code",
   "execution_count": 53,
   "metadata": {
    "collapsed": false
   },
   "outputs": [
    {
     "data": {
      "text/plain": [
       "[<matplotlib.lines.Line2D at 0x1edce048>]"
      ]
     },
     "execution_count": 53,
     "metadata": {},
     "output_type": "execute_result"
    },
    {
     "data": {
      "image/png": "[encoded data removed]",
      "text/plain": [
       "<matplotlib.figure.Figure at 0x1eb75198>"
      ]
     },
     "metadata": {},
     "output_type": "display_data"
    }
   ],
   "source": [
    "plt.rcParams['figure.figsize'] = 12,8\n",
    "ax = plt.gca()\n",
    "ax.set_color_cycle(['b', 'r', 'g', 'c', 'k', 'y', 'm','y'])\n",
    "\n",
    "ax.plot(np.logspace(-10,10, num=30), lr_l1_coefs)\n",
    "ax.set_xscale('log')\n",
    "ax.set_xlim(ax.get_xlim()[::-1])  # reverse axis\n",
    "ax.legend(X_train.columns, loc='lower right')\n",
    "ax.plot(np.logspace(-10,10, num=30), cv_pred_accuracy)"
   ]
  },
  {
   "cell_type": "markdown",
   "metadata": {},
   "source": [
    "Looking at this, I can see that the only features present at ~$C = 10^{-1}$ are Is_male, Pclass, and sibling. Let's generate a model with this three models only."
   ]
  },
  {
   "cell_type": "code",
   "execution_count": 54,
   "metadata": {
    "collapsed": false
   },
   "outputs": [
    {
     "name": "stdout",
     "output_type": "stream",
     "text": [
      "0.61+/-0.00 {'penalty': 'l1', 'C': 1e-10}\n",
      "0.66+/-0.04 {'penalty': 'l2', 'C': 1e-10}\n",
      "0.61+/-0.00 {'penalty': 'l1', 'C': 4.8939009184774994e-10}\n",
      "0.66+/-0.04 {'penalty': 'l2', 'C': 4.8939009184774994e-10}\n",
      "0.61+/-0.00 {'penalty': 'l1', 'C': 2.3950266199874909e-09}\n",
      "0.66+/-0.04 {'penalty': 'l2', 'C': 2.3950266199874909e-09}\n",
      "0.61+/-0.00 {'penalty': 'l1', 'C': 1.1721022975334793e-08}\n",
      "0.66+/-0.04 {'penalty': 'l2', 'C': 1.1721022975334793e-08}\n",
      "0.61+/-0.00 {'penalty': 'l1', 'C': 5.7361525104486813e-08}\n",
      "0.66+/-0.04 {'penalty': 'l2', 'C': 5.7361525104486813e-08}\n",
      "0.61+/-0.00 {'penalty': 'l1', 'C': 2.8072162039411812e-07}\n",
      "0.65+/-0.04 {'penalty': 'l2', 'C': 2.8072162039411812e-07}\n",
      "0.61+/-0.00 {'penalty': 'l1', 'C': 1.3738237958832638e-06}\n",
      "0.65+/-0.04 {'penalty': 'l2', 'C': 1.3738237958832638e-06}\n",
      "0.61+/-0.00 {'penalty': 'l1', 'C': 6.7233575364993352e-06}\n",
      "0.65+/-0.03 {'penalty': 'l2', 'C': 6.7233575364993352e-06}\n",
      "0.61+/-0.00 {'penalty': 'l1', 'C': 3.290344562312671e-05}\n",
      "0.65+/-0.04 {'penalty': 'l2', 'C': 3.290344562312671e-05}\n",
      "0.61+/-0.00 {'penalty': 'l1', 'C': 0.00016102620275609426}\n",
      "0.65+/-0.04 {'penalty': 'l2', 'C': 0.00016102620275609426}\n",
      "0.63+/-0.03 {'penalty': 'l1', 'C': 0.00078804628156699198}\n",
      "0.67+/-0.03 {'penalty': 'l2', 'C': 0.00078804628156699198}\n",
      "0.65+/-0.04 {'penalty': 'l1', 'C': 0.0038566204211634724}\n",
      "0.68+/-0.03 {'penalty': 'l2', 'C': 0.0038566204211634724}\n",
      "0.69+/-0.03 {'penalty': 'l1', 'C': 0.018873918221350997}\n",
      "0.71+/-0.03 {'penalty': 'l2', 'C': 0.018873918221350997}\n",
      "0.79+/-0.04 {'penalty': 'l1', 'C': 0.092367085718738848}\n",
      "0.80+/-0.03 {'penalty': 'l2', 'C': 0.092367085718738848}\n",
      "0.80+/-0.03 {'penalty': 'l1', 'C': 0.45203536563602409}\n",
      "0.80+/-0.04 {'penalty': 'l2', 'C': 0.45203536563602409}\n",
      "0.80+/-0.03 {'penalty': 'l1', 'C': 2.2122162910704501}\n",
      "0.80+/-0.03 {'penalty': 'l2', 'C': 2.2122162910704501}\n",
      "0.80+/-0.03 {'penalty': 'l1', 'C': 10.826367338740562}\n",
      "0.80+/-0.03 {'penalty': 'l2', 'C': 10.826367338740562}\n",
      "0.80+/-0.03 {'penalty': 'l1', 'C': 52.983169062837234}\n",
      "0.80+/-0.03 {'penalty': 'l2', 'C': 52.983169062837234}\n",
      "0.80+/-0.03 {'penalty': 'l1', 'C': 259.29437974046778}\n",
      "0.80+/-0.03 {'penalty': 'l2', 'C': 259.29437974046778}\n",
      "0.80+/-0.03 {'penalty': 'l1', 'C': 1268.9610031679233}\n",
      "0.80+/-0.03 {'penalty': 'l2', 'C': 1268.9610031679233}\n",
      "0.80+/-0.03 {'penalty': 'l1', 'C': 6210.1694189156287}\n",
      "0.80+/-0.03 {'penalty': 'l2', 'C': 6210.1694189156287}\n",
      "0.80+/-0.03 {'penalty': 'l1', 'C': 30391.953823132073}\n",
      "0.80+/-0.03 {'penalty': 'l2', 'C': 30391.953823132073}\n",
      "0.80+/-0.03 {'penalty': 'l1', 'C': 148735.21072935118}\n",
      "0.80+/-0.03 {'penalty': 'l2', 'C': 148735.21072935118}\n",
      "0.80+/-0.03 {'penalty': 'l1', 'C': 727895.38439831615}\n",
      "0.80+/-0.03 {'penalty': 'l2', 'C': 727895.38439831615}\n",
      "0.80+/-0.03 {'penalty': 'l1', 'C': 3562247.8902624515}\n",
      "0.80+/-0.03 {'penalty': 'l2', 'C': 3562247.8902624515}\n",
      "0.80+/-0.03 {'penalty': 'l1', 'C': 17433288.221999943}\n",
      "0.80+/-0.03 {'penalty': 'l2', 'C': 17433288.221999943}\n",
      "0.80+/-0.03 {'penalty': 'l1', 'C': 85316785.241728485}\n",
      "0.80+/-0.03 {'penalty': 'l2', 'C': 85316785.241728485}\n",
      "0.80+/-0.03 {'penalty': 'l1', 'C': 417531893.65604258}\n",
      "0.80+/-0.03 {'penalty': 'l2', 'C': 417531893.65604258}\n",
      "0.80+/-0.03 {'penalty': 'l1', 'C': 2043359717.8569396}\n",
      "0.80+/-0.03 {'penalty': 'l2', 'C': 2043359717.8569396}\n",
      "0.80+/-0.03 {'penalty': 'l1', 'C': 10000000000.0}\n",
      "0.80+/-0.03 {'penalty': 'l2', 'C': 10000000000.0}\n"
     ]
    }
   ],
   "source": [
    "for params, mean_score, scores in gs_lr_clf.grid_scores_:\n",
    "    print(\"%0.2f+/-%0.2f %r\" % (mean_score, np.std(scores), params))"
   ]
  },
  {
   "cell_type": "markdown",
   "metadata": {},
   "source": [
    "This definitely shows that higher C (lower penalty improves the model). However, because I want some penalty, I will choose a model that has slightly less than 0.8 accuracy with a significant penalty:"
   ]
  },
  {
   "cell_type": "code",
   "execution_count": 55,
   "metadata": {
    "collapsed": false
   },
   "outputs": [
    {
     "name": "stdout",
     "output_type": "stream",
     "text": [
      "0.65+/-0.04 {'penalty': 'l1', 'C': 0.01}\n",
      "0.65+/-0.04 {'penalty': 'l1', 'C': 0.010826367338740546}\n",
      "0.65+/-0.04 {'penalty': 'l1', 'C': 0.0117210229753348}\n",
      "0.65+/-0.04 {'penalty': 'l1', 'C': 0.01268961003167922}\n",
      "0.65+/-0.03 {'penalty': 'l1', 'C': 0.01373823795883263}\n",
      "0.66+/-0.04 {'penalty': 'l1', 'C': 0.014873521072935119}\n",
      "0.67+/-0.04 {'penalty': 'l1', 'C': 0.016102620275609391}\n",
      "0.68+/-0.03 {'penalty': 'l1', 'C': 0.017433288221999882}\n",
      "0.69+/-0.03 {'penalty': 'l1', 'C': 0.018873918221350976}\n",
      "0.69+/-0.02 {'penalty': 'l1', 'C': 0.020433597178569417}\n",
      "0.71+/-0.04 {'penalty': 'l1', 'C': 0.022122162910704492}\n",
      "0.73+/-0.04 {'penalty': 'l1', 'C': 0.023950266199874861}\n",
      "0.73+/-0.04 {'penalty': 'l1', 'C': 0.025929437974046669}\n",
      "0.74+/-0.03 {'penalty': 'l1', 'C': 0.02807216203941177}\n",
      "0.76+/-0.04 {'penalty': 'l1', 'C': 0.030391953823131979}\n",
      "0.78+/-0.05 {'penalty': 'l1', 'C': 0.032903445623126679}\n",
      "0.78+/-0.04 {'penalty': 'l1', 'C': 0.035622478902624426}\n",
      "0.79+/-0.04 {'penalty': 'l1', 'C': 0.038566204211634723}\n",
      "0.79+/-0.04 {'penalty': 'l1', 'C': 0.041753189365604002}\n",
      "0.78+/-0.04 {'penalty': 'l1', 'C': 0.045203536563602431}\n",
      "0.79+/-0.04 {'penalty': 'l1', 'C': 0.048939009184774937}\n",
      "0.78+/-0.04 {'penalty': 'l1', 'C': 0.052983169062837072}\n",
      "0.78+/-0.04 {'penalty': 'l1', 'C': 0.057361525104486784}\n",
      "0.79+/-0.04 {'penalty': 'l1', 'C': 0.062101694189156162}\n",
      "0.79+/-0.04 {'penalty': 'l1', 'C': 0.067233575364993345}\n",
      "0.79+/-0.04 {'penalty': 'l1', 'C': 0.072789538439831505}\n",
      "0.79+/-0.04 {'penalty': 'l1', 'C': 0.078804628156699127}\n",
      "0.79+/-0.04 {'penalty': 'l1', 'C': 0.08531678524172806}\n",
      "0.79+/-0.04 {'penalty': 'l1', 'C': 0.092367085718738612}\n",
      "0.79+/-0.04 {'penalty': 'l1', 'C': 0.10000000000000001}\n"
     ]
    }
   ],
   "source": [
    "lr_C_optimization_grid_params = [\n",
    "    {'penalty': ['l1'], 'C': np.logspace(-2,-1,num=30)}\n",
    "]\n",
    "\n",
    "gs_lr_C_optimization_clf = skl_gs.GridSearchCV(lr_clf, param_grid=lr_C_optimization_grid_params, cv=10)\n",
    "gs_lr_C_optimization_clf.fit(X_train, y_train)\n",
    "\n",
    "for params, mean_score, scores in gs_lr_C_optimization_clf.grid_scores_:\n",
    "    print(\"%0.2f+/-%0.2f %r\" % (mean_score, np.std(scores), params))"
   ]
  },
  {
   "cell_type": "code",
   "execution_count": 60,
   "metadata": {
    "collapsed": false
   },
   "outputs": [
    {
     "name": "stdout",
     "output_type": "stream",
     "text": [
      "Optimized Log Reg. Mean (training CV): 0.79+/-0.04\n"
     ]
    }
   ],
   "source": [
    "lr_clf = skl_lm.LogisticRegression(penalty='l1', C=0.04)\n",
    "lr_clf.fit(X_train, y_train)\n",
    "\n",
    "lr_cv_scores = skl_cv.cross_val_score(lr_clf, X_train, y_train, cv=10)\n",
    "print (\"Optimized Log Reg. Mean (training CV): %0.2f+/-%0.2f\" % (np.mean(lr_cv_scores), np.std(lr_cv_scores)))\n"
   ]
  },
  {
   "cell_type": "markdown",
   "metadata": {},
   "source": [
    "## Predicting probe with optimized Logistic Regression Model "
   ]
  },
  {
   "cell_type": "code",
   "execution_count": 67,
   "metadata": {
    "collapsed": false
   },
   "outputs": [],
   "source": [
    "lr_clf = skl_lm.LogisticRegression(penalty='l1', C=0.04)\n",
    "\n",
    "lr_clf.fit(X_train, y_train)\n",
    "\n",
    "y_probe_pred = lr_clf.predict(X_probe)\n",
    "y_probe_pred_probs = lr_clf.predict_proba(X_probe)\n",
    "\n",
    "y_pred_prob_survived = pd.DataFrame(pd.DataFrame(y_probe_pred_probs)[1])\n",
    "y_pred_prob_survived['id'] = X_probe.index\n",
    "y_pred_prob_survived.columns = ['lr_prob_survival','id']\n",
    "y_pred_prob_survived.to_csv('Stacked Generalization/Data/log_reg_probe_pred.csv', index=False)"
   ]
  },
  {
   "cell_type": "markdown",
   "metadata": {},
   "source": [
    "## Predicting test set with Log Regr Model:"
   ]
  },
  {
   "cell_type": "code",
   "execution_count": 66,
   "metadata": {
    "collapsed": false
   },
   "outputs": [],
   "source": [
    "lr_clf = skl_lm.LogisticRegression(penalty='l1', C=0.04)\n",
    "\n",
    "lr_clf.fit(X, y)\n",
    "y_pred = lr_clf.predict(X_test)\n",
    "y_pred_probs = lr_clf.predict_proba(X_test)\n",
    "\n",
    "y_pred_prob_survived = pd.DataFrame(pd.DataFrame(y_pred_probs)[1])\n",
    "y_pred_prob_survived['test_id'] = X_test_ids\n",
    "y_pred_prob_survived.columns = ['lr_perc_survival','test_id']\n",
    "y_pred_prob_survived.to_csv('Stacked Generalization/Data/log_reg_test_pred.csv', index=False)"
   ]
  },
  {
   "cell_type": "code",
   "execution_count": null,
   "metadata": {
    "collapsed": true
   },
   "outputs": [],
   "source": []
  }
 ],
 "metadata": {
  "kernelspec": {
   "display_name": "Python 2",
   "language": "python",
   "name": "python2"
  },
  "language_info": {
   "codemirror_mode": {
    "name": "ipython",
    "version": 2
   },
   "file_extension": ".py",
   "mimetype": "text/x-python",
   "name": "python",
   "nbconvert_exporter": "python",
   "pygments_lexer": "ipython2",
   "version": "2.7.10"
  }
 },
 "nbformat": 4,
 "nbformat_minor": 0
}
