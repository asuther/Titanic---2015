{
 "cells": [
  {
   "cell_type": "markdown",
   "metadata": {},
   "source": [
    "# Plan: Meta Learning by Combining models"
   ]
  },
  {
   "cell_type": "markdown",
   "metadata": {},
   "source": [
    "In order to improve prediction quality, I need to combine models using a meta learning combiner. This will involve taking probe predictions trained on the training data, then blending them to maximize the prediction accuracy of the probe set. \n",
    "\n",
    "The first step of this was to generate a large library of predictions of the probe set, without optimizing for performance with any hyperparamters/models. This has been completed.\n",
    "\n",
    "The second step is to generate a blend that maximizes the blend accuracy when predicting the probe set. This will be accomplished by taking a random prediction, adding it to the blend, and then seeing whether it improves the blend accuracy. If it doesn't, the next prediction is tested. This will be done with replacement, as \"Ensemble Learning from Libraries of Models\" shows this causes a more stable blend accuracy curve as more models are added. \n",
    "\n",
    "Once the blend accuracy does not change when adding further models to the blend, the paramters for the models and blend model are stored. To improve the accuracy, all models will be re-trained on the combined training and probe set. This improves accuracy because the models see more training data than before. Next, the individual models predict the test data and are then combined using the blend parameters. "
   ]
  },
  {
   "cell_type": "markdown",
   "metadata": {},
   "source": [
    "# Meta Learning by Combining Models"
   ]
  },
  {
   "cell_type": "code",
   "execution_count": 1,
   "metadata": {
    "collapsed": false
   },
   "outputs": [
    {
     "name": "stderr",
     "output_type": "stream",
     "text": [
      "/Users/alexsutherland/anaconda/lib/python2.7/site-packages/matplotlib/__init__.py:872: UserWarning: axes.color_cycle is deprecated and replaced with axes.prop_cycle; please use the latter.\n",
      "  warnings.warn(self.msg_depr % (key, alt_key))\n"
     ]
    }
   ],
   "source": [
    "import sys\n",
    "import os\n",
    "\n",
    "import socket\n",
    "computer_name = socket.gethostname()\n",
    "if computer_name == 'Alexs-MacBook-Pro.local' or computer_name == 'Alexs-MBP':\n",
    "    base_path = \"/Users/alexsutherland/Documents/Programming/Python/Kaggle/Titanic---2015\"\n",
    "else:    \n",
    "    base_path = 'C:\\Users\\Lundi\\Documents\\Programming\\Python\\Kaggle\\Titanic---2015'\n",
    "sys.path.append(base_path)\n",
    "sys.path.append(base_path + \"\\Stacked Generalization\")\n",
    "\n",
    "\n",
    "import TitanicPreprocessor as tp\n",
    "import TitanicPredictor as tpred\n",
    "import metaLearning as metaLearn\n",
    "meta_learn = metaLearn.metaLearning()\n",
    "import sklearn.ensemble as skl_ensemble\n",
    "import sklearn.linear_model as skl_lm\n",
    "import sklearn.grid_search as skl_gs\n",
    "import sklearn.cross_validation as skl_cv\n",
    "import numpy as np\n",
    "import pandas as pd\n",
    "\n",
    "%matplotlib inline\n",
    "import matplotlib.pyplot as plt\n",
    "import seaborn as sns"
   ]
  },
  {
   "cell_type": "markdown",
   "metadata": {},
   "source": [
    "## Generating models"
   ]
  },
  {
   "cell_type": "code",
   "execution_count": 2,
   "metadata": {
    "collapsed": false
   },
   "outputs": [],
   "source": [
    "meta_learn.generateExampleLogisticModels()"
   ]
  },
  {
   "cell_type": "markdown",
   "metadata": {},
   "source": [
    "## Taking a random prediction, adding it to the blend, and then seeing whether it improves the blend accuracy\n",
    "\n",
    "Generate predictions for the entire dataset using 10-fold CV.\n",
    "\n",
    "Then take those the full training set predictions and classify"
   ]
  },
  {
   "cell_type": "code",
   "execution_count": 3,
   "metadata": {
    "collapsed": true
   },
   "outputs": [],
   "source": [
    "y = meta_learn.data['y']\n",
    "X = meta_learn.data['X']"
   ]
  },
  {
   "cell_type": "code",
   "execution_count": 6,
   "metadata": {
    "collapsed": false
   },
   "outputs": [
    {
     "name": "stdout",
     "output_type": "stream",
     "text": [
      "Best individual accuracy: 0.806958473625\n"
     ]
    }
   ],
   "source": [
    "#Find best individual predictor\n",
    "best_blend_accuracy = 0\n",
    "for current_prediction_probs in meta_learn.model_X_prediction_probs:\n",
    "    current_predictions = map(lambda x: 1 if x >= 0.5 else 0, current_prediction_probs)\n",
    "    current_accuracy = np.mean(current_predictions == y)\n",
    "    if current_accuracy > best_blend_accuracy:\n",
    "        best_blend_accuracy = current_accuracy\n",
    "print 'Best individual accuracy:', best_blend_accuracy"
   ]
  },
  {
   "cell_type": "code",
   "execution_count": 45,
   "metadata": {
    "collapsed": false
   },
   "outputs": [
    {
     "name": "stdout",
     "output_type": "stream",
     "text": [
      "Start Accuracy= 0.803591470258\n",
      "48\n",
      "Current Accuracy= 0.803591470258\n",
      "10\n",
      "Current Accuracy= 0.803591470258\n",
      "35\n",
      "Current Accuracy= 0.803591470258\n",
      "40\n",
      "Current Accuracy= 0.805836139169\n",
      "25\n",
      "Current Accuracy= 0.804713804714\n",
      "94\n",
      "Current Accuracy= 0.804713804714\n",
      "65\n",
      "Current Accuracy= 0.803591470258\n",
      "7\n",
      "Current Accuracy= 0.804713804714\n",
      "30\n",
      "Current Accuracy= 0.805836139169\n",
      "69\n",
      "Current Accuracy= 0.803591470258\n",
      "73\n",
      "Current Accuracy= 0.803591470258\n",
      "74\n",
      "Current Accuracy= 0.803591470258\n",
      "86\n",
      "Current Accuracy= 0.803591470258\n",
      "31\n",
      "Current Accuracy= 0.803591470258\n",
      "2\n",
      "Current Accuracy= 0.803591470258\n",
      "3\n",
      "Current Accuracy= 0.803591470258\n",
      "13\n",
      "Current Accuracy= 0.803591470258\n",
      "57\n",
      "Current Accuracy= 0.803591470258\n",
      "96\n",
      "Current Accuracy= 0.803591470258\n",
      "64\n",
      "Current Accuracy= 0.803591470258\n",
      "42\n",
      "Current Accuracy= 0.803591470258\n",
      "36\n",
      "Current Accuracy= 0.804713804714\n",
      "51\n",
      "Current Accuracy= 0.805836139169\n",
      "74\n",
      "Current Accuracy= 0.805836139169\n",
      "2\n",
      "Current Accuracy= 0.804713804714\n",
      "7\n",
      "Current Accuracy= 0.803591470258\n",
      "38\n",
      "Current Accuracy= 0.803591470258\n",
      "92\n",
      "Current Accuracy= 0.803591470258\n",
      "73\n",
      "Current Accuracy= 0.802469135802\n",
      "2\n",
      "Current Accuracy= 0.802469135802\n",
      "63\n",
      "Current Accuracy= 0.802469135802\n",
      "30\n",
      "Current Accuracy= 0.802469135802\n",
      "68\n",
      "Current Accuracy= 0.802469135802\n",
      "30\n",
      "Current Accuracy= 0.802469135802\n",
      "47\n",
      "Current Accuracy= 0.803591470258\n",
      "55\n",
      "Current Accuracy= 0.803591470258\n",
      "71\n",
      "Current Accuracy= 0.803591470258\n",
      "53\n",
      "Current Accuracy= 0.803591470258\n",
      "89\n",
      "Current Accuracy= 0.803591470258\n",
      "64\n",
      "Current Accuracy= 0.803591470258\n",
      "88\n",
      "Current Accuracy= 0.803591470258\n",
      "68\n",
      "Current Accuracy= 0.803591470258\n",
      "15\n",
      "Current Accuracy= 0.803591470258\n",
      "14\n",
      "Current Accuracy= 0.804713804714\n",
      "44\n",
      "Current Accuracy= 0.804713804714\n",
      "1\n",
      "Current Accuracy= 0.804713804714\n",
      "3\n",
      "Current Accuracy= 0.804713804714\n",
      "71\n",
      "Current Accuracy= 0.804713804714\n",
      "5\n",
      "Current Accuracy= 0.804713804714\n",
      "44\n",
      "Current Accuracy= 0.803591470258\n",
      "92\n",
      "Current Accuracy= 0.803591470258\n",
      "17\n",
      "Current Accuracy= 0.803591470258\n",
      "43\n",
      "Current Accuracy= 0.803591470258\n",
      "44\n",
      "Current Accuracy= 0.803591470258\n",
      "90\n",
      "Current Accuracy= 0.803591470258\n",
      "99\n",
      "Current Accuracy= 0.803591470258\n",
      "96\n",
      "Current Accuracy= 0.803591470258\n",
      "40\n",
      "Current Accuracy= 0.803591470258\n",
      "13\n",
      "Current Accuracy= 0.803591470258\n",
      "49\n",
      "Current Accuracy= 0.803591470258\n",
      "65\n",
      "Current Accuracy= 0.803591470258\n",
      "52\n",
      "Current Accuracy= 0.803591470258\n",
      "2\n",
      "Current Accuracy= 0.803591470258\n",
      "22\n",
      "Current Accuracy= 0.803591470258\n",
      "5\n",
      "Current Accuracy= 0.803591470258\n",
      "57\n",
      "Current Accuracy= 0.803591470258\n",
      "51\n",
      "Current Accuracy= 0.803591470258\n",
      "48\n",
      "Current Accuracy= 0.803591470258\n",
      "0\n",
      "Current Accuracy= 0.803591470258\n",
      "78\n",
      "Current Accuracy= 0.803591470258\n",
      "44\n",
      "Current Accuracy= 0.803591470258\n",
      "26\n",
      "Current Accuracy= 0.803591470258\n",
      "39\n",
      "Current Accuracy= 0.803591470258\n",
      "19\n",
      "Current Accuracy= 0.803591470258\n",
      "6\n",
      "Current Accuracy= 0.803591470258\n",
      "77\n",
      "Current Accuracy= 0.803591470258\n",
      "43\n",
      "Current Accuracy= 0.803591470258\n",
      "17\n",
      "Current Accuracy= 0.803591470258\n",
      "7\n",
      "Current Accuracy= 0.803591470258\n",
      "85\n",
      "Current Accuracy= 0.803591470258\n",
      "89\n",
      "Current Accuracy= 0.803591470258\n",
      "72\n",
      "Current Accuracy= 0.803591470258\n",
      "63\n",
      "Current Accuracy= 0.803591470258\n",
      "99\n",
      "Current Accuracy= 0.803591470258\n",
      "66\n",
      "Current Accuracy= 0.803591470258\n",
      "33\n",
      "Current Accuracy= 0.803591470258\n",
      "82\n",
      "Current Accuracy= 0.803591470258\n",
      "23\n",
      "Current Accuracy= 0.803591470258\n",
      "9\n",
      "Current Accuracy= 0.803591470258\n",
      "3\n",
      "Current Accuracy= 0.803591470258\n",
      "44\n",
      "Current Accuracy= 0.803591470258\n",
      "4\n",
      "Current Accuracy= 0.803591470258\n",
      "81\n",
      "Current Accuracy= 0.803591470258\n",
      "79\n",
      "Current Accuracy= 0.802469135802\n",
      "29\n",
      "Current Accuracy= 0.803591470258\n",
      "36\n",
      "Current Accuracy= 0.803591470258\n",
      "94\n",
      "Current Accuracy= 0.802469135802\n",
      "19\n",
      "Current Accuracy= 0.803591470258\n",
      "0\n",
      "Current Accuracy= 0.803591470258\n",
      "81\n",
      "Current Accuracy= 0.802469135802\n"
     ]
    }
   ],
   "source": [
    "blend_prediction_set = []\n",
    "#Taking a random prediction\n",
    "current_prediction_probs = meta_learn.model_X_prediction_probs[np.random.randint(0, high=len(meta_learn.model_X_prediction_probs))]\n",
    "current_predictions = map(lambda x: 1 if x >= 0.5 else 0, current_prediction_probs)\n",
    "\n",
    "best_accuracy = np.mean(current_predictions == y)\n",
    "print 'Start Accuracy=', best_accuracy\n",
    "blend_prediction_set.append(current_prediction_probs)\n",
    "\n",
    "for i in xrange(100):\n",
    "    \n",
    "    #Adding a second random prediction\n",
    "    random_index = np.random.randint(0, high=len(meta_learn.model_X_prediction_probs))\n",
    "    print random_index\n",
    "    current_predictions = meta_learn.model_X_prediction_probs[random_index]\n",
    "    blend_prediction_set.append(current_predictions)\n",
    "\n",
    "    X_blend = pd.DataFrame(blend_prediction_set).transpose()\n",
    "\n",
    "    lm_clf = skl_lm.LogisticRegression()\n",
    "\n",
    "    n_folds = 10\n",
    "    skf = list(skl_cv.StratifiedKFold(y, n_folds))\n",
    "\n",
    "    blend_predictions = np.zeros(X_blend.shape[0])\n",
    "\n",
    "    for i, (train, test) in enumerate(skf):\n",
    "        #print \"Fold\", i\n",
    "        #train_test_split for the current fold\n",
    "        X_train = X_blend.ix[train,:]\n",
    "        y_train = y.ix[train]\n",
    "        X_test = X_blend.ix[test,:]\n",
    "        y_test = y.ix[test]\n",
    "\n",
    "        lm_clf.fit(X_train, y_train)\n",
    "        y_pred = lm_clf.predict(X_test)\n",
    "        blend_predictions[test] = y_pred\n",
    "\n",
    "    current_accuracy = np.mean(blend_predictions == y)\n",
    "    print 'Current Accuracy=', current_accuracy\n",
    "    \n",
    "    if current_accuracy > start_accuracy:\n",
    "\n",
    "#if current_blend_accuracy <= best_blend_accuracy \n",
    "    #blend_prediction_set.pop()"
   ]
  },
  {
   "cell_type": "markdown",
   "metadata": {},
   "source": [
    "## Testing that blend accuracy does not change when adding further models to the blend"
   ]
  },
  {
   "cell_type": "code",
   "execution_count": null,
   "metadata": {
    "collapsed": true
   },
   "outputs": [],
   "source": []
  },
  {
   "cell_type": "markdown",
   "metadata": {},
   "source": [
    "## Storing paramters for the models and blend model "
   ]
  },
  {
   "cell_type": "code",
   "execution_count": null,
   "metadata": {
    "collapsed": true
   },
   "outputs": [],
   "source": []
  },
  {
   "cell_type": "markdown",
   "metadata": {},
   "source": [
    "## Re-training models on the combined training and probe set"
   ]
  },
  {
   "cell_type": "code",
   "execution_count": null,
   "metadata": {
    "collapsed": true
   },
   "outputs": [],
   "source": []
  },
  {
   "cell_type": "markdown",
   "metadata": {
    "collapsed": true
   },
   "source": [
    "## Individual models predict the test data and are then combined using the blend parameters"
   ]
  },
  {
   "cell_type": "code",
   "execution_count": null,
   "metadata": {
    "collapsed": true
   },
   "outputs": [],
   "source": []
  }
 ],
 "metadata": {
  "kernelspec": {
   "display_name": "Python 2",
   "language": "python",
   "name": "python2"
  },
  "language_info": {
   "codemirror_mode": {
    "name": "ipython",
    "version": 2
   },
   "file_extension": ".py",
   "mimetype": "text/x-python",
   "name": "python",
   "nbconvert_exporter": "python",
   "pygments_lexer": "ipython2",
   "version": "2.7.11"
  }
 },
 "nbformat": 4,
 "nbformat_minor": 0
}
